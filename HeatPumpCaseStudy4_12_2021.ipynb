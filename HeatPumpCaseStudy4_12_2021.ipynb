{
 "cells": [
  {
   "cell_type": "markdown",
   "metadata": {},
   "source": [
    "# Residential Heat Pump Case Study 4:  Cold-Climate Heat Pump in a Century Townhome\n",
    "Created: 01/2022  \n",
    "Erik Janssen, Analyst Sustainable Technologies Evaluation Program (STEP)  \n",
    "Toronto and Region Conservation Authority (TRCA)  "
   ]
  },
  {
   "cell_type": "markdown",
   "metadata": {},
   "source": [
    "## 1 Introduction\n",
    "This Jupyter Notebook was used to analyze the changes in utility consumption pre- and post-retrofit for the air-source heat pump (ASHP) system analyzed in the accompanying case study. The basic process of the analysis is:\n",
    "\n",
    "1) Import utility data pre- and post-retrofit.  \n",
    "\n",
    "2) Create a linear regression model of the pre-retrofit data as a function of heating degree days (HDDs) - and CDDs if necessary. \n",
    "\n",
    "3) Determine savings by comparing baseline against actual post-retrofit utility data. \n",
    "\n",
    "4) Ensure that the utility impacts attributed to the ASHP system are reasonable by calculating the average COP from the gas savings and electricity increase. Compare the calculated average COP against manufacturer data (i.e. an expected COP). The COP calculated from the utility data should be near that expected based on the manufacturer data. Note COP was not explicitly monitoried, this is just to ensure that it is reasonable to attribute a certain gas savings to the ASHP based on how much electricity it consumed.\n",
    "\n",
    "5) Estimate utility rates and calculate other parameters like cost and carbon savings. \n",
    "\n",
    "6) Consider utility implications for carbon pricing schedule looking out to 2030 and beyond.\n",
    "\n",
    "7) Perform a full net present value (NPV) business case analysis."
   ]
  },
  {
   "cell_type": "markdown",
   "metadata": {},
   "source": [
    "## 2 Libraries"
   ]
  },
  {
   "cell_type": "code",
   "execution_count": 235,
   "metadata": {},
   "outputs": [],
   "source": [
    "# Import libraries\n",
    "import pandas as pd\n",
    "import matplotlib.pyplot as plt\n",
    "from datetime import datetime\n",
    "import numpy as np\n",
    "from scipy import stats\n",
    "from sklearn.linear_model import LinearRegression\n",
    "import datetime\n",
    "import matplotlib.dates as mdates\n",
    "\n",
    "# Set some basic parameters for plotting and visualizing data\n",
    "font = {'size'   : 16}\n",
    "plt.rc('font', **font)\n",
    "step_blue = \"#00a3af\"\n",
    "step_gold = \"#f8a81d\"\n",
    "pd.set_option('display.max_columns', None)\n",
    "MonthFmt = mdates.DateFormatter('%m/%Y')"
   ]
  },
  {
   "cell_type": "markdown",
   "metadata": {},
   "source": [
    "## 3 Import Data\n",
    "\n",
    "### 3.1 Import Weather Data"
   ]
  },
  {
   "cell_type": "code",
   "execution_count": 236,
   "metadata": {},
   "outputs": [
    {
     "name": "stderr",
     "output_type": "stream",
     "text": [
      "C:\\ProgramData\\Anaconda3\\lib\\site-packages\\IPython\\core\\interactiveshell.py:3057: DtypeWarning: Columns (4) have mixed types. Specify dtype option on import or set low_memory=False.\n",
      "  interactivity=interactivity, compiler=compiler, result=result)\n"
     ]
    },
    {
     "data": {
      "text/html": [
       "<div>\n",
       "<style scoped>\n",
       "    .dataframe tbody tr th:only-of-type {\n",
       "        vertical-align: middle;\n",
       "    }\n",
       "\n",
       "    .dataframe tbody tr th {\n",
       "        vertical-align: top;\n",
       "    }\n",
       "\n",
       "    .dataframe thead th {\n",
       "        text-align: right;\n",
       "    }\n",
       "</style>\n",
       "<table border=\"1\" class=\"dataframe\">\n",
       "  <thead>\n",
       "    <tr style=\"text-align: right;\">\n",
       "      <th></th>\n",
       "      <th>temperature</th>\n",
       "      <th>HDDs</th>\n",
       "      <th>CDDs</th>\n",
       "    </tr>\n",
       "    <tr>\n",
       "      <th>date_time_local</th>\n",
       "      <th></th>\n",
       "      <th></th>\n",
       "      <th></th>\n",
       "    </tr>\n",
       "  </thead>\n",
       "  <tbody>\n",
       "    <tr>\n",
       "      <th>2021-11-30 12:00:00</th>\n",
       "      <td>0.6</td>\n",
       "      <td>0.475000</td>\n",
       "      <td>0.0</td>\n",
       "    </tr>\n",
       "    <tr>\n",
       "      <th>2021-11-30 11:00:00</th>\n",
       "      <td>-0.2</td>\n",
       "      <td>0.508333</td>\n",
       "      <td>0.0</td>\n",
       "    </tr>\n",
       "    <tr>\n",
       "      <th>2021-11-30 10:00:00</th>\n",
       "      <td>-0.7</td>\n",
       "      <td>0.529167</td>\n",
       "      <td>0.0</td>\n",
       "    </tr>\n",
       "    <tr>\n",
       "      <th>2021-11-30 09:00:00</th>\n",
       "      <td>-1.4</td>\n",
       "      <td>0.558333</td>\n",
       "      <td>0.0</td>\n",
       "    </tr>\n",
       "    <tr>\n",
       "      <th>2021-11-30 08:00:00</th>\n",
       "      <td>-1.9</td>\n",
       "      <td>0.579167</td>\n",
       "      <td>0.0</td>\n",
       "    </tr>\n",
       "  </tbody>\n",
       "</table>\n",
       "</div>"
      ],
      "text/plain": [
       "                     temperature      HDDs  CDDs\n",
       "date_time_local                                 \n",
       "2021-11-30 12:00:00          0.6  0.475000   0.0\n",
       "2021-11-30 11:00:00         -0.2  0.508333   0.0\n",
       "2021-11-30 10:00:00         -0.7  0.529167   0.0\n",
       "2021-11-30 09:00:00         -1.4  0.558333   0.0\n",
       "2021-11-30 08:00:00         -1.9  0.579167   0.0"
      ]
     },
     "execution_count": 236,
     "metadata": {},
     "output_type": "execute_result"
    }
   ],
   "source": [
    "# Import hourly weather data file for Toronto and calculate HDDs and CDDs\n",
    "# Assumed building balance points to create the best linear relationships - in this case it was lower than usual\n",
    "toronto_weather = pd.read_csv(\"weatherstats_toronto_hourly_10yr.csv\",parse_dates=True, infer_datetime_format=True)\n",
    "toronto_weather.date_time_local = [datetime.datetime.strptime(x,'%m/%d/%Y %H:%M') for x in toronto_weather.date_time_local]\n",
    "toronto_weather = toronto_weather[['date_time_local','temperature']]\n",
    "toronto_weather['HDDs'] = [(12 - x)*(1/24) if (x < 12) else 0 for x in toronto_weather.temperature] \n",
    "toronto_weather['CDDs'] = [(x-28)*(1/24) if (x > 28) else 0 for x in toronto_weather.temperature] \n",
    "toronto_weather.index = toronto_weather.date_time_local\n",
    "del toronto_weather['date_time_local']\n",
    "toronto_weather.head()"
   ]
  },
  {
   "cell_type": "code",
   "execution_count": 237,
   "metadata": {},
   "outputs": [],
   "source": [
    "# Function that determines total HDDs in a given window of time\n",
    "def HDD_total(start_date,end_date):\n",
    "    temp_df = toronto_weather.loc[(toronto_weather.index>=start_date)&(toronto_weather.index<end_date)]\n",
    "    total_HDDs = temp_df.HDDs.sum()\n",
    "    total_CDDs = temp_df.CDDs.sum()\n",
    "    return {'HDDs':total_HDDs,\n",
    "            'CDDs':total_CDDs}"
   ]
  },
  {
   "cell_type": "markdown",
   "metadata": {},
   "source": [
    "### 3.2 Import Gas Data"
   ]
  },
  {
   "cell_type": "code",
   "execution_count": 238,
   "metadata": {},
   "outputs": [
    {
     "data": {
      "text/html": [
       "<div>\n",
       "<style scoped>\n",
       "    .dataframe tbody tr th:only-of-type {\n",
       "        vertical-align: middle;\n",
       "    }\n",
       "\n",
       "    .dataframe tbody tr th {\n",
       "        vertical-align: top;\n",
       "    }\n",
       "\n",
       "    .dataframe thead th {\n",
       "        text-align: right;\n",
       "    }\n",
       "</style>\n",
       "<table border=\"1\" class=\"dataframe\">\n",
       "  <thead>\n",
       "    <tr style=\"text-align: right;\">\n",
       "      <th></th>\n",
       "      <th>From</th>\n",
       "      <th>To</th>\n",
       "      <th>m3</th>\n",
       "    </tr>\n",
       "  </thead>\n",
       "  <tbody>\n",
       "    <tr>\n",
       "      <th>0</th>\n",
       "      <td>2019-12-28</td>\n",
       "      <td>2020-02-27</td>\n",
       "      <td>660</td>\n",
       "    </tr>\n",
       "    <tr>\n",
       "      <th>1</th>\n",
       "      <td>2020-02-27</td>\n",
       "      <td>2020-04-27</td>\n",
       "      <td>397</td>\n",
       "    </tr>\n",
       "    <tr>\n",
       "      <th>2</th>\n",
       "      <td>2020-04-27</td>\n",
       "      <td>2020-06-26</td>\n",
       "      <td>91</td>\n",
       "    </tr>\n",
       "    <tr>\n",
       "      <th>3</th>\n",
       "      <td>2020-06-26</td>\n",
       "      <td>2020-08-28</td>\n",
       "      <td>74</td>\n",
       "    </tr>\n",
       "    <tr>\n",
       "      <th>4</th>\n",
       "      <td>2020-08-28</td>\n",
       "      <td>2020-10-27</td>\n",
       "      <td>24</td>\n",
       "    </tr>\n",
       "    <tr>\n",
       "      <th>5</th>\n",
       "      <td>2020-10-27</td>\n",
       "      <td>2020-12-30</td>\n",
       "      <td>81</td>\n",
       "    </tr>\n",
       "    <tr>\n",
       "      <th>6</th>\n",
       "      <td>2020-12-30</td>\n",
       "      <td>2021-02-26</td>\n",
       "      <td>38</td>\n",
       "    </tr>\n",
       "    <tr>\n",
       "      <th>7</th>\n",
       "      <td>2021-02-26</td>\n",
       "      <td>2021-04-26</td>\n",
       "      <td>37</td>\n",
       "    </tr>\n",
       "    <tr>\n",
       "      <th>8</th>\n",
       "      <td>2021-04-26</td>\n",
       "      <td>2021-06-26</td>\n",
       "      <td>17</td>\n",
       "    </tr>\n",
       "    <tr>\n",
       "      <th>9</th>\n",
       "      <td>2021-06-26</td>\n",
       "      <td>2021-08-26</td>\n",
       "      <td>35</td>\n",
       "    </tr>\n",
       "    <tr>\n",
       "      <th>10</th>\n",
       "      <td>2021-08-26</td>\n",
       "      <td>2021-10-28</td>\n",
       "      <td>17</td>\n",
       "    </tr>\n",
       "  </tbody>\n",
       "</table>\n",
       "</div>"
      ],
      "text/plain": [
       "         From         To   m3\n",
       "0  2019-12-28 2020-02-27  660\n",
       "1  2020-02-27 2020-04-27  397\n",
       "2  2020-04-27 2020-06-26   91\n",
       "3  2020-06-26 2020-08-28   74\n",
       "4  2020-08-28 2020-10-27   24\n",
       "5  2020-10-27 2020-12-30   81\n",
       "6  2020-12-30 2021-02-26   38\n",
       "7  2021-02-26 2021-04-26   37\n",
       "8  2021-04-26 2021-06-26   17\n",
       "9  2021-06-26 2021-08-26   35\n",
       "10 2021-08-26 2021-10-28   17"
      ]
     },
     "execution_count": 238,
     "metadata": {},
     "output_type": "execute_result"
    }
   ],
   "source": [
    "# Import data\n",
    "gas_data = pd.read_csv('Gas_Consumption.csv',parse_dates = ['To','From'])\n",
    "gas_data.head(12)"
   ]
  },
  {
   "cell_type": "markdown",
   "metadata": {},
   "source": [
    "Gas data was obtained from the actual utility bills that were shared by the homeowner. \"Actual\" meter readings are taken by Enbridge every other month and these meter readings are provided on the utility bill. Gas consumption was then determined on a bi-monthly basis by determing the difference between the current \"Actual\" reading and the \"Actual\" reading from 2-months prior. This approach avoids confusion around the \"Estimated\" gas consumption data Enbridge uses for those months when \"Actual\" readings were not taken. "
   ]
  },
  {
   "cell_type": "code",
   "execution_count": 239,
   "metadata": {},
   "outputs": [
    {
     "data": {
      "text/plain": [
       "Text(0, 0.5, 'Gas Consumption [m$^{3}$]')"
      ]
     },
     "execution_count": 239,
     "metadata": {},
     "output_type": "execute_result"
    },
    {
     "data": {
      "image/png": "[encoded data removed]",
      "text/plain": [
       "<Figure size 1080x360 with 1 Axes>"
      ]
     },
     "metadata": {
      "needs_background": "light"
     },
     "output_type": "display_data"
    }
   ],
   "source": [
    "# Quick Visualization\n",
    "fig,ax = plt.subplots(figsize=(15,5))\n",
    "ax.bar(gas_data.To,gas_data.m3, width = -55, align = 'edge',color = step_blue)\n",
    "ax.xaxis.set_major_formatter(MonthFmt)\n",
    "ax.set_ylabel('Gas Consumption [m$^{3}$]')"
   ]
  },
  {
   "cell_type": "markdown",
   "metadata": {},
   "source": [
    "It's clear the gas load has almost entirely been eliminated.\n",
    "\n",
    "Now add HDDs and CDDs to the gas dataframe."
   ]
  },
  {
   "cell_type": "code",
   "execution_count": 240,
   "metadata": {},
   "outputs": [
    {
     "data": {
      "text/html": [
       "<div>\n",
       "<style scoped>\n",
       "    .dataframe tbody tr th:only-of-type {\n",
       "        vertical-align: middle;\n",
       "    }\n",
       "\n",
       "    .dataframe tbody tr th {\n",
       "        vertical-align: top;\n",
       "    }\n",
       "\n",
       "    .dataframe thead th {\n",
       "        text-align: right;\n",
       "    }\n",
       "</style>\n",
       "<table border=\"1\" class=\"dataframe\">\n",
       "  <thead>\n",
       "    <tr style=\"text-align: right;\">\n",
       "      <th></th>\n",
       "      <th>From</th>\n",
       "      <th>To</th>\n",
       "      <th>m3</th>\n",
       "      <th>HDDs</th>\n",
       "      <th>CDDs</th>\n",
       "    </tr>\n",
       "  </thead>\n",
       "  <tbody>\n",
       "    <tr>\n",
       "      <th>0</th>\n",
       "      <td>2019-12-28</td>\n",
       "      <td>2020-02-27</td>\n",
       "      <td>660</td>\n",
       "      <td>820.512500</td>\n",
       "      <td>0.000000</td>\n",
       "    </tr>\n",
       "    <tr>\n",
       "      <th>1</th>\n",
       "      <td>2020-02-27</td>\n",
       "      <td>2020-04-27</td>\n",
       "      <td>397</td>\n",
       "      <td>507.800000</td>\n",
       "      <td>0.000000</td>\n",
       "    </tr>\n",
       "    <tr>\n",
       "      <th>2</th>\n",
       "      <td>2020-04-27</td>\n",
       "      <td>2020-06-26</td>\n",
       "      <td>91</td>\n",
       "      <td>96.433333</td>\n",
       "      <td>3.362500</td>\n",
       "    </tr>\n",
       "    <tr>\n",
       "      <th>3</th>\n",
       "      <td>2020-06-26</td>\n",
       "      <td>2020-08-28</td>\n",
       "      <td>74</td>\n",
       "      <td>0.012500</td>\n",
       "      <td>24.095833</td>\n",
       "    </tr>\n",
       "    <tr>\n",
       "      <th>4</th>\n",
       "      <td>2020-08-28</td>\n",
       "      <td>2020-10-27</td>\n",
       "      <td>24</td>\n",
       "      <td>75.004167</td>\n",
       "      <td>0.029167</td>\n",
       "    </tr>\n",
       "    <tr>\n",
       "      <th>5</th>\n",
       "      <td>2020-10-27</td>\n",
       "      <td>2020-12-30</td>\n",
       "      <td>81</td>\n",
       "      <td>573.908333</td>\n",
       "      <td>0.000000</td>\n",
       "    </tr>\n",
       "    <tr>\n",
       "      <th>6</th>\n",
       "      <td>2020-12-30</td>\n",
       "      <td>2021-02-26</td>\n",
       "      <td>38</td>\n",
       "      <td>915.500000</td>\n",
       "      <td>0.000000</td>\n",
       "    </tr>\n",
       "    <tr>\n",
       "      <th>7</th>\n",
       "      <td>2021-02-26</td>\n",
       "      <td>2021-04-26</td>\n",
       "      <td>37</td>\n",
       "      <td>436.008333</td>\n",
       "      <td>0.000000</td>\n",
       "    </tr>\n",
       "    <tr>\n",
       "      <th>8</th>\n",
       "      <td>2021-04-26</td>\n",
       "      <td>2021-06-26</td>\n",
       "      <td>17</td>\n",
       "      <td>77.875000</td>\n",
       "      <td>5.291667</td>\n",
       "    </tr>\n",
       "    <tr>\n",
       "      <th>9</th>\n",
       "      <td>2021-06-26</td>\n",
       "      <td>2021-08-26</td>\n",
       "      <td>35</td>\n",
       "      <td>0.050000</td>\n",
       "      <td>10.891667</td>\n",
       "    </tr>\n",
       "    <tr>\n",
       "      <th>10</th>\n",
       "      <td>2021-08-26</td>\n",
       "      <td>2021-10-28</td>\n",
       "      <td>17</td>\n",
       "      <td>37.770833</td>\n",
       "      <td>1.370833</td>\n",
       "    </tr>\n",
       "  </tbody>\n",
       "</table>\n",
       "</div>"
      ],
      "text/plain": [
       "         From         To   m3        HDDs       CDDs\n",
       "0  2019-12-28 2020-02-27  660  820.512500   0.000000\n",
       "1  2020-02-27 2020-04-27  397  507.800000   0.000000\n",
       "2  2020-04-27 2020-06-26   91   96.433333   3.362500\n",
       "3  2020-06-26 2020-08-28   74    0.012500  24.095833\n",
       "4  2020-08-28 2020-10-27   24   75.004167   0.029167\n",
       "5  2020-10-27 2020-12-30   81  573.908333   0.000000\n",
       "6  2020-12-30 2021-02-26   38  915.500000   0.000000\n",
       "7  2021-02-26 2021-04-26   37  436.008333   0.000000\n",
       "8  2021-04-26 2021-06-26   17   77.875000   5.291667\n",
       "9  2021-06-26 2021-08-26   35    0.050000  10.891667\n",
       "10 2021-08-26 2021-10-28   17   37.770833   1.370833"
      ]
     },
     "execution_count": 240,
     "metadata": {},
     "output_type": "execute_result"
    }
   ],
   "source": [
    "# Add HDDs to gas post-retrofit dataframe\n",
    "gas_data['HDDs'] = [HDD_total(x,y)['HDDs'] for x,y in zip(gas_data.From,gas_data.To)]\n",
    "gas_data['CDDs'] = [HDD_total(x,y)['CDDs'] for x,y in zip(gas_data.From,gas_data.To)]\n",
    "gas_data"
   ]
  },
  {
   "cell_type": "markdown",
   "metadata": {},
   "source": [
    "Define pre- and post-retrofit dataframes for the gas data. Note the install took place in early November 2020. The next actual gas reading was taken 12/30/2020 - so this is when the post-retrofit dataframe must start. It finished 10 months later on 10/28/2021. The pre-retrofit period goes from 12/28/2019 to 10/27/2020. Both periods are 10-months."
   ]
  },
  {
   "cell_type": "code",
   "execution_count": 241,
   "metadata": {},
   "outputs": [],
   "source": [
    "pre_gas_data = gas_data.loc[(gas_data.index < 5)].copy()\n",
    "post_gas_data = gas_data.loc[(gas_data.index > 5)].copy()"
   ]
  },
  {
   "cell_type": "code",
   "execution_count": 242,
   "metadata": {},
   "outputs": [
    {
     "data": {
      "text/html": [
       "<div>\n",
       "<style scoped>\n",
       "    .dataframe tbody tr th:only-of-type {\n",
       "        vertical-align: middle;\n",
       "    }\n",
       "\n",
       "    .dataframe tbody tr th {\n",
       "        vertical-align: top;\n",
       "    }\n",
       "\n",
       "    .dataframe thead th {\n",
       "        text-align: right;\n",
       "    }\n",
       "</style>\n",
       "<table border=\"1\" class=\"dataframe\">\n",
       "  <thead>\n",
       "    <tr style=\"text-align: right;\">\n",
       "      <th></th>\n",
       "      <th>From</th>\n",
       "      <th>To</th>\n",
       "      <th>m3</th>\n",
       "      <th>HDDs</th>\n",
       "      <th>CDDs</th>\n",
       "    </tr>\n",
       "  </thead>\n",
       "  <tbody>\n",
       "    <tr>\n",
       "      <th>0</th>\n",
       "      <td>2019-12-28</td>\n",
       "      <td>2020-02-27</td>\n",
       "      <td>660</td>\n",
       "      <td>820.512500</td>\n",
       "      <td>0.000000</td>\n",
       "    </tr>\n",
       "    <tr>\n",
       "      <th>1</th>\n",
       "      <td>2020-02-27</td>\n",
       "      <td>2020-04-27</td>\n",
       "      <td>397</td>\n",
       "      <td>507.800000</td>\n",
       "      <td>0.000000</td>\n",
       "    </tr>\n",
       "    <tr>\n",
       "      <th>2</th>\n",
       "      <td>2020-04-27</td>\n",
       "      <td>2020-06-26</td>\n",
       "      <td>91</td>\n",
       "      <td>96.433333</td>\n",
       "      <td>3.362500</td>\n",
       "    </tr>\n",
       "    <tr>\n",
       "      <th>3</th>\n",
       "      <td>2020-06-26</td>\n",
       "      <td>2020-08-28</td>\n",
       "      <td>74</td>\n",
       "      <td>0.012500</td>\n",
       "      <td>24.095833</td>\n",
       "    </tr>\n",
       "    <tr>\n",
       "      <th>4</th>\n",
       "      <td>2020-08-28</td>\n",
       "      <td>2020-10-27</td>\n",
       "      <td>24</td>\n",
       "      <td>75.004167</td>\n",
       "      <td>0.029167</td>\n",
       "    </tr>\n",
       "  </tbody>\n",
       "</table>\n",
       "</div>"
      ],
      "text/plain": [
       "        From         To   m3        HDDs       CDDs\n",
       "0 2019-12-28 2020-02-27  660  820.512500   0.000000\n",
       "1 2020-02-27 2020-04-27  397  507.800000   0.000000\n",
       "2 2020-04-27 2020-06-26   91   96.433333   3.362500\n",
       "3 2020-06-26 2020-08-28   74    0.012500  24.095833\n",
       "4 2020-08-28 2020-10-27   24   75.004167   0.029167"
      ]
     },
     "execution_count": 242,
     "metadata": {},
     "output_type": "execute_result"
    }
   ],
   "source": [
    "# Have a look\n",
    "pre_gas_data"
   ]
  },
  {
   "cell_type": "code",
   "execution_count": 243,
   "metadata": {},
   "outputs": [
    {
     "data": {
      "text/html": [
       "<div>\n",
       "<style scoped>\n",
       "    .dataframe tbody tr th:only-of-type {\n",
       "        vertical-align: middle;\n",
       "    }\n",
       "\n",
       "    .dataframe tbody tr th {\n",
       "        vertical-align: top;\n",
       "    }\n",
       "\n",
       "    .dataframe thead th {\n",
       "        text-align: right;\n",
       "    }\n",
       "</style>\n",
       "<table border=\"1\" class=\"dataframe\">\n",
       "  <thead>\n",
       "    <tr style=\"text-align: right;\">\n",
       "      <th></th>\n",
       "      <th>From</th>\n",
       "      <th>To</th>\n",
       "      <th>m3</th>\n",
       "      <th>HDDs</th>\n",
       "      <th>CDDs</th>\n",
       "    </tr>\n",
       "  </thead>\n",
       "  <tbody>\n",
       "    <tr>\n",
       "      <th>6</th>\n",
       "      <td>2020-12-30</td>\n",
       "      <td>2021-02-26</td>\n",
       "      <td>38</td>\n",
       "      <td>915.500000</td>\n",
       "      <td>0.000000</td>\n",
       "    </tr>\n",
       "    <tr>\n",
       "      <th>7</th>\n",
       "      <td>2021-02-26</td>\n",
       "      <td>2021-04-26</td>\n",
       "      <td>37</td>\n",
       "      <td>436.008333</td>\n",
       "      <td>0.000000</td>\n",
       "    </tr>\n",
       "    <tr>\n",
       "      <th>8</th>\n",
       "      <td>2021-04-26</td>\n",
       "      <td>2021-06-26</td>\n",
       "      <td>17</td>\n",
       "      <td>77.875000</td>\n",
       "      <td>5.291667</td>\n",
       "    </tr>\n",
       "    <tr>\n",
       "      <th>9</th>\n",
       "      <td>2021-06-26</td>\n",
       "      <td>2021-08-26</td>\n",
       "      <td>35</td>\n",
       "      <td>0.050000</td>\n",
       "      <td>10.891667</td>\n",
       "    </tr>\n",
       "    <tr>\n",
       "      <th>10</th>\n",
       "      <td>2021-08-26</td>\n",
       "      <td>2021-10-28</td>\n",
       "      <td>17</td>\n",
       "      <td>37.770833</td>\n",
       "      <td>1.370833</td>\n",
       "    </tr>\n",
       "  </tbody>\n",
       "</table>\n",
       "</div>"
      ],
      "text/plain": [
       "         From         To  m3        HDDs       CDDs\n",
       "6  2020-12-30 2021-02-26  38  915.500000   0.000000\n",
       "7  2021-02-26 2021-04-26  37  436.008333   0.000000\n",
       "8  2021-04-26 2021-06-26  17   77.875000   5.291667\n",
       "9  2021-06-26 2021-08-26  35    0.050000  10.891667\n",
       "10 2021-08-26 2021-10-28  17   37.770833   1.370833"
      ]
     },
     "execution_count": 243,
     "metadata": {},
     "output_type": "execute_result"
    }
   ],
   "source": [
    "# Have a look\n",
    "post_gas_data"
   ]
  },
  {
   "cell_type": "markdown",
   "metadata": {},
   "source": [
    "Visualize gas consumption vs. HDDs."
   ]
  },
  {
   "cell_type": "code",
   "execution_count": 244,
   "metadata": {},
   "outputs": [
    {
     "data": {
      "text/plain": [
       "<matplotlib.legend.Legend at 0x1f64afb8f60>"
      ]
     },
     "execution_count": 244,
     "metadata": {},
     "output_type": "execute_result"
    },
    {
     "data": {
      "image/png": "[encoded data removed]",
      "text/plain": [
       "<Figure size 504x360 with 1 Axes>"
      ]
     },
     "metadata": {
      "needs_background": "light"
     },
     "output_type": "display_data"
    }
   ],
   "source": [
    "plt.figure(figsize=(7,5))\n",
    "plt.scatter(pre_gas_data.HDDs,pre_gas_data.m3, color = step_blue, label = 'Pre-retrofit')\n",
    "plt.scatter(post_gas_data.HDDs,post_gas_data.m3, color = step_gold, label = 'Post-retrofit')\n",
    "plt.ylabel('Gas Consumption [m$^{3}$]')\n",
    "plt.xlabel('HDDs')\n",
    "plt.grid(ls='--')\n",
    "plt.legend()"
   ]
  },
  {
   "cell_type": "markdown",
   "metadata": {},
   "source": [
    "As expected, pre-retrofit data is very linear. This will make it easy to model a baseline."
   ]
  },
  {
   "cell_type": "markdown",
   "metadata": {},
   "source": [
    "### 3.3 Import Electricity Data"
   ]
  },
  {
   "cell_type": "code",
   "execution_count": 245,
   "metadata": {},
   "outputs": [
    {
     "data": {
      "text/html": [
       "<div>\n",
       "<style scoped>\n",
       "    .dataframe tbody tr th:only-of-type {\n",
       "        vertical-align: middle;\n",
       "    }\n",
       "\n",
       "    .dataframe tbody tr th {\n",
       "        vertical-align: top;\n",
       "    }\n",
       "\n",
       "    .dataframe thead th {\n",
       "        text-align: right;\n",
       "    }\n",
       "</style>\n",
       "<table border=\"1\" class=\"dataframe\">\n",
       "  <thead>\n",
       "    <tr style=\"text-align: right;\">\n",
       "      <th></th>\n",
       "      <th>From</th>\n",
       "      <th>To</th>\n",
       "      <th>kWh_PreAdj</th>\n",
       "      <th>kWh</th>\n",
       "      <th>Factor</th>\n",
       "    </tr>\n",
       "  </thead>\n",
       "  <tbody>\n",
       "    <tr>\n",
       "      <th>0</th>\n",
       "      <td>2021-11-10</td>\n",
       "      <td>2021-12-09</td>\n",
       "      <td>1203</td>\n",
       "      <td>1238.4885</td>\n",
       "      <td>1.029500</td>\n",
       "    </tr>\n",
       "    <tr>\n",
       "      <th>1</th>\n",
       "      <td>2021-10-12</td>\n",
       "      <td>2021-11-10</td>\n",
       "      <td>581</td>\n",
       "      <td>598.1395</td>\n",
       "      <td>1.029500</td>\n",
       "    </tr>\n",
       "    <tr>\n",
       "      <th>2</th>\n",
       "      <td>2021-09-10</td>\n",
       "      <td>2021-10-12</td>\n",
       "      <td>389</td>\n",
       "      <td>400.4755</td>\n",
       "      <td>1.029500</td>\n",
       "    </tr>\n",
       "    <tr>\n",
       "      <th>3</th>\n",
       "      <td>2021-08-11</td>\n",
       "      <td>2021-09-10</td>\n",
       "      <td>535</td>\n",
       "      <td>550.7825</td>\n",
       "      <td>1.029500</td>\n",
       "    </tr>\n",
       "    <tr>\n",
       "      <th>4</th>\n",
       "      <td>2021-07-12</td>\n",
       "      <td>2021-08-11</td>\n",
       "      <td>442</td>\n",
       "      <td>455.0390</td>\n",
       "      <td>1.029500</td>\n",
       "    </tr>\n",
       "    <tr>\n",
       "      <th>5</th>\n",
       "      <td>2021-06-12</td>\n",
       "      <td>2021-07-12</td>\n",
       "      <td>394</td>\n",
       "      <td>405.6230</td>\n",
       "      <td>1.029500</td>\n",
       "    </tr>\n",
       "    <tr>\n",
       "      <th>6</th>\n",
       "      <td>2021-05-11</td>\n",
       "      <td>2021-06-12</td>\n",
       "      <td>318</td>\n",
       "      <td>327.3810</td>\n",
       "      <td>1.029500</td>\n",
       "    </tr>\n",
       "    <tr>\n",
       "      <th>7</th>\n",
       "      <td>2021-04-12</td>\n",
       "      <td>2021-05-11</td>\n",
       "      <td>550</td>\n",
       "      <td>566.2250</td>\n",
       "      <td>1.029500</td>\n",
       "    </tr>\n",
       "    <tr>\n",
       "      <th>8</th>\n",
       "      <td>2021-03-09</td>\n",
       "      <td>2021-04-12</td>\n",
       "      <td>808</td>\n",
       "      <td>831.8360</td>\n",
       "      <td>1.029500</td>\n",
       "    </tr>\n",
       "    <tr>\n",
       "      <th>9</th>\n",
       "      <td>2021-02-08</td>\n",
       "      <td>2021-03-09</td>\n",
       "      <td>1858</td>\n",
       "      <td>1912.8110</td>\n",
       "      <td>1.029500</td>\n",
       "    </tr>\n",
       "    <tr>\n",
       "      <th>10</th>\n",
       "      <td>2021-01-12</td>\n",
       "      <td>2021-02-08</td>\n",
       "      <td>1714</td>\n",
       "      <td>1764.5630</td>\n",
       "      <td>1.029500</td>\n",
       "    </tr>\n",
       "    <tr>\n",
       "      <th>11</th>\n",
       "      <td>2020-12-09</td>\n",
       "      <td>2021-01-12</td>\n",
       "      <td>1792</td>\n",
       "      <td>1844.8640</td>\n",
       "      <td>1.029500</td>\n",
       "    </tr>\n",
       "    <tr>\n",
       "      <th>12</th>\n",
       "      <td>2020-11-11</td>\n",
       "      <td>2020-12-09</td>\n",
       "      <td>1167</td>\n",
       "      <td>1201.4265</td>\n",
       "      <td>1.029500</td>\n",
       "    </tr>\n",
       "    <tr>\n",
       "      <th>13</th>\n",
       "      <td>2020-10-07</td>\n",
       "      <td>2020-11-11</td>\n",
       "      <td>521</td>\n",
       "      <td>536.3695</td>\n",
       "      <td>1.029500</td>\n",
       "    </tr>\n",
       "    <tr>\n",
       "      <th>14</th>\n",
       "      <td>2020-09-10</td>\n",
       "      <td>2020-10-07</td>\n",
       "      <td>371</td>\n",
       "      <td>381.9445</td>\n",
       "      <td>1.029500</td>\n",
       "    </tr>\n",
       "    <tr>\n",
       "      <th>15</th>\n",
       "      <td>2020-08-11</td>\n",
       "      <td>2020-09-10</td>\n",
       "      <td>420</td>\n",
       "      <td>432.3900</td>\n",
       "      <td>1.029500</td>\n",
       "    </tr>\n",
       "    <tr>\n",
       "      <th>16</th>\n",
       "      <td>2020-06-30</td>\n",
       "      <td>2020-08-11</td>\n",
       "      <td>882</td>\n",
       "      <td>908.0190</td>\n",
       "      <td>1.029500</td>\n",
       "    </tr>\n",
       "    <tr>\n",
       "      <th>17</th>\n",
       "      <td>2020-05-31</td>\n",
       "      <td>2020-06-30</td>\n",
       "      <td>424</td>\n",
       "      <td>436.5060</td>\n",
       "      <td>1.029495</td>\n",
       "    </tr>\n",
       "    <tr>\n",
       "      <th>18</th>\n",
       "      <td>2020-04-30</td>\n",
       "      <td>2020-05-31</td>\n",
       "      <td>390</td>\n",
       "      <td>401.5030</td>\n",
       "      <td>1.029495</td>\n",
       "    </tr>\n",
       "    <tr>\n",
       "      <th>19</th>\n",
       "      <td>2020-03-31</td>\n",
       "      <td>2020-04-30</td>\n",
       "      <td>490</td>\n",
       "      <td>504.4530</td>\n",
       "      <td>1.029496</td>\n",
       "    </tr>\n",
       "    <tr>\n",
       "      <th>20</th>\n",
       "      <td>2020-02-29</td>\n",
       "      <td>2020-03-31</td>\n",
       "      <td>570</td>\n",
       "      <td>586.8120</td>\n",
       "      <td>1.029495</td>\n",
       "    </tr>\n",
       "    <tr>\n",
       "      <th>21</th>\n",
       "      <td>2020-01-31</td>\n",
       "      <td>2020-02-29</td>\n",
       "      <td>589</td>\n",
       "      <td>611.1400</td>\n",
       "      <td>1.037589</td>\n",
       "    </tr>\n",
       "    <tr>\n",
       "      <th>22</th>\n",
       "      <td>2019-12-31</td>\n",
       "      <td>2020-01-31</td>\n",
       "      <td>557</td>\n",
       "      <td>577.9432</td>\n",
       "      <td>1.037600</td>\n",
       "    </tr>\n",
       "    <tr>\n",
       "      <th>23</th>\n",
       "      <td>2019-12-01</td>\n",
       "      <td>2019-12-31</td>\n",
       "      <td>528</td>\n",
       "      <td>547.8528</td>\n",
       "      <td>1.037600</td>\n",
       "    </tr>\n",
       "  </tbody>\n",
       "</table>\n",
       "</div>"
      ],
      "text/plain": [
       "         From         To  kWh_PreAdj        kWh    Factor\n",
       "0  2021-11-10 2021-12-09        1203  1238.4885  1.029500\n",
       "1  2021-10-12 2021-11-10         581   598.1395  1.029500\n",
       "2  2021-09-10 2021-10-12         389   400.4755  1.029500\n",
       "3  2021-08-11 2021-09-10         535   550.7825  1.029500\n",
       "4  2021-07-12 2021-08-11         442   455.0390  1.029500\n",
       "5  2021-06-12 2021-07-12         394   405.6230  1.029500\n",
       "6  2021-05-11 2021-06-12         318   327.3810  1.029500\n",
       "7  2021-04-12 2021-05-11         550   566.2250  1.029500\n",
       "8  2021-03-09 2021-04-12         808   831.8360  1.029500\n",
       "9  2021-02-08 2021-03-09        1858  1912.8110  1.029500\n",
       "10 2021-01-12 2021-02-08        1714  1764.5630  1.029500\n",
       "11 2020-12-09 2021-01-12        1792  1844.8640  1.029500\n",
       "12 2020-11-11 2020-12-09        1167  1201.4265  1.029500\n",
       "13 2020-10-07 2020-11-11         521   536.3695  1.029500\n",
       "14 2020-09-10 2020-10-07         371   381.9445  1.029500\n",
       "15 2020-08-11 2020-09-10         420   432.3900  1.029500\n",
       "16 2020-06-30 2020-08-11         882   908.0190  1.029500\n",
       "17 2020-05-31 2020-06-30         424   436.5060  1.029495\n",
       "18 2020-04-30 2020-05-31         390   401.5030  1.029495\n",
       "19 2020-03-31 2020-04-30         490   504.4530  1.029496\n",
       "20 2020-02-29 2020-03-31         570   586.8120  1.029495\n",
       "21 2020-01-31 2020-02-29         589   611.1400  1.037589\n",
       "22 2019-12-31 2020-01-31         557   577.9432  1.037600\n",
       "23 2019-12-01 2019-12-31         528   547.8528  1.037600"
      ]
     },
     "execution_count": 245,
     "metadata": {},
     "output_type": "execute_result"
    }
   ],
   "source": [
    "elec_data = pd.read_csv('Elec_data.csv',parse_dates = ['To','From'])\n",
    "elec_data.head(24)"
   ]
  },
  {
   "cell_type": "code",
   "execution_count": 246,
   "metadata": {},
   "outputs": [
    {
     "data": {
      "text/html": [
       "<div>\n",
       "<style scoped>\n",
       "    .dataframe tbody tr th:only-of-type {\n",
       "        vertical-align: middle;\n",
       "    }\n",
       "\n",
       "    .dataframe tbody tr th {\n",
       "        vertical-align: top;\n",
       "    }\n",
       "\n",
       "    .dataframe thead th {\n",
       "        text-align: right;\n",
       "    }\n",
       "</style>\n",
       "<table border=\"1\" class=\"dataframe\">\n",
       "  <thead>\n",
       "    <tr style=\"text-align: right;\">\n",
       "      <th></th>\n",
       "      <th>From</th>\n",
       "      <th>To</th>\n",
       "      <th>kWh_PreAdj</th>\n",
       "      <th>kWh</th>\n",
       "      <th>Factor</th>\n",
       "      <th>HDDs</th>\n",
       "      <th>CDDs</th>\n",
       "    </tr>\n",
       "  </thead>\n",
       "  <tbody>\n",
       "    <tr>\n",
       "      <th>0</th>\n",
       "      <td>2021-11-10</td>\n",
       "      <td>2021-12-09</td>\n",
       "      <td>1203</td>\n",
       "      <td>1238.4885</td>\n",
       "      <td>1.029500</td>\n",
       "      <td>179.133333</td>\n",
       "      <td>0.000000</td>\n",
       "    </tr>\n",
       "    <tr>\n",
       "      <th>1</th>\n",
       "      <td>2021-10-12</td>\n",
       "      <td>2021-11-10</td>\n",
       "      <td>581</td>\n",
       "      <td>598.1395</td>\n",
       "      <td>1.029500</td>\n",
       "      <td>98.554167</td>\n",
       "      <td>0.000000</td>\n",
       "    </tr>\n",
       "    <tr>\n",
       "      <th>2</th>\n",
       "      <td>2021-09-10</td>\n",
       "      <td>2021-10-12</td>\n",
       "      <td>389</td>\n",
       "      <td>400.4755</td>\n",
       "      <td>1.029500</td>\n",
       "      <td>4.316667</td>\n",
       "      <td>0.000000</td>\n",
       "    </tr>\n",
       "    <tr>\n",
       "      <th>3</th>\n",
       "      <td>2021-08-11</td>\n",
       "      <td>2021-09-10</td>\n",
       "      <td>535</td>\n",
       "      <td>550.7825</td>\n",
       "      <td>1.029500</td>\n",
       "      <td>0.000000</td>\n",
       "      <td>6.620833</td>\n",
       "    </tr>\n",
       "    <tr>\n",
       "      <th>4</th>\n",
       "      <td>2021-07-12</td>\n",
       "      <td>2021-08-11</td>\n",
       "      <td>442</td>\n",
       "      <td>455.0390</td>\n",
       "      <td>1.029500</td>\n",
       "      <td>0.050000</td>\n",
       "      <td>1.912500</td>\n",
       "    </tr>\n",
       "    <tr>\n",
       "      <th>5</th>\n",
       "      <td>2021-06-12</td>\n",
       "      <td>2021-07-12</td>\n",
       "      <td>394</td>\n",
       "      <td>405.6230</td>\n",
       "      <td>1.029500</td>\n",
       "      <td>0.912500</td>\n",
       "      <td>4.120833</td>\n",
       "    </tr>\n",
       "    <tr>\n",
       "      <th>6</th>\n",
       "      <td>2021-05-11</td>\n",
       "      <td>2021-06-12</td>\n",
       "      <td>318</td>\n",
       "      <td>327.3810</td>\n",
       "      <td>1.029500</td>\n",
       "      <td>23.450000</td>\n",
       "      <td>4.900000</td>\n",
       "    </tr>\n",
       "    <tr>\n",
       "      <th>7</th>\n",
       "      <td>2021-04-12</td>\n",
       "      <td>2021-05-11</td>\n",
       "      <td>550</td>\n",
       "      <td>566.2250</td>\n",
       "      <td>1.029500</td>\n",
       "      <td>127.887500</td>\n",
       "      <td>0.000000</td>\n",
       "    </tr>\n",
       "    <tr>\n",
       "      <th>8</th>\n",
       "      <td>2021-03-09</td>\n",
       "      <td>2021-04-12</td>\n",
       "      <td>808</td>\n",
       "      <td>831.8360</td>\n",
       "      <td>1.029500</td>\n",
       "      <td>209.316667</td>\n",
       "      <td>0.000000</td>\n",
       "    </tr>\n",
       "    <tr>\n",
       "      <th>9</th>\n",
       "      <td>2021-02-08</td>\n",
       "      <td>2021-03-09</td>\n",
       "      <td>1858</td>\n",
       "      <td>1912.8110</td>\n",
       "      <td>1.029500</td>\n",
       "      <td>478.245833</td>\n",
       "      <td>0.000000</td>\n",
       "    </tr>\n",
       "    <tr>\n",
       "      <th>10</th>\n",
       "      <td>2021-01-12</td>\n",
       "      <td>2021-02-08</td>\n",
       "      <td>1714</td>\n",
       "      <td>1764.5630</td>\n",
       "      <td>1.029500</td>\n",
       "      <td>420.700000</td>\n",
       "      <td>0.000000</td>\n",
       "    </tr>\n",
       "    <tr>\n",
       "      <th>11</th>\n",
       "      <td>2020-12-09</td>\n",
       "      <td>2021-01-12</td>\n",
       "      <td>1792</td>\n",
       "      <td>1844.8640</td>\n",
       "      <td>1.029500</td>\n",
       "      <td>424.379167</td>\n",
       "      <td>0.000000</td>\n",
       "    </tr>\n",
       "    <tr>\n",
       "      <th>12</th>\n",
       "      <td>2020-11-11</td>\n",
       "      <td>2020-12-09</td>\n",
       "      <td>1167</td>\n",
       "      <td>1201.4265</td>\n",
       "      <td>1.029500</td>\n",
       "      <td>249.233333</td>\n",
       "      <td>0.000000</td>\n",
       "    </tr>\n",
       "    <tr>\n",
       "      <th>13</th>\n",
       "      <td>2020-10-07</td>\n",
       "      <td>2020-11-11</td>\n",
       "      <td>521</td>\n",
       "      <td>536.3695</td>\n",
       "      <td>1.029500</td>\n",
       "      <td>121.066667</td>\n",
       "      <td>0.000000</td>\n",
       "    </tr>\n",
       "    <tr>\n",
       "      <th>14</th>\n",
       "      <td>2020-09-10</td>\n",
       "      <td>2020-10-07</td>\n",
       "      <td>371</td>\n",
       "      <td>381.9445</td>\n",
       "      <td>1.029500</td>\n",
       "      <td>22.900000</td>\n",
       "      <td>0.000000</td>\n",
       "    </tr>\n",
       "    <tr>\n",
       "      <th>15</th>\n",
       "      <td>2020-08-11</td>\n",
       "      <td>2020-09-10</td>\n",
       "      <td>420</td>\n",
       "      <td>432.3900</td>\n",
       "      <td>1.029500</td>\n",
       "      <td>0.216667</td>\n",
       "      <td>2.704167</td>\n",
       "    </tr>\n",
       "    <tr>\n",
       "      <th>16</th>\n",
       "      <td>2020-06-30</td>\n",
       "      <td>2020-08-11</td>\n",
       "      <td>882</td>\n",
       "      <td>908.0190</td>\n",
       "      <td>1.029500</td>\n",
       "      <td>0.000000</td>\n",
       "      <td>20.158333</td>\n",
       "    </tr>\n",
       "    <tr>\n",
       "      <th>17</th>\n",
       "      <td>2020-05-31</td>\n",
       "      <td>2020-06-30</td>\n",
       "      <td>424</td>\n",
       "      <td>436.5060</td>\n",
       "      <td>1.029495</td>\n",
       "      <td>4.666667</td>\n",
       "      <td>3.912500</td>\n",
       "    </tr>\n",
       "    <tr>\n",
       "      <th>18</th>\n",
       "      <td>2020-04-30</td>\n",
       "      <td>2020-05-31</td>\n",
       "      <td>390</td>\n",
       "      <td>401.5030</td>\n",
       "      <td>1.029495</td>\n",
       "      <td>84.225000</td>\n",
       "      <td>0.712500</td>\n",
       "    </tr>\n",
       "    <tr>\n",
       "      <th>19</th>\n",
       "      <td>2020-03-31</td>\n",
       "      <td>2020-04-30</td>\n",
       "      <td>490</td>\n",
       "      <td>504.4530</td>\n",
       "      <td>1.029496</td>\n",
       "      <td>190.225000</td>\n",
       "      <td>0.000000</td>\n",
       "    </tr>\n",
       "    <tr>\n",
       "      <th>20</th>\n",
       "      <td>2020-02-29</td>\n",
       "      <td>2020-03-31</td>\n",
       "      <td>570</td>\n",
       "      <td>586.8120</td>\n",
       "      <td>1.029495</td>\n",
       "      <td>290.575000</td>\n",
       "      <td>0.000000</td>\n",
       "    </tr>\n",
       "    <tr>\n",
       "      <th>21</th>\n",
       "      <td>2020-01-31</td>\n",
       "      <td>2020-02-29</td>\n",
       "      <td>589</td>\n",
       "      <td>611.1400</td>\n",
       "      <td>1.037589</td>\n",
       "      <td>418.900000</td>\n",
       "      <td>0.000000</td>\n",
       "    </tr>\n",
       "    <tr>\n",
       "      <th>22</th>\n",
       "      <td>2019-12-31</td>\n",
       "      <td>2020-01-31</td>\n",
       "      <td>557</td>\n",
       "      <td>577.9432</td>\n",
       "      <td>1.037600</td>\n",
       "      <td>407.533333</td>\n",
       "      <td>0.000000</td>\n",
       "    </tr>\n",
       "    <tr>\n",
       "      <th>23</th>\n",
       "      <td>2019-12-01</td>\n",
       "      <td>2019-12-31</td>\n",
       "      <td>528</td>\n",
       "      <td>547.8528</td>\n",
       "      <td>1.037600</td>\n",
       "      <td>381.400000</td>\n",
       "      <td>0.000000</td>\n",
       "    </tr>\n",
       "  </tbody>\n",
       "</table>\n",
       "</div>"
      ],
      "text/plain": [
       "         From         To  kWh_PreAdj        kWh    Factor        HDDs  \\\n",
       "0  2021-11-10 2021-12-09        1203  1238.4885  1.029500  179.133333   \n",
       "1  2021-10-12 2021-11-10         581   598.1395  1.029500   98.554167   \n",
       "2  2021-09-10 2021-10-12         389   400.4755  1.029500    4.316667   \n",
       "3  2021-08-11 2021-09-10         535   550.7825  1.029500    0.000000   \n",
       "4  2021-07-12 2021-08-11         442   455.0390  1.029500    0.050000   \n",
       "5  2021-06-12 2021-07-12         394   405.6230  1.029500    0.912500   \n",
       "6  2021-05-11 2021-06-12         318   327.3810  1.029500   23.450000   \n",
       "7  2021-04-12 2021-05-11         550   566.2250  1.029500  127.887500   \n",
       "8  2021-03-09 2021-04-12         808   831.8360  1.029500  209.316667   \n",
       "9  2021-02-08 2021-03-09        1858  1912.8110  1.029500  478.245833   \n",
       "10 2021-01-12 2021-02-08        1714  1764.5630  1.029500  420.700000   \n",
       "11 2020-12-09 2021-01-12        1792  1844.8640  1.029500  424.379167   \n",
       "12 2020-11-11 2020-12-09        1167  1201.4265  1.029500  249.233333   \n",
       "13 2020-10-07 2020-11-11         521   536.3695  1.029500  121.066667   \n",
       "14 2020-09-10 2020-10-07         371   381.9445  1.029500   22.900000   \n",
       "15 2020-08-11 2020-09-10         420   432.3900  1.029500    0.216667   \n",
       "16 2020-06-30 2020-08-11         882   908.0190  1.029500    0.000000   \n",
       "17 2020-05-31 2020-06-30         424   436.5060  1.029495    4.666667   \n",
       "18 2020-04-30 2020-05-31         390   401.5030  1.029495   84.225000   \n",
       "19 2020-03-31 2020-04-30         490   504.4530  1.029496  190.225000   \n",
       "20 2020-02-29 2020-03-31         570   586.8120  1.029495  290.575000   \n",
       "21 2020-01-31 2020-02-29         589   611.1400  1.037589  418.900000   \n",
       "22 2019-12-31 2020-01-31         557   577.9432  1.037600  407.533333   \n",
       "23 2019-12-01 2019-12-31         528   547.8528  1.037600  381.400000   \n",
       "\n",
       "         CDDs  \n",
       "0    0.000000  \n",
       "1    0.000000  \n",
       "2    0.000000  \n",
       "3    6.620833  \n",
       "4    1.912500  \n",
       "5    4.120833  \n",
       "6    4.900000  \n",
       "7    0.000000  \n",
       "8    0.000000  \n",
       "9    0.000000  \n",
       "10   0.000000  \n",
       "11   0.000000  \n",
       "12   0.000000  \n",
       "13   0.000000  \n",
       "14   0.000000  \n",
       "15   2.704167  \n",
       "16  20.158333  \n",
       "17   3.912500  \n",
       "18   0.712500  \n",
       "19   0.000000  \n",
       "20   0.000000  \n",
       "21   0.000000  \n",
       "22   0.000000  \n",
       "23   0.000000  "
      ]
     },
     "execution_count": 246,
     "metadata": {},
     "output_type": "execute_result"
    }
   ],
   "source": [
    "# Add HDDs and CDDs\n",
    "elec_data['HDDs'] = [HDD_total(x,y)['HDDs'] for x,y in zip(elec_data.From,elec_data.To)]\n",
    "elec_data['CDDs'] = [HDD_total(x,y)['CDDs'] for x,y in zip(elec_data.From,elec_data.To)]\n",
    "elec_data"
   ]
  },
  {
   "cell_type": "code",
   "execution_count": 247,
   "metadata": {},
   "outputs": [
    {
     "data": {
      "text/plain": [
       "Text(0, 0.5, 'Electricity Consumption [kWh]')"
      ]
     },
     "execution_count": 247,
     "metadata": {},
     "output_type": "execute_result"
    },
    {
     "data": {
      "image/png": "[encoded data removed]",
      "text/plain": [
       "<Figure size 1080x360 with 1 Axes>"
      ]
     },
     "metadata": {
      "needs_background": "light"
     },
     "output_type": "display_data"
    }
   ],
   "source": [
    "# Quick time-series visualization\n",
    "fig,ax = plt.subplots(figsize=(15,5))\n",
    "ax.bar(elec_data.To,elec_data.kWh, width = -20, align = 'edge',color = step_blue)\n",
    "ax.xaxis.set_major_formatter(MonthFmt)\n",
    "ax.set_ylabel('Electricity Consumption [kWh]')"
   ]
  },
  {
   "cell_type": "markdown",
   "metadata": {},
   "source": [
    "Note the electricity intervals are not constant. Not an issue since we are doing a modelled baseline.\n",
    "\n",
    "Can see drastically increased electricity consumption post-retrofit, as expected.\n",
    "\n",
    "Define pre- and post- dataframes. Looking for comparable 10-month periods that are as closely aligned with gas data as possible. Pre-starts at 2020-01-01 and ends at 2020-11-11. So it has 10-months plus 10 days. This is not a problem since the pre-retrofit data will inform a model of baseline consumption and will not be used in a direct comparison.\n",
    "\n",
    "Post-retrofit electricity data goes from 1/13/2021 to 11/10/2020 - so 10 months minus 3 days. The length of the post-retrofit gas and electricity data is then very close but the time periods are offset by approximately 10 days. The post-retrofit electricity data includes less of January in exchange for more of November.\n",
    "\n",
    "This will be corrected for in a subsequent step."
   ]
  },
  {
   "cell_type": "code",
   "execution_count": 248,
   "metadata": {},
   "outputs": [
    {
     "data": {
      "text/html": [
       "<div>\n",
       "<style scoped>\n",
       "    .dataframe tbody tr th:only-of-type {\n",
       "        vertical-align: middle;\n",
       "    }\n",
       "\n",
       "    .dataframe tbody tr th {\n",
       "        vertical-align: top;\n",
       "    }\n",
       "\n",
       "    .dataframe thead th {\n",
       "        text-align: right;\n",
       "    }\n",
       "</style>\n",
       "<table border=\"1\" class=\"dataframe\">\n",
       "  <thead>\n",
       "    <tr style=\"text-align: right;\">\n",
       "      <th></th>\n",
       "      <th>From</th>\n",
       "      <th>To</th>\n",
       "      <th>kWh_PreAdj</th>\n",
       "      <th>kWh</th>\n",
       "      <th>Factor</th>\n",
       "      <th>HDDs</th>\n",
       "      <th>CDDs</th>\n",
       "    </tr>\n",
       "  </thead>\n",
       "  <tbody>\n",
       "    <tr>\n",
       "      <th>13</th>\n",
       "      <td>2020-10-07</td>\n",
       "      <td>2020-11-11</td>\n",
       "      <td>521</td>\n",
       "      <td>536.3695</td>\n",
       "      <td>1.029500</td>\n",
       "      <td>121.066667</td>\n",
       "      <td>0.000000</td>\n",
       "    </tr>\n",
       "    <tr>\n",
       "      <th>14</th>\n",
       "      <td>2020-09-10</td>\n",
       "      <td>2020-10-07</td>\n",
       "      <td>371</td>\n",
       "      <td>381.9445</td>\n",
       "      <td>1.029500</td>\n",
       "      <td>22.900000</td>\n",
       "      <td>0.000000</td>\n",
       "    </tr>\n",
       "    <tr>\n",
       "      <th>15</th>\n",
       "      <td>2020-08-11</td>\n",
       "      <td>2020-09-10</td>\n",
       "      <td>420</td>\n",
       "      <td>432.3900</td>\n",
       "      <td>1.029500</td>\n",
       "      <td>0.216667</td>\n",
       "      <td>2.704167</td>\n",
       "    </tr>\n",
       "    <tr>\n",
       "      <th>16</th>\n",
       "      <td>2020-06-30</td>\n",
       "      <td>2020-08-11</td>\n",
       "      <td>882</td>\n",
       "      <td>908.0190</td>\n",
       "      <td>1.029500</td>\n",
       "      <td>0.000000</td>\n",
       "      <td>20.158333</td>\n",
       "    </tr>\n",
       "    <tr>\n",
       "      <th>17</th>\n",
       "      <td>2020-05-31</td>\n",
       "      <td>2020-06-30</td>\n",
       "      <td>424</td>\n",
       "      <td>436.5060</td>\n",
       "      <td>1.029495</td>\n",
       "      <td>4.666667</td>\n",
       "      <td>3.912500</td>\n",
       "    </tr>\n",
       "    <tr>\n",
       "      <th>18</th>\n",
       "      <td>2020-04-30</td>\n",
       "      <td>2020-05-31</td>\n",
       "      <td>390</td>\n",
       "      <td>401.5030</td>\n",
       "      <td>1.029495</td>\n",
       "      <td>84.225000</td>\n",
       "      <td>0.712500</td>\n",
       "    </tr>\n",
       "    <tr>\n",
       "      <th>19</th>\n",
       "      <td>2020-03-31</td>\n",
       "      <td>2020-04-30</td>\n",
       "      <td>490</td>\n",
       "      <td>504.4530</td>\n",
       "      <td>1.029496</td>\n",
       "      <td>190.225000</td>\n",
       "      <td>0.000000</td>\n",
       "    </tr>\n",
       "    <tr>\n",
       "      <th>20</th>\n",
       "      <td>2020-02-29</td>\n",
       "      <td>2020-03-31</td>\n",
       "      <td>570</td>\n",
       "      <td>586.8120</td>\n",
       "      <td>1.029495</td>\n",
       "      <td>290.575000</td>\n",
       "      <td>0.000000</td>\n",
       "    </tr>\n",
       "    <tr>\n",
       "      <th>21</th>\n",
       "      <td>2020-01-31</td>\n",
       "      <td>2020-02-29</td>\n",
       "      <td>589</td>\n",
       "      <td>611.1400</td>\n",
       "      <td>1.037589</td>\n",
       "      <td>418.900000</td>\n",
       "      <td>0.000000</td>\n",
       "    </tr>\n",
       "    <tr>\n",
       "      <th>22</th>\n",
       "      <td>2019-12-31</td>\n",
       "      <td>2020-01-31</td>\n",
       "      <td>557</td>\n",
       "      <td>577.9432</td>\n",
       "      <td>1.037600</td>\n",
       "      <td>407.533333</td>\n",
       "      <td>0.000000</td>\n",
       "    </tr>\n",
       "  </tbody>\n",
       "</table>\n",
       "</div>"
      ],
      "text/plain": [
       "         From         To  kWh_PreAdj       kWh    Factor        HDDs  \\\n",
       "13 2020-10-07 2020-11-11         521  536.3695  1.029500  121.066667   \n",
       "14 2020-09-10 2020-10-07         371  381.9445  1.029500   22.900000   \n",
       "15 2020-08-11 2020-09-10         420  432.3900  1.029500    0.216667   \n",
       "16 2020-06-30 2020-08-11         882  908.0190  1.029500    0.000000   \n",
       "17 2020-05-31 2020-06-30         424  436.5060  1.029495    4.666667   \n",
       "18 2020-04-30 2020-05-31         390  401.5030  1.029495   84.225000   \n",
       "19 2020-03-31 2020-04-30         490  504.4530  1.029496  190.225000   \n",
       "20 2020-02-29 2020-03-31         570  586.8120  1.029495  290.575000   \n",
       "21 2020-01-31 2020-02-29         589  611.1400  1.037589  418.900000   \n",
       "22 2019-12-31 2020-01-31         557  577.9432  1.037600  407.533333   \n",
       "\n",
       "         CDDs  \n",
       "13   0.000000  \n",
       "14   0.000000  \n",
       "15   2.704167  \n",
       "16  20.158333  \n",
       "17   3.912500  \n",
       "18   0.712500  \n",
       "19   0.000000  \n",
       "20   0.000000  \n",
       "21   0.000000  \n",
       "22   0.000000  "
      ]
     },
     "execution_count": 248,
     "metadata": {},
     "output_type": "execute_result"
    }
   ],
   "source": [
    "pre_elec_data = elec_data.loc[(elec_data.index < 23) & (elec_data.index > 12)].copy()\n",
    "pre_elec_data"
   ]
  },
  {
   "cell_type": "code",
   "execution_count": 249,
   "metadata": {},
   "outputs": [
    {
     "data": {
      "text/html": [
       "<div>\n",
       "<style scoped>\n",
       "    .dataframe tbody tr th:only-of-type {\n",
       "        vertical-align: middle;\n",
       "    }\n",
       "\n",
       "    .dataframe tbody tr th {\n",
       "        vertical-align: top;\n",
       "    }\n",
       "\n",
       "    .dataframe thead th {\n",
       "        text-align: right;\n",
       "    }\n",
       "</style>\n",
       "<table border=\"1\" class=\"dataframe\">\n",
       "  <thead>\n",
       "    <tr style=\"text-align: right;\">\n",
       "      <th></th>\n",
       "      <th>From</th>\n",
       "      <th>To</th>\n",
       "      <th>kWh_PreAdj</th>\n",
       "      <th>kWh</th>\n",
       "      <th>Factor</th>\n",
       "      <th>HDDs</th>\n",
       "      <th>CDDs</th>\n",
       "    </tr>\n",
       "  </thead>\n",
       "  <tbody>\n",
       "    <tr>\n",
       "      <th>1</th>\n",
       "      <td>2021-10-12</td>\n",
       "      <td>2021-11-10</td>\n",
       "      <td>581</td>\n",
       "      <td>598.1395</td>\n",
       "      <td>1.0295</td>\n",
       "      <td>98.554167</td>\n",
       "      <td>0.000000</td>\n",
       "    </tr>\n",
       "    <tr>\n",
       "      <th>2</th>\n",
       "      <td>2021-09-10</td>\n",
       "      <td>2021-10-12</td>\n",
       "      <td>389</td>\n",
       "      <td>400.4755</td>\n",
       "      <td>1.0295</td>\n",
       "      <td>4.316667</td>\n",
       "      <td>0.000000</td>\n",
       "    </tr>\n",
       "    <tr>\n",
       "      <th>3</th>\n",
       "      <td>2021-08-11</td>\n",
       "      <td>2021-09-10</td>\n",
       "      <td>535</td>\n",
       "      <td>550.7825</td>\n",
       "      <td>1.0295</td>\n",
       "      <td>0.000000</td>\n",
       "      <td>6.620833</td>\n",
       "    </tr>\n",
       "    <tr>\n",
       "      <th>4</th>\n",
       "      <td>2021-07-12</td>\n",
       "      <td>2021-08-11</td>\n",
       "      <td>442</td>\n",
       "      <td>455.0390</td>\n",
       "      <td>1.0295</td>\n",
       "      <td>0.050000</td>\n",
       "      <td>1.912500</td>\n",
       "    </tr>\n",
       "    <tr>\n",
       "      <th>5</th>\n",
       "      <td>2021-06-12</td>\n",
       "      <td>2021-07-12</td>\n",
       "      <td>394</td>\n",
       "      <td>405.6230</td>\n",
       "      <td>1.0295</td>\n",
       "      <td>0.912500</td>\n",
       "      <td>4.120833</td>\n",
       "    </tr>\n",
       "    <tr>\n",
       "      <th>6</th>\n",
       "      <td>2021-05-11</td>\n",
       "      <td>2021-06-12</td>\n",
       "      <td>318</td>\n",
       "      <td>327.3810</td>\n",
       "      <td>1.0295</td>\n",
       "      <td>23.450000</td>\n",
       "      <td>4.900000</td>\n",
       "    </tr>\n",
       "    <tr>\n",
       "      <th>7</th>\n",
       "      <td>2021-04-12</td>\n",
       "      <td>2021-05-11</td>\n",
       "      <td>550</td>\n",
       "      <td>566.2250</td>\n",
       "      <td>1.0295</td>\n",
       "      <td>127.887500</td>\n",
       "      <td>0.000000</td>\n",
       "    </tr>\n",
       "    <tr>\n",
       "      <th>8</th>\n",
       "      <td>2021-03-09</td>\n",
       "      <td>2021-04-12</td>\n",
       "      <td>808</td>\n",
       "      <td>831.8360</td>\n",
       "      <td>1.0295</td>\n",
       "      <td>209.316667</td>\n",
       "      <td>0.000000</td>\n",
       "    </tr>\n",
       "    <tr>\n",
       "      <th>9</th>\n",
       "      <td>2021-02-08</td>\n",
       "      <td>2021-03-09</td>\n",
       "      <td>1858</td>\n",
       "      <td>1912.8110</td>\n",
       "      <td>1.0295</td>\n",
       "      <td>478.245833</td>\n",
       "      <td>0.000000</td>\n",
       "    </tr>\n",
       "    <tr>\n",
       "      <th>10</th>\n",
       "      <td>2021-01-12</td>\n",
       "      <td>2021-02-08</td>\n",
       "      <td>1714</td>\n",
       "      <td>1764.5630</td>\n",
       "      <td>1.0295</td>\n",
       "      <td>420.700000</td>\n",
       "      <td>0.000000</td>\n",
       "    </tr>\n",
       "  </tbody>\n",
       "</table>\n",
       "</div>"
      ],
      "text/plain": [
       "         From         To  kWh_PreAdj        kWh  Factor        HDDs      CDDs\n",
       "1  2021-10-12 2021-11-10         581   598.1395  1.0295   98.554167  0.000000\n",
       "2  2021-09-10 2021-10-12         389   400.4755  1.0295    4.316667  0.000000\n",
       "3  2021-08-11 2021-09-10         535   550.7825  1.0295    0.000000  6.620833\n",
       "4  2021-07-12 2021-08-11         442   455.0390  1.0295    0.050000  1.912500\n",
       "5  2021-06-12 2021-07-12         394   405.6230  1.0295    0.912500  4.120833\n",
       "6  2021-05-11 2021-06-12         318   327.3810  1.0295   23.450000  4.900000\n",
       "7  2021-04-12 2021-05-11         550   566.2250  1.0295  127.887500  0.000000\n",
       "8  2021-03-09 2021-04-12         808   831.8360  1.0295  209.316667  0.000000\n",
       "9  2021-02-08 2021-03-09        1858  1912.8110  1.0295  478.245833  0.000000\n",
       "10 2021-01-12 2021-02-08        1714  1764.5630  1.0295  420.700000  0.000000"
      ]
     },
     "execution_count": 249,
     "metadata": {},
     "output_type": "execute_result"
    }
   ],
   "source": [
    "post_elec_data = elec_data.loc[(elec_data.index < 11) & (elec_data.index > 0)].copy()\n",
    "post_elec_data"
   ]
  },
  {
   "cell_type": "code",
   "execution_count": 250,
   "metadata": {},
   "outputs": [
    {
     "data": {
      "text/plain": [
       "<matplotlib.legend.Legend at 0x1f64af5f9e8>"
      ]
     },
     "execution_count": 250,
     "metadata": {},
     "output_type": "execute_result"
    },
    {
     "data": {
      "image/png": "[encoded data removed]",
      "text/plain": [
       "<Figure size 504x360 with 1 Axes>"
      ]
     },
     "metadata": {
      "needs_background": "light"
     },
     "output_type": "display_data"
    }
   ],
   "source": [
    "# Visualize vs. HDDs\n",
    "plt.figure(figsize=(7,5))\n",
    "plt.scatter(pre_elec_data.HDDs,pre_elec_data.kWh, color = step_blue, label = 'Pre-retrofit')\n",
    "plt.scatter(post_elec_data.HDDs,post_elec_data.kWh, color = step_gold, label = 'Post-retrofit')\n",
    "plt.ylabel('kWh')\n",
    "plt.xlabel('HDDs')\n",
    "plt.grid(ls='--')\n",
    "plt.legend()"
   ]
  },
  {
   "cell_type": "markdown",
   "metadata": {},
   "source": [
    "You can see the pre-retrofit data has a small dependence on HDDs. This is because there was already a Mitsubishi Mr.Slim heat pump on the upper floor because the furnace ductwork did not reach there. You can also see that pre-retrofit there was an electricit spike during summer (when HDDs was 0). It's useful to look at the relationship with CDDs as well."
   ]
  },
  {
   "cell_type": "code",
   "execution_count": 251,
   "metadata": {},
   "outputs": [
    {
     "data": {
      "text/plain": [
       "<matplotlib.legend.Legend at 0x1f64b49fda0>"
      ]
     },
     "execution_count": 251,
     "metadata": {},
     "output_type": "execute_result"
    },
    {
     "data": {
      "image/png": "[encoded data removed]",
      "text/plain": [
       "<Figure size 504x360 with 1 Axes>"
      ]
     },
     "metadata": {
      "needs_background": "light"
     },
     "output_type": "display_data"
    }
   ],
   "source": [
    "# Visualize vs. CDDs\n",
    "plt.figure(figsize=(7,5))\n",
    "plt.scatter(pre_elec_data.loc[pre_elec_data.HDDs < 10].CDDs,\n",
    "            pre_elec_data.loc[pre_elec_data.HDDs < 10].kWh, \n",
    "            color = step_blue,\n",
    "            label = 'Pre-retrofit')\n",
    "plt.scatter(post_elec_data.loc[post_elec_data.HDDs < 10].CDDs,\n",
    "            post_elec_data.loc[post_elec_data.HDDs < 10].kWh, \n",
    "            color = step_gold,\n",
    "            label = 'Post-retrofit')\n",
    "plt.ylabel('Electricity Consumption [kWh]')\n",
    "plt.xlabel('CDDs')\n",
    "plt.grid(ls='--')\n",
    "plt.legend()"
   ]
  },
  {
   "cell_type": "markdown",
   "metadata": {},
   "source": [
    "The pre- and post retrofit cooling data show a very similar trend and there is not enough data to distinguish one from the other. There should be a cooling mode savings. The ASHP has a high SEER ratings. There just is not enough data to actually see it. One issue is that the data points don't cover constant periods of time. The cooling spike where consumption is higher than 800 kWh actually covers 40 days rather than month - so some of the extra consumption is just due to the fact that it covers a longer duration. There is nothing I can do without higher resolution data which I don't have.\n",
    "\n",
    "Since I can't distinguish between the pre- and post-retrofit cooling energy consumption, I will just assume there was indeed no significant change when I go calculate the savings. This is a conservative estimate in favour of the conventional system. "
   ]
  },
  {
   "cell_type": "markdown",
   "metadata": {},
   "source": [
    "## 4 Define Linear Regression Models of Baseline Utility Consumption and Calculate Total Utility Consumption\n",
    "\n",
    "### 4.1 Baseline Models"
   ]
  },
  {
   "cell_type": "code",
   "execution_count": 252,
   "metadata": {},
   "outputs": [
    {
     "name": "stdout",
     "output_type": "stream",
     "text": [
      "coefficient of determination: 0.786419813341645\n",
      "intercept: 401.6747009969727\n",
      "slope: [0.51350101]\n"
     ]
    },
    {
     "data": {
      "text/plain": [
       "<matplotlib.legend.Legend at 0x1f64ba38748>"
      ]
     },
     "execution_count": 252,
     "metadata": {},
     "output_type": "execute_result"
    },
    {
     "data": {
      "image/png": "[encoded data removed]",
      "text/plain": [
       "<Figure size 504x360 with 1 Axes>"
      ]
     },
     "metadata": {
      "needs_background": "light"
     },
     "output_type": "display_data"
    }
   ],
   "source": [
    "# Calculate regression line for baseline electricity data\n",
    "x = np.array(pre_elec_data.loc[pre_elec_data.HDDs > 10].HDDs).reshape((-1, 1))\n",
    "y = np.array(pre_elec_data.loc[pre_elec_data.HDDs > 10].kWh)\n",
    "base_model_elec = LinearRegression()\n",
    "base_model_elec.fit(x, y)\n",
    "base_model_elec_r_sq = base_model_elec.score(x, y)\n",
    "print('coefficient of determination:', base_model_elec_r_sq)\n",
    "print('intercept:', base_model_elec.intercept_)\n",
    "print('slope:', base_model_elec.coef_)\n",
    "\n",
    "# Define baseline elec function\n",
    "def base_elec_model(HDDs):\n",
    "    kWh = base_model_elec.coef_[0]*HDDs + base_model_elec.intercept_\n",
    "    return kWh\n",
    "\n",
    "# Visualize\n",
    "plt.figure(figsize = (7,5))\n",
    "plt.grid(ls='--')\n",
    "x = [0,500]\n",
    "y = [base_elec_model(a) for a in x]\n",
    "plt.scatter(post_elec_data.loc[post_elec_data.HDDs > 10].HDDs,post_elec_data.loc[post_elec_data.HDDs > 10].kWh, color = step_blue, label = 'Post-retrofit')\n",
    "plt.scatter(pre_elec_data.loc[pre_elec_data.HDDs > 10].HDDs,pre_elec_data.loc[pre_elec_data.HDDs > 10].kWh, color = step_gold, label = 'Pre-retrofit')\n",
    "plt.plot(x,y, color = step_gold, label = 'Baseline Model')\n",
    "plt.xlabel('HDDs')\n",
    "plt.ylabel('Electricity Consumption [kWh]')\n",
    "plt.legend()"
   ]
  },
  {
   "cell_type": "markdown",
   "metadata": {},
   "source": [
    "The baseline electricity model has a reasonably good coefficient of determination (0.76), meaning it is a good representation of baseline electricity consumption.\n",
    "\n",
    "Now do gas."
   ]
  },
  {
   "cell_type": "code",
   "execution_count": 253,
   "metadata": {},
   "outputs": [
    {
     "name": "stdout",
     "output_type": "stream",
     "text": [
      "coefficient of determination: 0.9796182014384591\n",
      "intercept: 19.49384053184994\n",
      "slope: [0.76580845]\n"
     ]
    },
    {
     "data": {
      "text/plain": [
       "<matplotlib.legend.Legend at 0x1f64ba60400>"
      ]
     },
     "execution_count": 253,
     "metadata": {},
     "output_type": "execute_result"
    },
    {
     "data": {
      "image/png": "[encoded data removed]",
      "text/plain": [
       "<Figure size 504x360 with 1 Axes>"
      ]
     },
     "metadata": {
      "needs_background": "light"
     },
     "output_type": "display_data"
    }
   ],
   "source": [
    "# Calculate regression line for baseline data\n",
    "x = np.array(pre_gas_data.HDDs).reshape((-1, 1))\n",
    "y = np.array(pre_gas_data.m3)\n",
    "base_model_gas = LinearRegression()\n",
    "base_model_gas.fit(x, y)\n",
    "base_model_gas_r_sq = base_model_gas.score(x, y)\n",
    "print('coefficient of determination:', base_model_gas_r_sq)\n",
    "print('intercept:', base_model_gas.intercept_)\n",
    "print('slope:', base_model_gas.coef_)\n",
    "\n",
    "# Function for baseline model\n",
    "def baseline_gas(HDDs):\n",
    "    m3 = base_model_gas.coef_[0]*HDDs + base_model_gas.intercept_\n",
    "    return m3\n",
    "\n",
    "# Visualize pre-retrofit data, baseline model, and post-retrofit data\n",
    "x = [0,1000]\n",
    "y = [baseline_gas(a) for a in x]\n",
    "plt.figure(figsize = (7,5))\n",
    "plt.scatter(pre_gas_data.HDDs,pre_gas_data.m3, color = step_blue, label = 'Pre-retrofit')\n",
    "plt.plot(x,y, color = step_blue, label = 'Baseline Model')\n",
    "plt.xlim(0,1000)\n",
    "plt.xlabel('HDDs')\n",
    "plt.ylabel('Gas Consumption [m$^{3}$]')\n",
    "plt.grid(ls='--')\n",
    "plt.scatter(post_gas_data.HDDs,post_gas_data.m3, color = step_gold, label = 'Post-retrofit')\n",
    "plt.legend(loc = 2)"
   ]
  },
  {
   "cell_type": "markdown",
   "metadata": {},
   "source": [
    "Baseline gas model is a very good representation of actual consumption."
   ]
  },
  {
   "cell_type": "markdown",
   "metadata": {},
   "source": [
    "### 4.2 Add Baseline Model to Dataframes and Calculate Totals"
   ]
  },
  {
   "cell_type": "code",
   "execution_count": 254,
   "metadata": {},
   "outputs": [
    {
     "data": {
      "text/html": [
       "<div>\n",
       "<style scoped>\n",
       "    .dataframe tbody tr th:only-of-type {\n",
       "        vertical-align: middle;\n",
       "    }\n",
       "\n",
       "    .dataframe tbody tr th {\n",
       "        vertical-align: top;\n",
       "    }\n",
       "\n",
       "    .dataframe thead th {\n",
       "        text-align: right;\n",
       "    }\n",
       "</style>\n",
       "<table border=\"1\" class=\"dataframe\">\n",
       "  <thead>\n",
       "    <tr style=\"text-align: right;\">\n",
       "      <th></th>\n",
       "      <th>From</th>\n",
       "      <th>To</th>\n",
       "      <th>m3</th>\n",
       "      <th>HDDs</th>\n",
       "      <th>CDDs</th>\n",
       "      <th>modelled_m3</th>\n",
       "    </tr>\n",
       "  </thead>\n",
       "  <tbody>\n",
       "    <tr>\n",
       "      <th>6</th>\n",
       "      <td>2020-12-30</td>\n",
       "      <td>2021-02-26</td>\n",
       "      <td>38</td>\n",
       "      <td>915.500000</td>\n",
       "      <td>0.000000</td>\n",
       "      <td>720.591478</td>\n",
       "    </tr>\n",
       "    <tr>\n",
       "      <th>7</th>\n",
       "      <td>2021-02-26</td>\n",
       "      <td>2021-04-26</td>\n",
       "      <td>37</td>\n",
       "      <td>436.008333</td>\n",
       "      <td>0.000000</td>\n",
       "      <td>353.392707</td>\n",
       "    </tr>\n",
       "    <tr>\n",
       "      <th>8</th>\n",
       "      <td>2021-04-26</td>\n",
       "      <td>2021-06-26</td>\n",
       "      <td>17</td>\n",
       "      <td>77.875000</td>\n",
       "      <td>5.291667</td>\n",
       "      <td>79.131174</td>\n",
       "    </tr>\n",
       "    <tr>\n",
       "      <th>9</th>\n",
       "      <td>2021-06-26</td>\n",
       "      <td>2021-08-26</td>\n",
       "      <td>35</td>\n",
       "      <td>0.050000</td>\n",
       "      <td>10.891667</td>\n",
       "      <td>19.532131</td>\n",
       "    </tr>\n",
       "    <tr>\n",
       "      <th>10</th>\n",
       "      <td>2021-08-26</td>\n",
       "      <td>2021-10-28</td>\n",
       "      <td>17</td>\n",
       "      <td>37.770833</td>\n",
       "      <td>1.370833</td>\n",
       "      <td>48.419064</td>\n",
       "    </tr>\n",
       "  </tbody>\n",
       "</table>\n",
       "</div>"
      ],
      "text/plain": [
       "         From         To  m3        HDDs       CDDs  modelled_m3\n",
       "6  2020-12-30 2021-02-26  38  915.500000   0.000000   720.591478\n",
       "7  2021-02-26 2021-04-26  37  436.008333   0.000000   353.392707\n",
       "8  2021-04-26 2021-06-26  17   77.875000   5.291667    79.131174\n",
       "9  2021-06-26 2021-08-26  35    0.050000  10.891667    19.532131\n",
       "10 2021-08-26 2021-10-28  17   37.770833   1.370833    48.419064"
      ]
     },
     "execution_count": 254,
     "metadata": {},
     "output_type": "execute_result"
    }
   ],
   "source": [
    "# Add modelled baseline to post-retrofit gas data consumption dataframe\n",
    "# Recall - baseline is what would have happened had there been no heat pump retrofit\n",
    "post_gas_data['modelled_m3'] = [baseline_gas(x) for x in post_gas_data.HDDs]\n",
    "post_gas_data"
   ]
  },
  {
   "cell_type": "code",
   "execution_count": 255,
   "metadata": {},
   "outputs": [
    {
     "data": {
      "text/plain": [
       "<matplotlib.legend.Legend at 0x1f64bda4588>"
      ]
     },
     "execution_count": 255,
     "metadata": {},
     "output_type": "execute_result"
    },
    {
     "data": {
      "image/png": "[encoded data removed]",
      "text/plain": [
       "<Figure size 1080x360 with 1 Axes>"
      ]
     },
     "metadata": {
      "needs_background": "light"
     },
     "output_type": "display_data"
    }
   ],
   "source": [
    "# Visualize\n",
    "labels = [0,'Jan-Feb','Mar-Apr','May-Jun','Jul-Aug','Sept-Oct'] # Don't know why I need the 0...\n",
    "pos = [0,1,2,3,4]\n",
    "fig,ax = plt.subplots(figsize=(15,5))\n",
    "ax.bar(pos,post_gas_data.m3, width = 0.4, align = 'edge', color = step_blue, label = 'Post-retrofit')\n",
    "ax.bar(pos,post_gas_data.modelled_m3, width = -0.4, align = 'edge', color = step_gold, label = 'Baseline')\n",
    "ax.set_ylabel('Gas Consumption [m$^{3}$]')\n",
    "ax.set_xticklabels(labels)\n",
    "plt.legend()"
   ]
  },
  {
   "cell_type": "markdown",
   "metadata": {},
   "source": [
    "Now calculate totals for actual and modelled baseline gas consumption."
   ]
  },
  {
   "cell_type": "code",
   "execution_count": 256,
   "metadata": {},
   "outputs": [
    {
     "data": {
      "text/plain": [
       "144"
      ]
     },
     "execution_count": 256,
     "metadata": {},
     "output_type": "execute_result"
    }
   ],
   "source": [
    "# Actual post-retrofit gas consumption\n",
    "post_gas_total = post_gas_data.m3.sum()\n",
    "post_gas_total"
   ]
  },
  {
   "cell_type": "code",
   "execution_count": 257,
   "metadata": {},
   "outputs": [
    {
     "data": {
      "text/plain": [
       "1221.0665531753066"
      ]
     },
     "execution_count": 257,
     "metadata": {},
     "output_type": "execute_result"
    }
   ],
   "source": [
    "# Modelled baseline gas consumption\n",
    "post_gas_base_total = post_gas_data.modelled_m3.sum()\n",
    "post_gas_base_total"
   ]
  },
  {
   "cell_type": "code",
   "execution_count": 258,
   "metadata": {},
   "outputs": [
    {
     "data": {
      "text/plain": [
       "1077.0665531753066"
      ]
     },
     "execution_count": 258,
     "metadata": {},
     "output_type": "execute_result"
    }
   ],
   "source": [
    "# Gas savings\n",
    "gas_savings = post_gas_base_total - post_gas_total\n",
    "gas_savings"
   ]
  },
  {
   "cell_type": "code",
   "execution_count": 259,
   "metadata": {},
   "outputs": [
    {
     "data": {
      "text/plain": [
       "0.8820703100698835"
      ]
     },
     "execution_count": 259,
     "metadata": {},
     "output_type": "execute_result"
    }
   ],
   "source": [
    "# Percentage gas savings\n",
    "1-post_gas_total/post_gas_base_total"
   ]
  },
  {
   "cell_type": "markdown",
   "metadata": {},
   "source": [
    "Calculate totals for actual and modelled baseline electricity consumption."
   ]
  },
  {
   "cell_type": "code",
   "execution_count": 260,
   "metadata": {},
   "outputs": [
    {
     "data": {
      "text/html": [
       "<div>\n",
       "<style scoped>\n",
       "    .dataframe tbody tr th:only-of-type {\n",
       "        vertical-align: middle;\n",
       "    }\n",
       "\n",
       "    .dataframe tbody tr th {\n",
       "        vertical-align: top;\n",
       "    }\n",
       "\n",
       "    .dataframe thead th {\n",
       "        text-align: right;\n",
       "    }\n",
       "</style>\n",
       "<table border=\"1\" class=\"dataframe\">\n",
       "  <thead>\n",
       "    <tr style=\"text-align: right;\">\n",
       "      <th></th>\n",
       "      <th>From</th>\n",
       "      <th>To</th>\n",
       "      <th>kWh_PreAdj</th>\n",
       "      <th>kWh</th>\n",
       "      <th>Factor</th>\n",
       "      <th>HDDs</th>\n",
       "      <th>CDDs</th>\n",
       "      <th>modelled_kWh</th>\n",
       "    </tr>\n",
       "  </thead>\n",
       "  <tbody>\n",
       "    <tr>\n",
       "      <th>1</th>\n",
       "      <td>2021-10-12</td>\n",
       "      <td>2021-11-10</td>\n",
       "      <td>581</td>\n",
       "      <td>598.1395</td>\n",
       "      <td>1.0295</td>\n",
       "      <td>98.554167</td>\n",
       "      <td>0.000000</td>\n",
       "      <td>452.282365</td>\n",
       "    </tr>\n",
       "    <tr>\n",
       "      <th>2</th>\n",
       "      <td>2021-09-10</td>\n",
       "      <td>2021-10-12</td>\n",
       "      <td>389</td>\n",
       "      <td>400.4755</td>\n",
       "      <td>1.0295</td>\n",
       "      <td>4.316667</td>\n",
       "      <td>0.000000</td>\n",
       "      <td>403.891314</td>\n",
       "    </tr>\n",
       "    <tr>\n",
       "      <th>3</th>\n",
       "      <td>2021-08-11</td>\n",
       "      <td>2021-09-10</td>\n",
       "      <td>535</td>\n",
       "      <td>550.7825</td>\n",
       "      <td>1.0295</td>\n",
       "      <td>0.000000</td>\n",
       "      <td>6.620833</td>\n",
       "      <td>401.674701</td>\n",
       "    </tr>\n",
       "    <tr>\n",
       "      <th>4</th>\n",
       "      <td>2021-07-12</td>\n",
       "      <td>2021-08-11</td>\n",
       "      <td>442</td>\n",
       "      <td>455.0390</td>\n",
       "      <td>1.0295</td>\n",
       "      <td>0.050000</td>\n",
       "      <td>1.912500</td>\n",
       "      <td>401.700376</td>\n",
       "    </tr>\n",
       "    <tr>\n",
       "      <th>5</th>\n",
       "      <td>2021-06-12</td>\n",
       "      <td>2021-07-12</td>\n",
       "      <td>394</td>\n",
       "      <td>405.6230</td>\n",
       "      <td>1.0295</td>\n",
       "      <td>0.912500</td>\n",
       "      <td>4.120833</td>\n",
       "      <td>402.143271</td>\n",
       "    </tr>\n",
       "    <tr>\n",
       "      <th>6</th>\n",
       "      <td>2021-05-11</td>\n",
       "      <td>2021-06-12</td>\n",
       "      <td>318</td>\n",
       "      <td>327.3810</td>\n",
       "      <td>1.0295</td>\n",
       "      <td>23.450000</td>\n",
       "      <td>4.900000</td>\n",
       "      <td>413.716300</td>\n",
       "    </tr>\n",
       "    <tr>\n",
       "      <th>7</th>\n",
       "      <td>2021-04-12</td>\n",
       "      <td>2021-05-11</td>\n",
       "      <td>550</td>\n",
       "      <td>566.2250</td>\n",
       "      <td>1.0295</td>\n",
       "      <td>127.887500</td>\n",
       "      <td>0.000000</td>\n",
       "      <td>467.345062</td>\n",
       "    </tr>\n",
       "    <tr>\n",
       "      <th>8</th>\n",
       "      <td>2021-03-09</td>\n",
       "      <td>2021-04-12</td>\n",
       "      <td>808</td>\n",
       "      <td>831.8360</td>\n",
       "      <td>1.0295</td>\n",
       "      <td>209.316667</td>\n",
       "      <td>0.000000</td>\n",
       "      <td>509.159021</td>\n",
       "    </tr>\n",
       "    <tr>\n",
       "      <th>9</th>\n",
       "      <td>2021-02-08</td>\n",
       "      <td>2021-03-09</td>\n",
       "      <td>1858</td>\n",
       "      <td>1912.8110</td>\n",
       "      <td>1.0295</td>\n",
       "      <td>478.245833</td>\n",
       "      <td>0.000000</td>\n",
       "      <td>647.254421</td>\n",
       "    </tr>\n",
       "    <tr>\n",
       "      <th>10</th>\n",
       "      <td>2021-01-12</td>\n",
       "      <td>2021-02-08</td>\n",
       "      <td>1714</td>\n",
       "      <td>1764.5630</td>\n",
       "      <td>1.0295</td>\n",
       "      <td>420.700000</td>\n",
       "      <td>0.000000</td>\n",
       "      <td>617.704577</td>\n",
       "    </tr>\n",
       "  </tbody>\n",
       "</table>\n",
       "</div>"
      ],
      "text/plain": [
       "         From         To  kWh_PreAdj        kWh  Factor        HDDs      CDDs  \\\n",
       "1  2021-10-12 2021-11-10         581   598.1395  1.0295   98.554167  0.000000   \n",
       "2  2021-09-10 2021-10-12         389   400.4755  1.0295    4.316667  0.000000   \n",
       "3  2021-08-11 2021-09-10         535   550.7825  1.0295    0.000000  6.620833   \n",
       "4  2021-07-12 2021-08-11         442   455.0390  1.0295    0.050000  1.912500   \n",
       "5  2021-06-12 2021-07-12         394   405.6230  1.0295    0.912500  4.120833   \n",
       "6  2021-05-11 2021-06-12         318   327.3810  1.0295   23.450000  4.900000   \n",
       "7  2021-04-12 2021-05-11         550   566.2250  1.0295  127.887500  0.000000   \n",
       "8  2021-03-09 2021-04-12         808   831.8360  1.0295  209.316667  0.000000   \n",
       "9  2021-02-08 2021-03-09        1858  1912.8110  1.0295  478.245833  0.000000   \n",
       "10 2021-01-12 2021-02-08        1714  1764.5630  1.0295  420.700000  0.000000   \n",
       "\n",
       "    modelled_kWh  \n",
       "1     452.282365  \n",
       "2     403.891314  \n",
       "3     401.674701  \n",
       "4     401.700376  \n",
       "5     402.143271  \n",
       "6     413.716300  \n",
       "7     467.345062  \n",
       "8     509.159021  \n",
       "9     647.254421  \n",
       "10    617.704577  "
      ]
     },
     "execution_count": 260,
     "metadata": {},
     "output_type": "execute_result"
    }
   ],
   "source": [
    "# Add modelled baseline to post-retrofit elec data consumption dataframe\n",
    "# Recall - baseline is what would have happened had there been no heat pump retrofit\n",
    "post_elec_data['modelled_kWh'] = [base_elec_model(x) for x in post_elec_data.HDDs]\n",
    "post_elec_data"
   ]
  },
  {
   "cell_type": "code",
   "execution_count": 261,
   "metadata": {},
   "outputs": [
    {
     "data": {
      "text/plain": [
       "<matplotlib.legend.Legend at 0x1f64be47048>"
      ]
     },
     "execution_count": 261,
     "metadata": {},
     "output_type": "execute_result"
    },
    {
     "data": {
      "image/png": "[encoded data removed]",
      "text/plain": [
       "<Figure size 1080x360 with 1 Axes>"
      ]
     },
     "metadata": {
      "needs_background": "light"
     },
     "output_type": "display_data"
    }
   ],
   "source": [
    "# Visualize\n",
    "def reverse_list(input): #it's in the wronf order for plotting\n",
    "    output = input[::-1] \n",
    "    return output \n",
    "\n",
    "pos = [1,2,3,4,5,6,7,8,9,10]\n",
    "fig,ax = plt.subplots(figsize=(15,5))\n",
    "ax.bar(pos,reverse_list(post_elec_data.kWh.to_list()), width = 0.4, align = 'edge', color = step_blue, label = 'Post-retrofit')\n",
    "ax.bar(pos,reverse_list(post_elec_data.modelled_kWh.to_list()), width = -0.4, align = 'edge', color = step_gold, label = 'Baseline')\n",
    "ax.set_ylabel('Electricity Consumption [kWh]')\n",
    "ax.set_xlabel('Month') #It doesn't align perfectly by month but it's simpler to plot this way\n",
    "plt.legend()"
   ]
  },
  {
   "cell_type": "code",
   "execution_count": 262,
   "metadata": {},
   "outputs": [
    {
     "data": {
      "text/plain": [
       "7812.8755"
      ]
     },
     "execution_count": 262,
     "metadata": {},
     "output_type": "execute_result"
    }
   ],
   "source": [
    "post_elec_total = post_elec_data.kWh.sum()\n",
    "post_elec_total"
   ]
  },
  {
   "cell_type": "code",
   "execution_count": 263,
   "metadata": {},
   "outputs": [
    {
     "data": {
      "text/plain": [
       "4716.871407914829"
      ]
     },
     "execution_count": 263,
     "metadata": {},
     "output_type": "execute_result"
    }
   ],
   "source": [
    "post_elec_baseline = post_elec_data.modelled_kWh.sum()\n",
    "post_elec_baseline"
   ]
  },
  {
   "cell_type": "code",
   "execution_count": 264,
   "metadata": {},
   "outputs": [
    {
     "data": {
      "text/plain": [
       "3096.0040920851707"
      ]
     },
     "execution_count": 264,
     "metadata": {},
     "output_type": "execute_result"
    }
   ],
   "source": [
    "elec_increase = post_elec_total - post_elec_baseline\n",
    "elec_increase"
   ]
  },
  {
   "cell_type": "markdown",
   "metadata": {},
   "source": [
    "### 4.3 HDD Correction and Recalculate Savings"
   ]
  },
  {
   "cell_type": "markdown",
   "metadata": {},
   "source": [
    "Note that the post-retrofit electricity consumption dataframe contains 301 days, while the post-retrofit gas consumption dataframe contains 302 days, so both cover the same amount of time. However, they are offset by approximately 2 weeks. Can look at the impact of that offset by looking at the total HDDs for the post-retrofit electricity dataframe and the post-retrofit gas dataframe."
   ]
  },
  {
   "cell_type": "code",
   "execution_count": 265,
   "metadata": {},
   "outputs": [
    {
     "data": {
      "text/plain": [
       "1467.2041666666664"
      ]
     },
     "execution_count": 265,
     "metadata": {},
     "output_type": "execute_result"
    }
   ],
   "source": [
    "# HDDs in gas dataframe\n",
    "post_gas_data.HDDs.sum()"
   ]
  },
  {
   "cell_type": "code",
   "execution_count": 266,
   "metadata": {},
   "outputs": [
    {
     "data": {
      "text/plain": [
       "1467.2041666666667"
      ]
     },
     "execution_count": 266,
     "metadata": {},
     "output_type": "execute_result"
    }
   ],
   "source": [
    "# HDDs for post-retrofit gas data - Check\n",
    "start = datetime.datetime.strptime(\"2020-12-30\",\"%Y-%m-%d\")\n",
    "stop = datetime.datetime.strptime(\"2021-10-28\",\"%Y-%m-%d\")\n",
    "HDDs_gas = HDD_total(start,stop)['HDDs'] \n",
    "HDDs_gas"
   ]
  },
  {
   "cell_type": "code",
   "execution_count": 267,
   "metadata": {},
   "outputs": [
    {
     "data": {
      "text/plain": [
       "1363.4333333333334"
      ]
     },
     "execution_count": 267,
     "metadata": {},
     "output_type": "execute_result"
    }
   ],
   "source": [
    "# HDDs in elec data frame\n",
    "post_elec_data.HDDs.sum()"
   ]
  },
  {
   "cell_type": "code",
   "execution_count": 268,
   "metadata": {},
   "outputs": [
    {
     "data": {
      "text/plain": [
       "1363.4333333333332"
      ]
     },
     "execution_count": 268,
     "metadata": {},
     "output_type": "execute_result"
    }
   ],
   "source": [
    "# HDDs for post-retrofit elec data - Check\n",
    "start = datetime.datetime.strptime(\"2021-01-12\",\"%Y-%m-%d\")\n",
    "stop = datetime.datetime.strptime(\"2021-11-10\",\"%Y-%m-%d\")\n",
    "HDDs_elec = HDD_total(start,stop)['HDDs'] \n",
    "HDDs_elec"
   ]
  },
  {
   "cell_type": "code",
   "execution_count": 269,
   "metadata": {},
   "outputs": [
    {
     "data": {
      "text/plain": [
       "7.610994303596286"
      ]
     },
     "execution_count": 269,
     "metadata": {},
     "output_type": "execute_result"
    }
   ],
   "source": [
    "# The percentage difference in HDDs is significant\n",
    "# The HDDs for electricity sata is lower - this makes the ASHP look better than it actually was\n",
    "(post_gas_data.HDDs.sum()/post_elec_data.HDDs.sum()-1)*(100)"
   ]
  },
  {
   "cell_type": "code",
   "execution_count": 270,
   "metadata": {},
   "outputs": [
    {
     "data": {
      "text/plain": [
       "103.77083333333303"
      ]
     },
     "execution_count": 270,
     "metadata": {},
     "output_type": "execute_result"
    }
   ],
   "source": [
    "# Difference in HDDs\n",
    "HDD_diff = post_gas_data.HDDs.sum()-post_elec_data.HDDs.sum()\n",
    "HDD_diff"
   ]
  },
  {
   "cell_type": "markdown",
   "metadata": {},
   "source": [
    "The modelled baseline gas consumption needs to be correct such that it that it is representative of a similar amount of HDDs as the electricity data. To do that, I can just take the slope of the baseline gas model multiply it be the HDD difference and use that as a correction term."
   ]
  },
  {
   "cell_type": "code",
   "execution_count": 271,
   "metadata": {},
   "outputs": [
    {
     "data": {
      "text/plain": [
       "79.4685811580481"
      ]
     },
     "execution_count": 271,
     "metadata": {},
     "output_type": "execute_result"
    }
   ],
   "source": [
    "# Calculate correction term for baseline gas model\n",
    "m3_HDD_corr = HDD_diff*base_model_gas.coef_[0]\n",
    "m3_HDD_corr"
   ]
  },
  {
   "cell_type": "markdown",
   "metadata": {},
   "source": [
    "Now need to recalculate the baseline gas consumption and the savings."
   ]
  },
  {
   "cell_type": "code",
   "execution_count": 272,
   "metadata": {},
   "outputs": [
    {
     "data": {
      "text/plain": [
       "1141.5979720172586"
      ]
     },
     "execution_count": 272,
     "metadata": {},
     "output_type": "execute_result"
    }
   ],
   "source": [
    "post_gas_base_total_corr = post_gas_base_total - m3_HDD_corr\n",
    "post_gas_base_total_corr"
   ]
  },
  {
   "cell_type": "code",
   "execution_count": 273,
   "metadata": {},
   "outputs": [
    {
     "data": {
      "text/plain": [
       "997.5979720172586"
      ]
     },
     "execution_count": 273,
     "metadata": {},
     "output_type": "execute_result"
    }
   ],
   "source": [
    "gas_savings_corr = post_gas_base_total_corr - post_gas_total\n",
    "gas_savings_corr"
   ]
  },
  {
   "cell_type": "code",
   "execution_count": 274,
   "metadata": {},
   "outputs": [
    {
     "data": {
      "text/plain": [
       "87.3861023293914"
      ]
     },
     "execution_count": 274,
     "metadata": {},
     "output_type": "execute_result"
    }
   ],
   "source": [
    "# Percentage gas savings\n",
    "100-post_gas_total/post_gas_base_total_corr*100"
   ]
  },
  {
   "cell_type": "markdown",
   "metadata": {},
   "source": [
    "## 5 COP Estimate\n",
    "\n",
    "Based on the electricity increase and gas savings it is possible to estimate a COP. To be clear, COP was not monitored. This is just a high-level check on the reasonableness of the data. The gas savings is related to heat energy that was formerly provided by the furnac but is now provided by the ASHP. Converting gas savings to kWh and then multiplying by the efficiency of the previous furnace provides the numerator of the COP equation. We know the prior furnace was high-efficiency but do not know the specific make and model, nor do we do know if the rated performance was achieved in practice. Evaluate two scenarios - (i) prior furnace was 95% efficient in practice and (ii) prior furnace was 90% efficient in practice."
   ]
  },
  {
   "cell_type": "code",
   "execution_count": 275,
   "metadata": {},
   "outputs": [
    {
     "data": {
      "text/plain": [
       "3.2447668928783298"
      ]
     },
     "execution_count": 275,
     "metadata": {},
     "output_type": "execute_result"
    }
   ],
   "source": [
    "COP_95 = (gas_savings_corr * 10.6 * 0.95) / elec_increase # Assume previous furnace was 90% (in practice)\n",
    "COP_95"
   ]
  },
  {
   "cell_type": "code",
   "execution_count": 276,
   "metadata": {},
   "outputs": [
    {
     "data": {
      "text/plain": [
       "3.0739896879899966"
      ]
     },
     "execution_count": 276,
     "metadata": {},
     "output_type": "execute_result"
    }
   ],
   "source": [
    "COP_90 = (gas_savings_corr * 10.6 * 0.90) / elec_increase # Assume previous furnace was 90% (in practice)\n",
    "COP_90"
   ]
  },
  {
   "cell_type": "markdown",
   "metadata": {},
   "source": [
    "The gas savings and electricity increase suggests the COP is between 3.1 and 3.2. Note that it is also likely the ASHP has lower electricity consumption for the blower and this will serve to inflate the COP calculation above, but it is nonetheless a real source of savings. The HSPF for the Zuba 11.0 (Region IV) is 11. This translates to a seasonal average COP of 3.2. For Region V, it is 9.0 and 2.63. We can look at the data from the post-retrofit period and compare against the ASHRAE data from Zone IV and Zone V to see which value we ought to expect this installation to be closer to. "
   ]
  },
  {
   "cell_type": "code",
   "execution_count": 277,
   "metadata": {},
   "outputs": [],
   "source": [
    "# Get data from post-retrofit period\n",
    "start_date = datetime.datetime.strptime(\"2021-01-13\",\"%Y-%m-%d\")\n",
    "end_date = datetime.datetime.strptime(\"2021-11-12\",\"%Y-%m-%d\")\n",
    "weather_post_retrofit = toronto_weather.loc[(toronto_weather.index > start_date) & (toronto_weather.index < end_date)]                                  "
   ]
  },
  {
   "cell_type": "code",
   "execution_count": 278,
   "metadata": {},
   "outputs": [
    {
     "data": {
      "text/html": [
       "<div>\n",
       "<style scoped>\n",
       "    .dataframe tbody tr th:only-of-type {\n",
       "        vertical-align: middle;\n",
       "    }\n",
       "\n",
       "    .dataframe tbody tr th {\n",
       "        vertical-align: top;\n",
       "    }\n",
       "\n",
       "    .dataframe thead th {\n",
       "        text-align: right;\n",
       "    }\n",
       "</style>\n",
       "<table border=\"1\" class=\"dataframe\">\n",
       "  <thead>\n",
       "    <tr style=\"text-align: right;\">\n",
       "      <th></th>\n",
       "      <th>temperature</th>\n",
       "      <th>HDDs</th>\n",
       "      <th>CDDs</th>\n",
       "    </tr>\n",
       "    <tr>\n",
       "      <th>date_time_local</th>\n",
       "      <th></th>\n",
       "      <th></th>\n",
       "      <th></th>\n",
       "    </tr>\n",
       "  </thead>\n",
       "  <tbody>\n",
       "    <tr>\n",
       "      <th>2021-11-11 23:00:00</th>\n",
       "      <td>12.1</td>\n",
       "      <td>0.000000</td>\n",
       "      <td>0.0</td>\n",
       "    </tr>\n",
       "    <tr>\n",
       "      <th>2021-11-11 22:00:00</th>\n",
       "      <td>13.0</td>\n",
       "      <td>0.000000</td>\n",
       "      <td>0.0</td>\n",
       "    </tr>\n",
       "    <tr>\n",
       "      <th>2021-11-11 21:00:00</th>\n",
       "      <td>12.0</td>\n",
       "      <td>0.000000</td>\n",
       "      <td>0.0</td>\n",
       "    </tr>\n",
       "    <tr>\n",
       "      <th>2021-11-11 20:00:00</th>\n",
       "      <td>11.8</td>\n",
       "      <td>0.008333</td>\n",
       "      <td>0.0</td>\n",
       "    </tr>\n",
       "    <tr>\n",
       "      <th>2021-11-11 19:00:00</th>\n",
       "      <td>11.7</td>\n",
       "      <td>0.012500</td>\n",
       "      <td>0.0</td>\n",
       "    </tr>\n",
       "  </tbody>\n",
       "</table>\n",
       "</div>"
      ],
      "text/plain": [
       "                     temperature      HDDs  CDDs\n",
       "date_time_local                                 \n",
       "2021-11-11 23:00:00         12.1  0.000000   0.0\n",
       "2021-11-11 22:00:00         13.0  0.000000   0.0\n",
       "2021-11-11 21:00:00         12.0  0.000000   0.0\n",
       "2021-11-11 20:00:00         11.8  0.008333   0.0\n",
       "2021-11-11 19:00:00         11.7  0.012500   0.0"
      ]
     },
     "execution_count": 278,
     "metadata": {},
     "output_type": "execute_result"
    }
   ],
   "source": [
    "# Have a look\n",
    "weather_post_retrofit.head()"
   ]
  },
  {
   "cell_type": "code",
   "execution_count": 279,
   "metadata": {},
   "outputs": [
    {
     "data": {
      "text/html": [
       "<div>\n",
       "<style scoped>\n",
       "    .dataframe tbody tr th:only-of-type {\n",
       "        vertical-align: middle;\n",
       "    }\n",
       "\n",
       "    .dataframe tbody tr th {\n",
       "        vertical-align: top;\n",
       "    }\n",
       "\n",
       "    .dataframe thead th {\n",
       "        text-align: right;\n",
       "    }\n",
       "</style>\n",
       "<table border=\"1\" class=\"dataframe\">\n",
       "  <thead>\n",
       "    <tr style=\"text-align: right;\">\n",
       "      <th></th>\n",
       "      <th>F</th>\n",
       "      <th>C</th>\n",
       "      <th>IV</th>\n",
       "      <th>V</th>\n",
       "    </tr>\n",
       "  </thead>\n",
       "  <tbody>\n",
       "    <tr>\n",
       "      <th>0</th>\n",
       "      <td>62</td>\n",
       "      <td>16.666667</td>\n",
       "      <td>0.132</td>\n",
       "      <td>0.106</td>\n",
       "    </tr>\n",
       "    <tr>\n",
       "      <th>1</th>\n",
       "      <td>57</td>\n",
       "      <td>13.888889</td>\n",
       "      <td>0.110</td>\n",
       "      <td>0.092</td>\n",
       "    </tr>\n",
       "    <tr>\n",
       "      <th>2</th>\n",
       "      <td>52</td>\n",
       "      <td>11.111111</td>\n",
       "      <td>0.103</td>\n",
       "      <td>0.086</td>\n",
       "    </tr>\n",
       "    <tr>\n",
       "      <th>3</th>\n",
       "      <td>47</td>\n",
       "      <td>8.333333</td>\n",
       "      <td>0.093</td>\n",
       "      <td>0.076</td>\n",
       "    </tr>\n",
       "    <tr>\n",
       "      <th>4</th>\n",
       "      <td>42</td>\n",
       "      <td>5.555556</td>\n",
       "      <td>0.100</td>\n",
       "      <td>0.078</td>\n",
       "    </tr>\n",
       "    <tr>\n",
       "      <th>5</th>\n",
       "      <td>37</td>\n",
       "      <td>2.777778</td>\n",
       "      <td>0.109</td>\n",
       "      <td>0.087</td>\n",
       "    </tr>\n",
       "    <tr>\n",
       "      <th>6</th>\n",
       "      <td>32</td>\n",
       "      <td>0.000000</td>\n",
       "      <td>0.126</td>\n",
       "      <td>0.102</td>\n",
       "    </tr>\n",
       "    <tr>\n",
       "      <th>7</th>\n",
       "      <td>27</td>\n",
       "      <td>-2.777778</td>\n",
       "      <td>0.087</td>\n",
       "      <td>0.094</td>\n",
       "    </tr>\n",
       "    <tr>\n",
       "      <th>8</th>\n",
       "      <td>22</td>\n",
       "      <td>-5.555556</td>\n",
       "      <td>0.055</td>\n",
       "      <td>0.074</td>\n",
       "    </tr>\n",
       "    <tr>\n",
       "      <th>9</th>\n",
       "      <td>17</td>\n",
       "      <td>-8.333333</td>\n",
       "      <td>0.036</td>\n",
       "      <td>0.055</td>\n",
       "    </tr>\n",
       "    <tr>\n",
       "      <th>10</th>\n",
       "      <td>12</td>\n",
       "      <td>-11.111111</td>\n",
       "      <td>0.026</td>\n",
       "      <td>0.047</td>\n",
       "    </tr>\n",
       "    <tr>\n",
       "      <th>11</th>\n",
       "      <td>7</td>\n",
       "      <td>-13.888889</td>\n",
       "      <td>0.013</td>\n",
       "      <td>0.038</td>\n",
       "    </tr>\n",
       "    <tr>\n",
       "      <th>12</th>\n",
       "      <td>2</td>\n",
       "      <td>-16.666667</td>\n",
       "      <td>0.006</td>\n",
       "      <td>0.029</td>\n",
       "    </tr>\n",
       "    <tr>\n",
       "      <th>13</th>\n",
       "      <td>-3</td>\n",
       "      <td>-19.444444</td>\n",
       "      <td>0.002</td>\n",
       "      <td>0.018</td>\n",
       "    </tr>\n",
       "    <tr>\n",
       "      <th>14</th>\n",
       "      <td>-8</td>\n",
       "      <td>-22.222222</td>\n",
       "      <td>0.001</td>\n",
       "      <td>0.010</td>\n",
       "    </tr>\n",
       "    <tr>\n",
       "      <th>15</th>\n",
       "      <td>-13</td>\n",
       "      <td>-25.000000</td>\n",
       "      <td>0.000</td>\n",
       "      <td>0.005</td>\n",
       "    </tr>\n",
       "    <tr>\n",
       "      <th>16</th>\n",
       "      <td>-18</td>\n",
       "      <td>-27.777778</td>\n",
       "      <td>0.000</td>\n",
       "      <td>0.002</td>\n",
       "    </tr>\n",
       "    <tr>\n",
       "      <th>17</th>\n",
       "      <td>-23</td>\n",
       "      <td>-30.555556</td>\n",
       "      <td>0.000</td>\n",
       "      <td>0.001</td>\n",
       "    </tr>\n",
       "  </tbody>\n",
       "</table>\n",
       "</div>"
      ],
      "text/plain": [
       "     F          C     IV      V\n",
       "0   62  16.666667  0.132  0.106\n",
       "1   57  13.888889  0.110  0.092\n",
       "2   52  11.111111  0.103  0.086\n",
       "3   47   8.333333  0.093  0.076\n",
       "4   42   5.555556  0.100  0.078\n",
       "5   37   2.777778  0.109  0.087\n",
       "6   32   0.000000  0.126  0.102\n",
       "7   27  -2.777778  0.087  0.094\n",
       "8   22  -5.555556  0.055  0.074\n",
       "9   17  -8.333333  0.036  0.055\n",
       "10  12 -11.111111  0.026  0.047\n",
       "11   7 -13.888889  0.013  0.038\n",
       "12   2 -16.666667  0.006  0.029\n",
       "13  -3 -19.444444  0.002  0.018\n",
       "14  -8 -22.222222  0.001  0.010\n",
       "15 -13 -25.000000  0.000  0.005\n",
       "16 -18 -27.777778  0.000  0.002\n",
       "17 -23 -30.555556  0.000  0.001"
      ]
     },
     "execution_count": 279,
     "metadata": {},
     "output_type": "execute_result"
    }
   ],
   "source": [
    "# Get ASHRAE Region Data from AHRI 210/240 Standard\n",
    "ASHRAE_Regions = pd.read_csv(\"AHRAE_Regions_Workbook.csv\")\n",
    "ASHRAE_Regions"
   ]
  },
  {
   "cell_type": "code",
   "execution_count": 280,
   "metadata": {},
   "outputs": [
    {
     "data": {
      "text/plain": [
       "[-31.94055556,\n",
       " -29.162777780000003,\n",
       " -26.385,\n",
       " -23.60722222,\n",
       " -20.829444440000003,\n",
       " -18.051666670000003,\n",
       " -15.27388889,\n",
       " -12.49611111,\n",
       " -9.718333332999999,\n",
       " -6.940555556,\n",
       " -4.162777778,\n",
       " -1.385,\n",
       " 1.392777778,\n",
       " 4.170555556,\n",
       " 6.948333332999999,\n",
       " 9.72611111,\n",
       " 12.50388889,\n",
       " 15.281666670000002,\n",
       " 18.055000000000003]"
      ]
     },
     "execution_count": 280,
     "metadata": {},
     "output_type": "execute_result"
    }
   ],
   "source": [
    "# Define bins for a histogram - the bin midpoints should be the same as the ASHRAE temp data\n",
    "bins = (ASHRAE_Regions.C - (2.77/2)).to_list()\n",
    "bins = [(2.77/2 + 16.67)] + bins\n",
    "bins.reverse()\n",
    "bins"
   ]
  },
  {
   "cell_type": "code",
   "execution_count": 281,
   "metadata": {},
   "outputs": [
    {
     "data": {
      "image/png": "[encoded data removed]",
      "text/plain": [
       "<Figure size 432x288 with 1 Axes>"
      ]
     },
     "metadata": {
      "needs_background": "light"
     },
     "output_type": "display_data"
    }
   ],
   "source": [
    "# Create a histogram\n",
    "hist_results = plt.hist(weather_post_retrofit.temperature,bins)"
   ]
  },
  {
   "cell_type": "code",
   "execution_count": 282,
   "metadata": {},
   "outputs": [],
   "source": [
    "# Number of hours below 18 C - this is need to put histogram results on same scale as ASHRAE data\n",
    "number_hours = len(weather_post_retrofit.loc[weather_post_retrofit.temperature < 18.1])"
   ]
  },
  {
   "cell_type": "code",
   "execution_count": 283,
   "metadata": {},
   "outputs": [
    {
     "data": {
      "text/plain": [
       "<matplotlib.legend.Legend at 0x1f64e3ee470>"
      ]
     },
     "execution_count": 283,
     "metadata": {},
     "output_type": "execute_result"
    },
    {
     "data": {
      "image/png": "[encoded data removed]",
      "text/plain": [
       "<Figure size 432x288 with 1 Axes>"
      ]
     },
     "metadata": {
      "needs_background": "light"
     },
     "output_type": "display_data"
    }
   ],
   "source": [
    "# Visualize\n",
    "\n",
    "# Create x values for histogram\n",
    "ASHRAE_temps = ASHRAE_Regions.C.to_list()\n",
    "ASHRAE_temps.reverse()\n",
    "\n",
    "# Plot all data\n",
    "plt.bar(ASHRAE_temps,hist_results[0]/number_hours,alpha = 0.5,width=2.8, label = \"2021\")\n",
    "plt.bar(ASHRAE_Regions.C,ASHRAE_Regions.IV,alpha=0.5,width=2.8, label = \"Zone IV\")\n",
    "plt.bar(ASHRAE_Regions.C,ASHRAE_Regions.V,alpha=0.5,width=2.8, label = \"Zone V\")\n",
    "plt.plot(ASHRAE_temps,hist_results[0]/number_hours)\n",
    "plt.plot(ASHRAE_Regions.C,ASHRAE_Regions.IV,alpha=0.5)\n",
    "plt.plot(ASHRAE_Regions.C,ASHRAE_Regions.V,alpha=0.5)\n",
    "\n",
    "plt.xlabel('Temperature [oC]')\n",
    "plt.ylabel('Relative Fraction of Hours')\n",
    "\n",
    "plt.legend()"
   ]
  },
  {
   "cell_type": "markdown",
   "metadata": {},
   "source": [
    "It's clear we should be expect COP to be nearer to Zone IV for 2021. So the estimated COP of 3.1 to 3.2 is near the expected value of 3.2 for Region IV.\n"
   ]
  },
  {
   "cell_type": "markdown",
   "metadata": {},
   "source": [
    "## 6 Utility Rates and Emission Factors"
   ]
  },
  {
   "cell_type": "markdown",
   "metadata": {},
   "source": [
    "The marginal cost of natural gas was estimated using the Ontatio Energy Board (OEB) bill calculator, available at: https://www.oeb.ca/rates-and-your-bill/bill-calculator. Two sample bills were calculated in January 2021 for an Enbridge service area, one for 100 m3 consumption and one for 200 m3. These are shown below. \n",
    "\n",
    "![GasCalc.png](GasCalc.png)\n",
    "\n",
    "The difference in cost between the two bills is 41.7 dollars - for a difference in consumption of 100 m$^{3}$. It follows that the marginal rate for gas was estimated at 0.417 dollars per m3. At the end of 2020 the federal government announced a new cabron pricing schedule in their plan titled \"A Healthy Environment and A Healthy Economy.\" Starting in 2023, the federal price on carbon will increase at 15 dollars per tonne annually to reach 170 dollars by 2030. It will close to double the current rate by 2030. This has significant implications for hybrid systems and it is considered at the end of this analysis."
   ]
  },
  {
   "cell_type": "code",
   "execution_count": 284,
   "metadata": {},
   "outputs": [],
   "source": [
    "# Define gas rate\n",
    "gas_rate = 0.417 # $/m3"
   ]
  },
  {
   "cell_type": "markdown",
   "metadata": {},
   "source": [
    "### 5.2 Electricity Rate \n",
    "The current marginal electricity rates were also calculated using the OEB bill calculator. Two bills were calculated one for a 500 kWh and one for 600 kWh. The bills assumed a TOU breakdown of 60% off-peak, 20% mid-peakm and 20% on-peak. This breakdown considers that the daily TOU breakdown includes 12 hours off-peak (50%), 6 hours mid-peak (25%) and 6 hours on-peak (25%), and also that it is typically colder during the night. This weights electricity consumption further towards the off-peak TOU. \n",
    "\n",
    "The difference between the two bills was used to calculated the marginal electricity rate for the TOU. This kind of approach was necessary to properly capture all marginal costs, and is helpful because it is straightforward and electricity pricing structures can be complex with mutiple line items. Bills were calculated in January 2021.\n",
    "\n",
    "The results are shown below. For an increase in 100 kWh of electricity consumption, it cost an additional 1.26 dollars.  Marginal peak electricity cost estimate of 0.126 dollars per kWh.\n",
    "![Elec_Calc.png](ElecCalc.png)"
   ]
  },
  {
   "cell_type": "code",
   "execution_count": 285,
   "metadata": {},
   "outputs": [],
   "source": [
    "# Define gas rate\n",
    "elec_rate = 0.126 # $/kWh"
   ]
  },
  {
   "cell_type": "markdown",
   "metadata": {},
   "source": [
    "The emission factors for electricity and natural gas are include both marginal and annual emission factors from the TAF report \"A Clearer View on Ontario's Emissions\" 2021 Edition. Fugitive emissions have been ignored."
   ]
  },
  {
   "cell_type": "code",
   "execution_count": 286,
   "metadata": {},
   "outputs": [],
   "source": [
    "# Define emission factor assumptions\n",
    "AEF_elec_2021 = 0.031 # From TAF 2021 report \"A Clearer View on Ontario's Emissions\"\n",
    "MEF_elec_2021 = 0.113\n",
    "AEF_elec_2036 = 0.094 # From TAF 2021 report \"A Clearer View on Ontario's Emissions\"\n",
    "MEF_elec_2036 = 0.340\n",
    "EF_gas = 1.89 # in units kg CO2e per m3 from NIR report"
   ]
  },
  {
   "cell_type": "markdown",
   "metadata": {},
   "source": [
    "## 7 Current Utility Cost and Carbon Reductions"
   ]
  },
  {
   "cell_type": "code",
   "execution_count": 287,
   "metadata": {},
   "outputs": [
    {
     "data": {
      "text/plain": [
       "390.09651560273153"
      ]
     },
     "execution_count": 287,
     "metadata": {},
     "output_type": "execute_result"
    }
   ],
   "source": [
    "# Increased electricity cost\n",
    "elec_cost_increase = elec_increase*elec_rate\n",
    "elec_cost_increase"
   ]
  },
  {
   "cell_type": "code",
   "execution_count": 288,
   "metadata": {},
   "outputs": [
    {
     "data": {
      "text/plain": [
       "415.9983543311968"
      ]
     },
     "execution_count": 288,
     "metadata": {},
     "output_type": "execute_result"
    }
   ],
   "source": [
    "# Decrease in natural gas costs\n",
    "gas_cost_reduction = gas_savings_corr*gas_rate\n",
    "gas_cost_reduction"
   ]
  },
  {
   "cell_type": "code",
   "execution_count": 289,
   "metadata": {},
   "outputs": [
    {
     "data": {
      "text/plain": [
       "25.901838728465293"
      ]
     },
     "execution_count": 289,
     "metadata": {},
     "output_type": "execute_result"
    }
   ],
   "source": [
    "# Net utility cost savings\n",
    "net_cost_reduction = gas_cost_reduction - elec_cost_increase\n",
    "net_cost_reduction"
   ]
  },
  {
   "cell_type": "markdown",
   "metadata": {},
   "source": [
    "Visualize change in bills at current rates."
   ]
  },
  {
   "cell_type": "code",
   "execution_count": 290,
   "metadata": {},
   "outputs": [
    {
     "data": {
      "text/plain": [
       "(0, 1000)"
      ]
     },
     "execution_count": 290,
     "metadata": {},
     "output_type": "execute_result"
    },
    {
     "data": {
      "image/png": "[encoded data removed]",
      "text/plain": [
       "<Figure size 504x360 with 1 Axes>"
      ]
     },
     "metadata": {
      "needs_background": "light"
     },
     "output_type": "display_data"
    }
   ],
   "source": [
    "# Create lists for plot\n",
    "baseline = [post_gas_base_total_corr*gas_rate,post_elec_baseline*elec_rate]\n",
    "postretrofit = [post_gas_total*gas_rate,post_elec_total*elec_rate]\n",
    "reduction = [net_cost_reduction]\n",
    "\n",
    "# Plot \n",
    "fig, ax = plt.subplots(figsize = (7,5))\n",
    "ax.bar([1,2], baseline, width = -0.4, align = 'edge', color = step_blue, label = 'Baseline')\n",
    "ax.bar([1,2], postretrofit, width = 0.4, align = 'edge', color = step_gold, label = 'Post-retrofit')\n",
    "ax.bar([3],reduction, color = 'grey', width = 0.4)\n",
    "ax.set_xticks([1,2,3])\n",
    "ax.set_xticklabels(['Natural Gas','Electricity', 'Reduction'])\n",
    "ax.set_ylabel('Utility Costs [$]')\n",
    "ax.legend()\n",
    "ax.set_ylim(0,1000)"
   ]
  },
  {
   "cell_type": "code",
   "execution_count": 291,
   "metadata": {},
   "outputs": [
    {
     "data": {
      "text/plain": [
       "1789.4840402579782"
      ]
     },
     "execution_count": 291,
     "metadata": {},
     "output_type": "execute_result"
    }
   ],
   "source": [
    "# Carbon savings 2021 annual emission factor\n",
    "carbon_reduction_AEF_2021 = (gas_savings_corr * EF_gas) - (elec_increase*AEF_elec_2021)\n",
    "carbon_reduction_AEF_2021"
   ]
  },
  {
   "cell_type": "code",
   "execution_count": 292,
   "metadata": {},
   "outputs": [
    {
     "data": {
      "text/plain": [
       "94.90967093716876"
      ]
     },
     "execution_count": 292,
     "metadata": {},
     "output_type": "execute_result"
    }
   ],
   "source": [
    "# Percentage reduction 2021 AEF\n",
    "100*(1-((elec_increase*AEF_elec_2021)/(gas_savings_corr * EF_gas)))"
   ]
  },
  {
   "cell_type": "code",
   "execution_count": 293,
   "metadata": {},
   "outputs": [
    {
     "data": {
      "text/plain": [
       "1594.4357824566125"
      ]
     },
     "execution_count": 293,
     "metadata": {},
     "output_type": "execute_result"
    }
   ],
   "source": [
    "# Carbon savings 2036 annual emission factor\n",
    "carbon_reduction_AEF_2036 = (gas_savings_corr * EF_gas) - (elec_increase*AEF_elec_2036)\n",
    "carbon_reduction_AEF_2036"
   ]
  },
  {
   "cell_type": "code",
   "execution_count": 294,
   "metadata": {},
   "outputs": [
    {
     "data": {
      "text/plain": [
       "84.56480864818911"
      ]
     },
     "execution_count": 294,
     "metadata": {},
     "output_type": "execute_result"
    }
   ],
   "source": [
    "# Percentage reduction 2036 AEF\n",
    "100*(1-((elec_increase*AEF_elec_2036)/(gas_savings_corr * EF_gas)))"
   ]
  },
  {
   "cell_type": "code",
   "execution_count": 295,
   "metadata": {},
   "outputs": [
    {
     "data": {
      "text/plain": [
       "1535.6117047069943"
      ]
     },
     "execution_count": 295,
     "metadata": {},
     "output_type": "execute_result"
    }
   ],
   "source": [
    "# Carbon reduction 2021 marginal emission factor\n",
    "carbon_reduction_MEF_2021 = (gas_savings_corr * EF_gas) - (elec_increase*MEF_elec_2021)\n",
    "carbon_reduction_MEF_2021"
   ]
  },
  {
   "cell_type": "code",
   "execution_count": 296,
   "metadata": {},
   "outputs": [
    {
     "data": {
      "text/plain": [
       "81.4449295451635"
      ]
     },
     "execution_count": 296,
     "metadata": {},
     "output_type": "execute_result"
    }
   ],
   "source": [
    "# Percentage reduction 2021 MEF\n",
    "100*(1-((elec_increase*MEF_elec_2021)/(gas_savings_corr * EF_gas)))"
   ]
  },
  {
   "cell_type": "code",
   "execution_count": 297,
   "metadata": {},
   "outputs": [
    {
     "data": {
      "text/plain": [
       "832.8187758036604"
      ]
     },
     "execution_count": 297,
     "metadata": {},
     "output_type": "execute_result"
    }
   ],
   "source": [
    "# Carbon reduction 2036 marginal emission factor\n",
    "carbon_reduction_MEF_2036 = (gas_savings_corr * EF_gas) - (elec_increase*MEF_elec_2036)\n",
    "carbon_reduction_MEF_2036"
   ]
  },
  {
   "cell_type": "code",
   "execution_count": 298,
   "metadata": {},
   "outputs": [
    {
     "data": {
      "text/plain": [
       "44.17058447217337"
      ]
     },
     "execution_count": 298,
     "metadata": {},
     "output_type": "execute_result"
    }
   ],
   "source": [
    "# Percentage reduction 2036 MEF\n",
    "100*(1-((elec_increase*MEF_elec_2036)/(gas_savings_corr * EF_gas)))"
   ]
  },
  {
   "cell_type": "markdown",
   "metadata": {},
   "source": [
    "## 8 Future Cost Reductions Due to Carbon Pricing"
   ]
  },
  {
   "cell_type": "markdown",
   "metadata": {},
   "source": [
    "At the end of 2020 the federal government announced a new carbon pricing schedule in their plan titled \"A Healthy Environment and A Healthy Economy.\" Starting in 2023, the federal price on carbon will increase at 15$\\$$ per year to reach $\\$$170 by 2030. This is outlined in the dataframe below. Note the schedule is not available beyond 2030 but it has been assumed to continue escalating at the same rate. Also note the calculated rate gnores other fluctuations in the cost of natural gas and simply adds additional charges onto the current rate."
   ]
  },
  {
   "cell_type": "code",
   "execution_count": 299,
   "metadata": {},
   "outputs": [
    {
     "data": {
      "text/html": [
       "<div>\n",
       "<style scoped>\n",
       "    .dataframe tbody tr th:only-of-type {\n",
       "        vertical-align: middle;\n",
       "    }\n",
       "\n",
       "    .dataframe tbody tr th {\n",
       "        vertical-align: top;\n",
       "    }\n",
       "\n",
       "    .dataframe thead th {\n",
       "        text-align: right;\n",
       "    }\n",
       "</style>\n",
       "<table border=\"1\" class=\"dataframe\">\n",
       "  <thead>\n",
       "    <tr style=\"text-align: right;\">\n",
       "      <th></th>\n",
       "      <th>Year</th>\n",
       "      <th>Carbon Tax ($/tonne)</th>\n",
       "      <th>Carbon Charge Natural Gas ($/m3)</th>\n",
       "    </tr>\n",
       "  </thead>\n",
       "  <tbody>\n",
       "    <tr>\n",
       "      <th>0</th>\n",
       "      <td>2022</td>\n",
       "      <td>50</td>\n",
       "      <td>0.097875</td>\n",
       "    </tr>\n",
       "    <tr>\n",
       "      <th>1</th>\n",
       "      <td>2023</td>\n",
       "      <td>65</td>\n",
       "      <td>0.127238</td>\n",
       "    </tr>\n",
       "    <tr>\n",
       "      <th>2</th>\n",
       "      <td>2024</td>\n",
       "      <td>80</td>\n",
       "      <td>0.156600</td>\n",
       "    </tr>\n",
       "    <tr>\n",
       "      <th>3</th>\n",
       "      <td>2025</td>\n",
       "      <td>95</td>\n",
       "      <td>0.185963</td>\n",
       "    </tr>\n",
       "    <tr>\n",
       "      <th>4</th>\n",
       "      <td>2026</td>\n",
       "      <td>110</td>\n",
       "      <td>0.215325</td>\n",
       "    </tr>\n",
       "    <tr>\n",
       "      <th>5</th>\n",
       "      <td>2027</td>\n",
       "      <td>125</td>\n",
       "      <td>0.244688</td>\n",
       "    </tr>\n",
       "    <tr>\n",
       "      <th>6</th>\n",
       "      <td>2028</td>\n",
       "      <td>140</td>\n",
       "      <td>0.274050</td>\n",
       "    </tr>\n",
       "    <tr>\n",
       "      <th>7</th>\n",
       "      <td>2029</td>\n",
       "      <td>155</td>\n",
       "      <td>0.303412</td>\n",
       "    </tr>\n",
       "    <tr>\n",
       "      <th>8</th>\n",
       "      <td>2030</td>\n",
       "      <td>170</td>\n",
       "      <td>0.332775</td>\n",
       "    </tr>\n",
       "    <tr>\n",
       "      <th>9</th>\n",
       "      <td>2031</td>\n",
       "      <td>185</td>\n",
       "      <td>0.362230</td>\n",
       "    </tr>\n",
       "    <tr>\n",
       "      <th>10</th>\n",
       "      <td>2032</td>\n",
       "      <td>200</td>\n",
       "      <td>0.391600</td>\n",
       "    </tr>\n",
       "    <tr>\n",
       "      <th>11</th>\n",
       "      <td>2033</td>\n",
       "      <td>215</td>\n",
       "      <td>0.420970</td>\n",
       "    </tr>\n",
       "    <tr>\n",
       "      <th>12</th>\n",
       "      <td>2034</td>\n",
       "      <td>230</td>\n",
       "      <td>0.450340</td>\n",
       "    </tr>\n",
       "    <tr>\n",
       "      <th>13</th>\n",
       "      <td>2035</td>\n",
       "      <td>245</td>\n",
       "      <td>0.479710</td>\n",
       "    </tr>\n",
       "    <tr>\n",
       "      <th>14</th>\n",
       "      <td>2036</td>\n",
       "      <td>260</td>\n",
       "      <td>0.509080</td>\n",
       "    </tr>\n",
       "  </tbody>\n",
       "</table>\n",
       "</div>"
      ],
      "text/plain": [
       "    Year  Carbon Tax ($/tonne)  Carbon Charge Natural Gas ($/m3)\n",
       "0   2022                    50                          0.097875\n",
       "1   2023                    65                          0.127238\n",
       "2   2024                    80                          0.156600\n",
       "3   2025                    95                          0.185963\n",
       "4   2026                   110                          0.215325\n",
       "5   2027                   125                          0.244688\n",
       "6   2028                   140                          0.274050\n",
       "7   2029                   155                          0.303412\n",
       "8   2030                   170                          0.332775\n",
       "9   2031                   185                          0.362230\n",
       "10  2032                   200                          0.391600\n",
       "11  2033                   215                          0.420970\n",
       "12  2034                   230                          0.450340\n",
       "13  2035                   245                          0.479710\n",
       "14  2036                   260                          0.509080"
      ]
     },
     "execution_count": 299,
     "metadata": {},
     "output_type": "execute_result"
    }
   ],
   "source": [
    "# Import carbon charge data\n",
    "# You can see this aligns with carbon charge data from enbridge\n",
    "# https://www.enbridgegas.com/residential/my-account/rates/federal-carbon-charge (below)\n",
    "nat_gas_rate_df = pd.read_csv(\"nat_gas_carbon_pricing.csv\")\n",
    "nat_gas_rate_df.head(16)"
   ]
  },
  {
   "cell_type": "markdown",
   "metadata": {},
   "source": [
    "![Enbridge_CC2.png](Enbridge_CC2.png)"
   ]
  },
  {
   "cell_type": "code",
   "execution_count": 300,
   "metadata": {},
   "outputs": [
    {
     "data": {
      "text/html": [
       "<div>\n",
       "<style scoped>\n",
       "    .dataframe tbody tr th:only-of-type {\n",
       "        vertical-align: middle;\n",
       "    }\n",
       "\n",
       "    .dataframe tbody tr th {\n",
       "        vertical-align: top;\n",
       "    }\n",
       "\n",
       "    .dataframe thead th {\n",
       "        text-align: right;\n",
       "    }\n",
       "</style>\n",
       "<table border=\"1\" class=\"dataframe\">\n",
       "  <thead>\n",
       "    <tr style=\"text-align: right;\">\n",
       "      <th></th>\n",
       "      <th>Year</th>\n",
       "      <th>Carbon Tax ($/tonne)</th>\n",
       "      <th>Carbon Charge Natural Gas ($/m3)</th>\n",
       "      <th>Gas_Rate</th>\n",
       "    </tr>\n",
       "  </thead>\n",
       "  <tbody>\n",
       "    <tr>\n",
       "      <th>0</th>\n",
       "      <td>2022</td>\n",
       "      <td>50</td>\n",
       "      <td>0.097875</td>\n",
       "      <td>0.416975</td>\n",
       "    </tr>\n",
       "    <tr>\n",
       "      <th>1</th>\n",
       "      <td>2023</td>\n",
       "      <td>65</td>\n",
       "      <td>0.127238</td>\n",
       "      <td>0.446337</td>\n",
       "    </tr>\n",
       "    <tr>\n",
       "      <th>2</th>\n",
       "      <td>2024</td>\n",
       "      <td>80</td>\n",
       "      <td>0.156600</td>\n",
       "      <td>0.475700</td>\n",
       "    </tr>\n",
       "    <tr>\n",
       "      <th>3</th>\n",
       "      <td>2025</td>\n",
       "      <td>95</td>\n",
       "      <td>0.185963</td>\n",
       "      <td>0.505062</td>\n",
       "    </tr>\n",
       "    <tr>\n",
       "      <th>4</th>\n",
       "      <td>2026</td>\n",
       "      <td>110</td>\n",
       "      <td>0.215325</td>\n",
       "      <td>0.534425</td>\n",
       "    </tr>\n",
       "    <tr>\n",
       "      <th>5</th>\n",
       "      <td>2027</td>\n",
       "      <td>125</td>\n",
       "      <td>0.244688</td>\n",
       "      <td>0.563787</td>\n",
       "    </tr>\n",
       "    <tr>\n",
       "      <th>6</th>\n",
       "      <td>2028</td>\n",
       "      <td>140</td>\n",
       "      <td>0.274050</td>\n",
       "      <td>0.593150</td>\n",
       "    </tr>\n",
       "    <tr>\n",
       "      <th>7</th>\n",
       "      <td>2029</td>\n",
       "      <td>155</td>\n",
       "      <td>0.303412</td>\n",
       "      <td>0.622513</td>\n",
       "    </tr>\n",
       "    <tr>\n",
       "      <th>8</th>\n",
       "      <td>2030</td>\n",
       "      <td>170</td>\n",
       "      <td>0.332775</td>\n",
       "      <td>0.651875</td>\n",
       "    </tr>\n",
       "    <tr>\n",
       "      <th>9</th>\n",
       "      <td>2031</td>\n",
       "      <td>185</td>\n",
       "      <td>0.362230</td>\n",
       "      <td>0.681330</td>\n",
       "    </tr>\n",
       "  </tbody>\n",
       "</table>\n",
       "</div>"
      ],
      "text/plain": [
       "   Year  Carbon Tax ($/tonne)  Carbon Charge Natural Gas ($/m3)  Gas_Rate\n",
       "0  2022                    50                          0.097875  0.416975\n",
       "1  2023                    65                          0.127238  0.446337\n",
       "2  2024                    80                          0.156600  0.475700\n",
       "3  2025                    95                          0.185963  0.505062\n",
       "4  2026                   110                          0.215325  0.534425\n",
       "5  2027                   125                          0.244688  0.563787\n",
       "6  2028                   140                          0.274050  0.593150\n",
       "7  2029                   155                          0.303412  0.622513\n",
       "8  2030                   170                          0.332775  0.651875\n",
       "9  2031                   185                          0.362230  0.681330"
      ]
     },
     "execution_count": 300,
     "metadata": {},
     "output_type": "execute_result"
    }
   ],
   "source": [
    "# Add cost escalation due to carbon charge\n",
    "gas_rate_no_carbon_charge = gas_rate - 0.0979\n",
    "nat_gas_rate_df['Gas_Rate'] = [gas_rate_no_carbon_charge + x for x in nat_gas_rate_df['Carbon Charge Natural Gas ($/m3)']]\n",
    "nat_gas_rate_df.head(10)"
   ]
  },
  {
   "cell_type": "code",
   "execution_count": 301,
   "metadata": {},
   "outputs": [
    {
     "data": {
      "text/html": [
       "<div>\n",
       "<style scoped>\n",
       "    .dataframe tbody tr th:only-of-type {\n",
       "        vertical-align: middle;\n",
       "    }\n",
       "\n",
       "    .dataframe tbody tr th {\n",
       "        vertical-align: top;\n",
       "    }\n",
       "\n",
       "    .dataframe thead th {\n",
       "        text-align: right;\n",
       "    }\n",
       "</style>\n",
       "<table border=\"1\" class=\"dataframe\">\n",
       "  <thead>\n",
       "    <tr style=\"text-align: right;\">\n",
       "      <th></th>\n",
       "      <th>Year</th>\n",
       "      <th>Carbon Tax ($/tonne)</th>\n",
       "      <th>Carbon Charge Natural Gas ($/m3)</th>\n",
       "      <th>Gas_Rate</th>\n",
       "      <th>Elec_Rate</th>\n",
       "    </tr>\n",
       "  </thead>\n",
       "  <tbody>\n",
       "    <tr>\n",
       "      <th>0</th>\n",
       "      <td>2022</td>\n",
       "      <td>50</td>\n",
       "      <td>0.097875</td>\n",
       "      <td>0.416975</td>\n",
       "      <td>0.126000</td>\n",
       "    </tr>\n",
       "    <tr>\n",
       "      <th>1</th>\n",
       "      <td>2023</td>\n",
       "      <td>65</td>\n",
       "      <td>0.127238</td>\n",
       "      <td>0.446337</td>\n",
       "      <td>0.128520</td>\n",
       "    </tr>\n",
       "    <tr>\n",
       "      <th>2</th>\n",
       "      <td>2024</td>\n",
       "      <td>80</td>\n",
       "      <td>0.156600</td>\n",
       "      <td>0.475700</td>\n",
       "      <td>0.131090</td>\n",
       "    </tr>\n",
       "    <tr>\n",
       "      <th>3</th>\n",
       "      <td>2025</td>\n",
       "      <td>95</td>\n",
       "      <td>0.185963</td>\n",
       "      <td>0.505062</td>\n",
       "      <td>0.133712</td>\n",
       "    </tr>\n",
       "    <tr>\n",
       "      <th>4</th>\n",
       "      <td>2026</td>\n",
       "      <td>110</td>\n",
       "      <td>0.215325</td>\n",
       "      <td>0.534425</td>\n",
       "      <td>0.136386</td>\n",
       "    </tr>\n",
       "    <tr>\n",
       "      <th>5</th>\n",
       "      <td>2027</td>\n",
       "      <td>125</td>\n",
       "      <td>0.244688</td>\n",
       "      <td>0.563787</td>\n",
       "      <td>0.139114</td>\n",
       "    </tr>\n",
       "    <tr>\n",
       "      <th>6</th>\n",
       "      <td>2028</td>\n",
       "      <td>140</td>\n",
       "      <td>0.274050</td>\n",
       "      <td>0.593150</td>\n",
       "      <td>0.141896</td>\n",
       "    </tr>\n",
       "    <tr>\n",
       "      <th>7</th>\n",
       "      <td>2029</td>\n",
       "      <td>155</td>\n",
       "      <td>0.303412</td>\n",
       "      <td>0.622513</td>\n",
       "      <td>0.144734</td>\n",
       "    </tr>\n",
       "    <tr>\n",
       "      <th>8</th>\n",
       "      <td>2030</td>\n",
       "      <td>170</td>\n",
       "      <td>0.332775</td>\n",
       "      <td>0.651875</td>\n",
       "      <td>0.147629</td>\n",
       "    </tr>\n",
       "    <tr>\n",
       "      <th>9</th>\n",
       "      <td>2031</td>\n",
       "      <td>185</td>\n",
       "      <td>0.362230</td>\n",
       "      <td>0.681330</td>\n",
       "      <td>0.150582</td>\n",
       "    </tr>\n",
       "  </tbody>\n",
       "</table>\n",
       "</div>"
      ],
      "text/plain": [
       "   Year  Carbon Tax ($/tonne)  Carbon Charge Natural Gas ($/m3)  Gas_Rate  \\\n",
       "0  2022                    50                          0.097875  0.416975   \n",
       "1  2023                    65                          0.127238  0.446337   \n",
       "2  2024                    80                          0.156600  0.475700   \n",
       "3  2025                    95                          0.185963  0.505062   \n",
       "4  2026                   110                          0.215325  0.534425   \n",
       "5  2027                   125                          0.244688  0.563787   \n",
       "6  2028                   140                          0.274050  0.593150   \n",
       "7  2029                   155                          0.303412  0.622513   \n",
       "8  2030                   170                          0.332775  0.651875   \n",
       "9  2031                   185                          0.362230  0.681330   \n",
       "\n",
       "   Elec_Rate  \n",
       "0   0.126000  \n",
       "1   0.128520  \n",
       "2   0.131090  \n",
       "3   0.133712  \n",
       "4   0.136386  \n",
       "5   0.139114  \n",
       "6   0.141896  \n",
       "7   0.144734  \n",
       "8   0.147629  \n",
       "9   0.150582  "
      ]
     },
     "execution_count": 301,
     "metadata": {},
     "output_type": "execute_result"
    }
   ],
   "source": [
    "# Add electricity cost escalation - \n",
    "# Assume 2% per year there has been no recent long-term energy plan to for a better estimate\n",
    "# Just add it to natural gas data frame\n",
    "nat_gas_rate_df['Elec_Rate'] = [elec_rate*(1.02)**x for x in nat_gas_rate_df.index]\n",
    "nat_gas_rate_df.head(10)"
   ]
  },
  {
   "cell_type": "code",
   "execution_count": 302,
   "metadata": {},
   "outputs": [
    {
     "data": {
      "text/html": [
       "<div>\n",
       "<style scoped>\n",
       "    .dataframe tbody tr th:only-of-type {\n",
       "        vertical-align: middle;\n",
       "    }\n",
       "\n",
       "    .dataframe tbody tr th {\n",
       "        vertical-align: top;\n",
       "    }\n",
       "\n",
       "    .dataframe thead th {\n",
       "        text-align: right;\n",
       "    }\n",
       "</style>\n",
       "<table border=\"1\" class=\"dataframe\">\n",
       "  <thead>\n",
       "    <tr style=\"text-align: right;\">\n",
       "      <th></th>\n",
       "      <th>Year</th>\n",
       "      <th>Carbon Tax ($/tonne)</th>\n",
       "      <th>Carbon Charge Natural Gas ($/m3)</th>\n",
       "      <th>Gas_Rate</th>\n",
       "      <th>Elec_Rate</th>\n",
       "      <th>Annual_Gas_Savings_m3</th>\n",
       "      <th>Annual_Elec_Increase_kWh</th>\n",
       "      <th>Annual_Gas_Savings_dol</th>\n",
       "      <th>Annual_Elec_Increase_dol</th>\n",
       "      <th>Annual_Net_Cost_Change</th>\n",
       "    </tr>\n",
       "  </thead>\n",
       "  <tbody>\n",
       "    <tr>\n",
       "      <th>0</th>\n",
       "      <td>2022</td>\n",
       "      <td>50</td>\n",
       "      <td>0.097875</td>\n",
       "      <td>0.416975</td>\n",
       "      <td>0.126000</td>\n",
       "      <td>997.597972</td>\n",
       "      <td>3096.004092</td>\n",
       "      <td>415.973414</td>\n",
       "      <td>390.096516</td>\n",
       "      <td>-25.876899</td>\n",
       "    </tr>\n",
       "    <tr>\n",
       "      <th>1</th>\n",
       "      <td>2023</td>\n",
       "      <td>65</td>\n",
       "      <td>0.127238</td>\n",
       "      <td>0.446337</td>\n",
       "      <td>0.128520</td>\n",
       "      <td>997.597972</td>\n",
       "      <td>3096.004092</td>\n",
       "      <td>445.265385</td>\n",
       "      <td>397.898446</td>\n",
       "      <td>-47.366939</td>\n",
       "    </tr>\n",
       "    <tr>\n",
       "      <th>2</th>\n",
       "      <td>2024</td>\n",
       "      <td>80</td>\n",
       "      <td>0.156600</td>\n",
       "      <td>0.475700</td>\n",
       "      <td>0.131090</td>\n",
       "      <td>997.597972</td>\n",
       "      <td>3096.004092</td>\n",
       "      <td>474.557355</td>\n",
       "      <td>405.856415</td>\n",
       "      <td>-68.700940</td>\n",
       "    </tr>\n",
       "    <tr>\n",
       "      <th>3</th>\n",
       "      <td>2025</td>\n",
       "      <td>95</td>\n",
       "      <td>0.185963</td>\n",
       "      <td>0.505062</td>\n",
       "      <td>0.133712</td>\n",
       "      <td>997.597972</td>\n",
       "      <td>3096.004092</td>\n",
       "      <td>503.849326</td>\n",
       "      <td>413.973543</td>\n",
       "      <td>-89.875783</td>\n",
       "    </tr>\n",
       "    <tr>\n",
       "      <th>4</th>\n",
       "      <td>2026</td>\n",
       "      <td>110</td>\n",
       "      <td>0.215325</td>\n",
       "      <td>0.534425</td>\n",
       "      <td>0.136386</td>\n",
       "      <td>997.597972</td>\n",
       "      <td>3096.004092</td>\n",
       "      <td>533.141296</td>\n",
       "      <td>422.253014</td>\n",
       "      <td>-110.888282</td>\n",
       "    </tr>\n",
       "    <tr>\n",
       "      <th>5</th>\n",
       "      <td>2027</td>\n",
       "      <td>125</td>\n",
       "      <td>0.244688</td>\n",
       "      <td>0.563787</td>\n",
       "      <td>0.139114</td>\n",
       "      <td>997.597972</td>\n",
       "      <td>3096.004092</td>\n",
       "      <td>562.433267</td>\n",
       "      <td>430.698074</td>\n",
       "      <td>-131.735192</td>\n",
       "    </tr>\n",
       "    <tr>\n",
       "      <th>6</th>\n",
       "      <td>2028</td>\n",
       "      <td>140</td>\n",
       "      <td>0.274050</td>\n",
       "      <td>0.593150</td>\n",
       "      <td>0.141896</td>\n",
       "      <td>997.597972</td>\n",
       "      <td>3096.004092</td>\n",
       "      <td>591.725237</td>\n",
       "      <td>439.312036</td>\n",
       "      <td>-152.413201</td>\n",
       "    </tr>\n",
       "    <tr>\n",
       "      <th>7</th>\n",
       "      <td>2029</td>\n",
       "      <td>155</td>\n",
       "      <td>0.303412</td>\n",
       "      <td>0.622513</td>\n",
       "      <td>0.144734</td>\n",
       "      <td>997.597972</td>\n",
       "      <td>3096.004092</td>\n",
       "      <td>621.017208</td>\n",
       "      <td>448.098276</td>\n",
       "      <td>-172.918931</td>\n",
       "    </tr>\n",
       "    <tr>\n",
       "      <th>8</th>\n",
       "      <td>2030</td>\n",
       "      <td>170</td>\n",
       "      <td>0.332775</td>\n",
       "      <td>0.651875</td>\n",
       "      <td>0.147629</td>\n",
       "      <td>997.597972</td>\n",
       "      <td>3096.004092</td>\n",
       "      <td>650.309178</td>\n",
       "      <td>457.060242</td>\n",
       "      <td>-193.248936</td>\n",
       "    </tr>\n",
       "    <tr>\n",
       "      <th>9</th>\n",
       "      <td>2031</td>\n",
       "      <td>185</td>\n",
       "      <td>0.362230</td>\n",
       "      <td>0.681330</td>\n",
       "      <td>0.150582</td>\n",
       "      <td>997.597972</td>\n",
       "      <td>3096.004092</td>\n",
       "      <td>679.693426</td>\n",
       "      <td>466.201447</td>\n",
       "      <td>-213.491979</td>\n",
       "    </tr>\n",
       "    <tr>\n",
       "      <th>10</th>\n",
       "      <td>2032</td>\n",
       "      <td>200</td>\n",
       "      <td>0.391600</td>\n",
       "      <td>0.710700</td>\n",
       "      <td>0.153593</td>\n",
       "      <td>997.597972</td>\n",
       "      <td>3096.004092</td>\n",
       "      <td>708.992879</td>\n",
       "      <td>475.525476</td>\n",
       "      <td>-233.467403</td>\n",
       "    </tr>\n",
       "    <tr>\n",
       "      <th>11</th>\n",
       "      <td>2033</td>\n",
       "      <td>215</td>\n",
       "      <td>0.420970</td>\n",
       "      <td>0.740070</td>\n",
       "      <td>0.156665</td>\n",
       "      <td>997.597972</td>\n",
       "      <td>3096.004092</td>\n",
       "      <td>738.292331</td>\n",
       "      <td>485.035985</td>\n",
       "      <td>-253.256346</td>\n",
       "    </tr>\n",
       "    <tr>\n",
       "      <th>12</th>\n",
       "      <td>2034</td>\n",
       "      <td>230</td>\n",
       "      <td>0.450340</td>\n",
       "      <td>0.769440</td>\n",
       "      <td>0.159798</td>\n",
       "      <td>997.597972</td>\n",
       "      <td>3096.004092</td>\n",
       "      <td>767.591784</td>\n",
       "      <td>494.736705</td>\n",
       "      <td>-272.855079</td>\n",
       "    </tr>\n",
       "    <tr>\n",
       "      <th>13</th>\n",
       "      <td>2035</td>\n",
       "      <td>245</td>\n",
       "      <td>0.479710</td>\n",
       "      <td>0.798810</td>\n",
       "      <td>0.162994</td>\n",
       "      <td>997.597972</td>\n",
       "      <td>3096.004092</td>\n",
       "      <td>796.891236</td>\n",
       "      <td>504.631439</td>\n",
       "      <td>-292.259797</td>\n",
       "    </tr>\n",
       "    <tr>\n",
       "      <th>14</th>\n",
       "      <td>2036</td>\n",
       "      <td>260</td>\n",
       "      <td>0.509080</td>\n",
       "      <td>0.828180</td>\n",
       "      <td>0.166254</td>\n",
       "      <td>997.597972</td>\n",
       "      <td>3096.004092</td>\n",
       "      <td>826.190688</td>\n",
       "      <td>514.724068</td>\n",
       "      <td>-311.466621</td>\n",
       "    </tr>\n",
       "  </tbody>\n",
       "</table>\n",
       "</div>"
      ],
      "text/plain": [
       "    Year  Carbon Tax ($/tonne)  Carbon Charge Natural Gas ($/m3)  Gas_Rate  \\\n",
       "0   2022                    50                          0.097875  0.416975   \n",
       "1   2023                    65                          0.127238  0.446337   \n",
       "2   2024                    80                          0.156600  0.475700   \n",
       "3   2025                    95                          0.185963  0.505062   \n",
       "4   2026                   110                          0.215325  0.534425   \n",
       "5   2027                   125                          0.244688  0.563787   \n",
       "6   2028                   140                          0.274050  0.593150   \n",
       "7   2029                   155                          0.303412  0.622513   \n",
       "8   2030                   170                          0.332775  0.651875   \n",
       "9   2031                   185                          0.362230  0.681330   \n",
       "10  2032                   200                          0.391600  0.710700   \n",
       "11  2033                   215                          0.420970  0.740070   \n",
       "12  2034                   230                          0.450340  0.769440   \n",
       "13  2035                   245                          0.479710  0.798810   \n",
       "14  2036                   260                          0.509080  0.828180   \n",
       "\n",
       "    Elec_Rate  Annual_Gas_Savings_m3  Annual_Elec_Increase_kWh  \\\n",
       "0    0.126000             997.597972               3096.004092   \n",
       "1    0.128520             997.597972               3096.004092   \n",
       "2    0.131090             997.597972               3096.004092   \n",
       "3    0.133712             997.597972               3096.004092   \n",
       "4    0.136386             997.597972               3096.004092   \n",
       "5    0.139114             997.597972               3096.004092   \n",
       "6    0.141896             997.597972               3096.004092   \n",
       "7    0.144734             997.597972               3096.004092   \n",
       "8    0.147629             997.597972               3096.004092   \n",
       "9    0.150582             997.597972               3096.004092   \n",
       "10   0.153593             997.597972               3096.004092   \n",
       "11   0.156665             997.597972               3096.004092   \n",
       "12   0.159798             997.597972               3096.004092   \n",
       "13   0.162994             997.597972               3096.004092   \n",
       "14   0.166254             997.597972               3096.004092   \n",
       "\n",
       "    Annual_Gas_Savings_dol  Annual_Elec_Increase_dol  Annual_Net_Cost_Change  \n",
       "0               415.973414                390.096516              -25.876899  \n",
       "1               445.265385                397.898446              -47.366939  \n",
       "2               474.557355                405.856415              -68.700940  \n",
       "3               503.849326                413.973543              -89.875783  \n",
       "4               533.141296                422.253014             -110.888282  \n",
       "5               562.433267                430.698074             -131.735192  \n",
       "6               591.725237                439.312036             -152.413201  \n",
       "7               621.017208                448.098276             -172.918931  \n",
       "8               650.309178                457.060242             -193.248936  \n",
       "9               679.693426                466.201447             -213.491979  \n",
       "10              708.992879                475.525476             -233.467403  \n",
       "11              738.292331                485.035985             -253.256346  \n",
       "12              767.591784                494.736705             -272.855079  \n",
       "13              796.891236                504.631439             -292.259797  \n",
       "14              826.190688                514.724068             -311.466621  "
      ]
     },
     "execution_count": 302,
     "metadata": {},
     "output_type": "execute_result"
    }
   ],
   "source": [
    "# Add utility costs\n",
    "nat_gas_rate_df['Annual_Gas_Savings_m3'] = [gas_savings_corr for x in nat_gas_rate_df.Gas_Rate]\n",
    "nat_gas_rate_df['Annual_Elec_Increase_kWh'] = [elec_increase for x in nat_gas_rate_df.Elec_Rate] #elec_increase + add_elec_increase\n",
    "nat_gas_rate_df['Annual_Gas_Savings_dol'] = [gas_savings_corr*x for x in nat_gas_rate_df.Gas_Rate]\n",
    "nat_gas_rate_df['Annual_Elec_Increase_dol'] = [elec_increase*x for x in nat_gas_rate_df.Elec_Rate]\n",
    "nat_gas_rate_df['Annual_Net_Cost_Change'] = [y - x for x,y in zip(nat_gas_rate_df.Annual_Gas_Savings_dol,nat_gas_rate_df.Annual_Elec_Increase_dol)]\n",
    "nat_gas_rate_df.head(15)"
   ]
  },
  {
   "cell_type": "code",
   "execution_count": 303,
   "metadata": {},
   "outputs": [
    {
     "data": {
      "text/plain": [
       "-2569.8223280997436"
      ]
     },
     "execution_count": 303,
     "metadata": {},
     "output_type": "execute_result"
    }
   ],
   "source": [
    "# Total net cost to 2030\n",
    "nat_gas_rate_df.Annual_Net_Cost_Change.sum()"
   ]
  },
  {
   "cell_type": "code",
   "execution_count": 304,
   "metadata": {},
   "outputs": [],
   "source": [
    "nat_gas_rate_df.to_csv('gas_rates_df.csv')"
   ]
  },
  {
   "cell_type": "code",
   "execution_count": 305,
   "metadata": {},
   "outputs": [
    {
     "data": {
      "text/plain": [
       "Text(0, 0.5, 'Net Annual Utility Cost Change [$]')"
      ]
     },
     "execution_count": 305,
     "metadata": {},
     "output_type": "execute_result"
    },
    {
     "data": {
      "image/png": "[encoded data removed]",
      "text/plain": [
       "<Figure size 504x360 with 1 Axes>"
      ]
     },
     "metadata": {
      "needs_background": "light"
     },
     "output_type": "display_data"
    }
   ],
   "source": [
    "# Visualize -lifetime\n",
    "plt.figure(figsize=(7,5))\n",
    "plt.bar(nat_gas_rate_df.Year,nat_gas_rate_df.Annual_Net_Cost_Change,color=step_blue, align = 'center', width = 0.4)\n",
    "plt.grid(ls='--')\n",
    "plt.ylabel('Net Annual Utility Cost Change [$]')"
   ]
  },
  {
   "cell_type": "code",
   "execution_count": 306,
   "metadata": {},
   "outputs": [
    {
     "data": {
      "text/plain": [
       "Text(0, 0.5, 'Net Annual Utility Cost Change [$]')"
      ]
     },
     "execution_count": 306,
     "metadata": {},
     "output_type": "execute_result"
    },
    {
     "data": {
      "image/png": "[encoded data removed]",
      "text/plain": [
       "<Figure size 504x360 with 1 Axes>"
      ]
     },
     "metadata": {
      "needs_background": "light"
     },
     "output_type": "display_data"
    }
   ],
   "source": [
    "# Visualize - to 2030\n",
    "plt.figure(figsize=(7,5))\n",
    "plt.bar(nat_gas_rate_df.loc[nat_gas_rate_df.index<9].Year,\n",
    "        nat_gas_rate_df.loc[nat_gas_rate_df.index<9].Annual_Net_Cost_Change,\n",
    "        color=step_blue, \n",
    "        align = 'center', \n",
    "        width = 0.4)\n",
    "plt.grid(ls='--')\n",
    "plt.ylabel('Net Annual Utility Cost Change [$]')"
   ]
  },
  {
   "cell_type": "markdown",
   "metadata": {},
   "source": [
    "This analysis is taking the energy savings from the post-retrofit period and assuming that it will be constant on an annual basis moving forward. This is a simplification. In reality, future savings will vary with the annual changes in weather. It is useful to confirm whether or not the post-retrofit was an outlying year that is not a good representation of future savings. To do that it's possible just to look at total HDDs of the post-retrofit period vs. the same time period from 10 previous years. "
   ]
  },
  {
   "cell_type": "code",
   "execution_count": 307,
   "metadata": {},
   "outputs": [
    {
     "data": {
      "text/plain": [
       "1467.2041666666667"
      ]
     },
     "execution_count": 307,
     "metadata": {},
     "output_type": "execute_result"
    }
   ],
   "source": [
    "HDD_total(datetime.datetime.strptime(\"2020-12-30\",\"%Y-%m-%d\"),datetime.datetime.strptime(\"2021-10-28\",\"%Y-%m-%d\"))['HDDs']"
   ]
  },
  {
   "cell_type": "code",
   "execution_count": 308,
   "metadata": {},
   "outputs": [
    {
     "name": "stdout",
     "output_type": "stream",
     "text": [
      "2021 1467.2041666666667\n",
      "2020 1486.1458333333333\n",
      "2019 1746.9958333333334\n",
      "2018 1733.1\n",
      "2017 1388.4541666666664\n",
      "2016 1526.6375\n",
      "2015 1996.475\n",
      "2014 2007.208333333333\n",
      "2013 1602.4499999999998\n",
      "2012 1254.7291666666665\n"
     ]
    }
   ],
   "source": [
    "year = [2021,2020,2019,2018,2017,2016,2015,2014,2013,2012]\n",
    "strts = [\"2020-12-30\",\"2019-12-30\",\"2018-12-30\",\"2017-12-30\",\"2016-12-30\",\"2015-12-30\",\"2014-12-30\",\"2013-12-30\",\"2012-12-30\",\"2011-12-30\"]\n",
    "ends = [\"2021-10-28\",\"2020-10-28\",\"2019-10-28\",\"2018-10-28\",\"2017-10-28\",\"2016-10-28\",\"2015-10-28\",\"2014-10-28\",\"2013-10-28\",\"2012-10-28\"]\n",
    "HDD_list = []\n",
    "\n",
    "for st,en, yr in zip(strts,ends, year):\n",
    "    HDDs_ = HDD_total(datetime.datetime.strptime(st,\"%Y-%m-%d\"),datetime.datetime.strptime(en,\"%Y-%m-%d\"))['HDDs']\n",
    "    HDD_list.append(HDDs_)\n",
    "    print(str(yr) + \" \" + str(HDDs_))"
   ]
  },
  {
   "cell_type": "code",
   "execution_count": 309,
   "metadata": {},
   "outputs": [
    {
     "data": {
      "text/plain": [
       "1620.94"
      ]
     },
     "execution_count": 309,
     "metadata": {},
     "output_type": "execute_result"
    }
   ],
   "source": [
    "# Mean HDDs\n",
    "sum(HDD_list)/len(HDD_list)"
   ]
  },
  {
   "cell_type": "code",
   "execution_count": 310,
   "metadata": {},
   "outputs": [
    {
     "data": {
      "text/plain": [
       "0.9055555555555556"
      ]
     },
     "execution_count": 310,
     "metadata": {},
     "output_type": "execute_result"
    }
   ],
   "source": [
    "# Difference between 2021 and Mean\n",
    "1467/1620"
   ]
  },
  {
   "cell_type": "markdown",
   "metadata": {},
   "source": [
    "The total HDDs for the post-retrofit period in this analysis are 9% lower than the mean HDDs for the same period across the last 10 years. It follows that, while 2021 is not a outlier (2 years were warmer - 2012 & 2017 - two year was near in HDDs - 2020 & 2016), it was milder than average. \n",
    "\n",
    "This doesn't necessarily mean that the savings would be lower in a year that was closer to the mean. Savings could actually be greater since there are more heating hours. It all depends on the distribution of temperatures and not just the total HDDs. A further complication is that the weather conditions from past 10 years may not necessarily be entirely representative of the next 15 years, due to climate change. \n",
    "\n",
    "An additional complication is that we don't actually know the efficiency the homeowners furnace was previously performing at and it was at the end of it's useful life. A new high-efficiency furnace might perform better. As is, the analysis shows the savings from replacing an old high-efficiency furnace, not a new one. Detailed monitoring could help shed light here but funding was not available to do this.\n",
    "\n",
    "Taking all these factors into account increases complexity of the analysis without providing substantial additional value.\n",
    "A simpler approach might to consider a sensitivity analysis to look at what happens if gas savings is lower than determined her but electricity consumption remains the same."
   ]
  },
  {
   "cell_type": "code",
   "execution_count": 311,
   "metadata": {},
   "outputs": [],
   "source": [
    "# Add utility costs \n",
    "\n",
    "# Scenario where gas savings is lower by 2%\n",
    "nat_gas_rate_df['Annual_Gas_Savings_dol_2perc'] = [gas_savings_corr*x*0.98 for x in nat_gas_rate_df.Gas_Rate]\n",
    "nat_gas_rate_df['Annual_Net_Cost_Change_2perc'] = [y - x for x,y in zip(nat_gas_rate_df.Annual_Gas_Savings_dol_2perc,nat_gas_rate_df.Annual_Elec_Increase_dol)]\n",
    "\n",
    "# Scenario where gas savings is lower by 5%\n",
    "nat_gas_rate_df['Annual_Gas_Savings_dol_5perc'] = [gas_savings_corr*x*0.95 for x in nat_gas_rate_df.Gas_Rate]\n",
    "nat_gas_rate_df['Annual_Net_Cost_Change_5perc'] = [y - x for x,y in zip(nat_gas_rate_df.Annual_Gas_Savings_dol_5perc,nat_gas_rate_df.Annual_Elec_Increase_dol)]\n",
    "\n",
    "# Scenario where gas savings is lower by 10%\n",
    "nat_gas_rate_df['Annual_Gas_Savings_dol_10perc'] = [gas_savings_corr*x*0.90 for x in nat_gas_rate_df.Gas_Rate]\n",
    "nat_gas_rate_df['Annual_Net_Cost_Change_10perc'] = [y - x for x,y in zip(nat_gas_rate_df.Annual_Gas_Savings_dol_10perc,nat_gas_rate_df.Annual_Elec_Increase_dol)]"
   ]
  },
  {
   "cell_type": "code",
   "execution_count": 312,
   "metadata": {},
   "outputs": [
    {
     "data": {
      "text/plain": [
       "-2383.503847900199"
      ]
     },
     "execution_count": 312,
     "metadata": {},
     "output_type": "execute_result"
    }
   ],
   "source": [
    "# Look at total lifetime cost savings if gas savings is 2% lower than calculated above\n",
    "nat_gas_rate_df['Annual_Net_Cost_Change_2perc'].sum()"
   ]
  },
  {
   "cell_type": "code",
   "execution_count": 313,
   "metadata": {},
   "outputs": [
    {
     "data": {
      "text/plain": [
       "-2104.0261276008823"
      ]
     },
     "execution_count": 313,
     "metadata": {},
     "output_type": "execute_result"
    }
   ],
   "source": [
    "# Look at total lifetime cost savings if gas savings is 5% lower than calculated above\n",
    "nat_gas_rate_df['Annual_Net_Cost_Change_5perc'].sum()"
   ]
  },
  {
   "cell_type": "code",
   "execution_count": 314,
   "metadata": {},
   "outputs": [
    {
     "data": {
      "text/plain": [
       "-1638.2299271020213"
      ]
     },
     "execution_count": 314,
     "metadata": {},
     "output_type": "execute_result"
    }
   ],
   "source": [
    "# Look at total lifetime cost savings if gas savings is 10% lower than calculated above\n",
    "nat_gas_rate_df['Annual_Net_Cost_Change_10perc'].sum()"
   ]
  },
  {
   "cell_type": "markdown",
   "metadata": {},
   "source": [
    "Cost savings reduces if gas savings are lower. But it doesn't change the broader picture that the ASHP becomes the lower cost option on utility bills. If gas savings were 10% lower, it would just not happen until 2023, instead of 2022."
   ]
  },
  {
   "cell_type": "code",
   "execution_count": 315,
   "metadata": {},
   "outputs": [
    {
     "data": {
      "text/html": [
       "<div>\n",
       "<style scoped>\n",
       "    .dataframe tbody tr th:only-of-type {\n",
       "        vertical-align: middle;\n",
       "    }\n",
       "\n",
       "    .dataframe tbody tr th {\n",
       "        vertical-align: top;\n",
       "    }\n",
       "\n",
       "    .dataframe thead th {\n",
       "        text-align: right;\n",
       "    }\n",
       "</style>\n",
       "<table border=\"1\" class=\"dataframe\">\n",
       "  <thead>\n",
       "    <tr style=\"text-align: right;\">\n",
       "      <th></th>\n",
       "      <th>Year</th>\n",
       "      <th>Carbon Tax ($/tonne)</th>\n",
       "      <th>Carbon Charge Natural Gas ($/m3)</th>\n",
       "      <th>Gas_Rate</th>\n",
       "      <th>Elec_Rate</th>\n",
       "      <th>Annual_Gas_Savings_m3</th>\n",
       "      <th>Annual_Elec_Increase_kWh</th>\n",
       "      <th>Annual_Gas_Savings_dol</th>\n",
       "      <th>Annual_Elec_Increase_dol</th>\n",
       "      <th>Annual_Net_Cost_Change</th>\n",
       "      <th>Annual_Gas_Savings_dol_2perc</th>\n",
       "      <th>Annual_Net_Cost_Change_2perc</th>\n",
       "      <th>Annual_Gas_Savings_dol_5perc</th>\n",
       "      <th>Annual_Net_Cost_Change_5perc</th>\n",
       "      <th>Annual_Gas_Savings_dol_10perc</th>\n",
       "      <th>Annual_Net_Cost_Change_10perc</th>\n",
       "    </tr>\n",
       "  </thead>\n",
       "  <tbody>\n",
       "    <tr>\n",
       "      <th>0</th>\n",
       "      <td>2022</td>\n",
       "      <td>50</td>\n",
       "      <td>0.097875</td>\n",
       "      <td>0.416975</td>\n",
       "      <td>0.126000</td>\n",
       "      <td>997.597972</td>\n",
       "      <td>3096.004092</td>\n",
       "      <td>415.973414</td>\n",
       "      <td>390.096516</td>\n",
       "      <td>-25.876899</td>\n",
       "      <td>407.653946</td>\n",
       "      <td>-17.557430</td>\n",
       "      <td>395.174744</td>\n",
       "      <td>-5.078228</td>\n",
       "      <td>374.376073</td>\n",
       "      <td>15.720443</td>\n",
       "    </tr>\n",
       "    <tr>\n",
       "      <th>1</th>\n",
       "      <td>2023</td>\n",
       "      <td>65</td>\n",
       "      <td>0.127238</td>\n",
       "      <td>0.446337</td>\n",
       "      <td>0.128520</td>\n",
       "      <td>997.597972</td>\n",
       "      <td>3096.004092</td>\n",
       "      <td>445.265385</td>\n",
       "      <td>397.898446</td>\n",
       "      <td>-47.366939</td>\n",
       "      <td>436.360077</td>\n",
       "      <td>-38.461631</td>\n",
       "      <td>423.002116</td>\n",
       "      <td>-25.103670</td>\n",
       "      <td>400.738846</td>\n",
       "      <td>-2.840400</td>\n",
       "    </tr>\n",
       "    <tr>\n",
       "      <th>2</th>\n",
       "      <td>2024</td>\n",
       "      <td>80</td>\n",
       "      <td>0.156600</td>\n",
       "      <td>0.475700</td>\n",
       "      <td>0.131090</td>\n",
       "      <td>997.597972</td>\n",
       "      <td>3096.004092</td>\n",
       "      <td>474.557355</td>\n",
       "      <td>405.856415</td>\n",
       "      <td>-68.700940</td>\n",
       "      <td>465.066208</td>\n",
       "      <td>-59.209793</td>\n",
       "      <td>450.829488</td>\n",
       "      <td>-44.973073</td>\n",
       "      <td>427.101620</td>\n",
       "      <td>-21.245205</td>\n",
       "    </tr>\n",
       "    <tr>\n",
       "      <th>3</th>\n",
       "      <td>2025</td>\n",
       "      <td>95</td>\n",
       "      <td>0.185963</td>\n",
       "      <td>0.505062</td>\n",
       "      <td>0.133712</td>\n",
       "      <td>997.597972</td>\n",
       "      <td>3096.004092</td>\n",
       "      <td>503.849326</td>\n",
       "      <td>413.973543</td>\n",
       "      <td>-89.875783</td>\n",
       "      <td>493.772339</td>\n",
       "      <td>-79.798796</td>\n",
       "      <td>478.656859</td>\n",
       "      <td>-64.683316</td>\n",
       "      <td>453.464393</td>\n",
       "      <td>-39.490850</td>\n",
       "    </tr>\n",
       "    <tr>\n",
       "      <th>4</th>\n",
       "      <td>2026</td>\n",
       "      <td>110</td>\n",
       "      <td>0.215325</td>\n",
       "      <td>0.534425</td>\n",
       "      <td>0.136386</td>\n",
       "      <td>997.597972</td>\n",
       "      <td>3096.004092</td>\n",
       "      <td>533.141296</td>\n",
       "      <td>422.253014</td>\n",
       "      <td>-110.888282</td>\n",
       "      <td>522.478470</td>\n",
       "      <td>-100.225456</td>\n",
       "      <td>506.484231</td>\n",
       "      <td>-84.231217</td>\n",
       "      <td>479.827167</td>\n",
       "      <td>-57.574153</td>\n",
       "    </tr>\n",
       "    <tr>\n",
       "      <th>5</th>\n",
       "      <td>2027</td>\n",
       "      <td>125</td>\n",
       "      <td>0.244688</td>\n",
       "      <td>0.563787</td>\n",
       "      <td>0.139114</td>\n",
       "      <td>997.597972</td>\n",
       "      <td>3096.004092</td>\n",
       "      <td>562.433267</td>\n",
       "      <td>430.698074</td>\n",
       "      <td>-131.735192</td>\n",
       "      <td>551.184601</td>\n",
       "      <td>-120.486527</td>\n",
       "      <td>534.311603</td>\n",
       "      <td>-103.613529</td>\n",
       "      <td>506.189940</td>\n",
       "      <td>-75.491866</td>\n",
       "    </tr>\n",
       "    <tr>\n",
       "      <th>6</th>\n",
       "      <td>2028</td>\n",
       "      <td>140</td>\n",
       "      <td>0.274050</td>\n",
       "      <td>0.593150</td>\n",
       "      <td>0.141896</td>\n",
       "      <td>997.597972</td>\n",
       "      <td>3096.004092</td>\n",
       "      <td>591.725237</td>\n",
       "      <td>439.312036</td>\n",
       "      <td>-152.413201</td>\n",
       "      <td>579.890732</td>\n",
       "      <td>-140.578697</td>\n",
       "      <td>562.138975</td>\n",
       "      <td>-122.826939</td>\n",
       "      <td>532.552713</td>\n",
       "      <td>-93.240678</td>\n",
       "    </tr>\n",
       "    <tr>\n",
       "      <th>7</th>\n",
       "      <td>2029</td>\n",
       "      <td>155</td>\n",
       "      <td>0.303412</td>\n",
       "      <td>0.622513</td>\n",
       "      <td>0.144734</td>\n",
       "      <td>997.597972</td>\n",
       "      <td>3096.004092</td>\n",
       "      <td>621.017208</td>\n",
       "      <td>448.098276</td>\n",
       "      <td>-172.918931</td>\n",
       "      <td>608.596863</td>\n",
       "      <td>-160.498587</td>\n",
       "      <td>589.966347</td>\n",
       "      <td>-141.868071</td>\n",
       "      <td>558.915487</td>\n",
       "      <td>-110.817210</td>\n",
       "    </tr>\n",
       "    <tr>\n",
       "      <th>8</th>\n",
       "      <td>2030</td>\n",
       "      <td>170</td>\n",
       "      <td>0.332775</td>\n",
       "      <td>0.651875</td>\n",
       "      <td>0.147629</td>\n",
       "      <td>997.597972</td>\n",
       "      <td>3096.004092</td>\n",
       "      <td>650.309178</td>\n",
       "      <td>457.060242</td>\n",
       "      <td>-193.248936</td>\n",
       "      <td>637.302994</td>\n",
       "      <td>-180.242752</td>\n",
       "      <td>617.793719</td>\n",
       "      <td>-160.733477</td>\n",
       "      <td>585.278260</td>\n",
       "      <td>-128.218018</td>\n",
       "    </tr>\n",
       "    <tr>\n",
       "      <th>9</th>\n",
       "      <td>2031</td>\n",
       "      <td>185</td>\n",
       "      <td>0.362230</td>\n",
       "      <td>0.681330</td>\n",
       "      <td>0.150582</td>\n",
       "      <td>997.597972</td>\n",
       "      <td>3096.004092</td>\n",
       "      <td>679.693426</td>\n",
       "      <td>466.201447</td>\n",
       "      <td>-213.491979</td>\n",
       "      <td>666.099558</td>\n",
       "      <td>-199.898111</td>\n",
       "      <td>645.708755</td>\n",
       "      <td>-179.507308</td>\n",
       "      <td>611.724084</td>\n",
       "      <td>-145.522637</td>\n",
       "    </tr>\n",
       "    <tr>\n",
       "      <th>10</th>\n",
       "      <td>2032</td>\n",
       "      <td>200</td>\n",
       "      <td>0.391600</td>\n",
       "      <td>0.710700</td>\n",
       "      <td>0.153593</td>\n",
       "      <td>997.597972</td>\n",
       "      <td>3096.004092</td>\n",
       "      <td>708.992879</td>\n",
       "      <td>475.525476</td>\n",
       "      <td>-233.467403</td>\n",
       "      <td>694.813021</td>\n",
       "      <td>-219.287545</td>\n",
       "      <td>673.543235</td>\n",
       "      <td>-198.017759</td>\n",
       "      <td>638.093591</td>\n",
       "      <td>-162.568115</td>\n",
       "    </tr>\n",
       "    <tr>\n",
       "      <th>11</th>\n",
       "      <td>2033</td>\n",
       "      <td>215</td>\n",
       "      <td>0.420970</td>\n",
       "      <td>0.740070</td>\n",
       "      <td>0.156665</td>\n",
       "      <td>997.597972</td>\n",
       "      <td>3096.004092</td>\n",
       "      <td>738.292331</td>\n",
       "      <td>485.035985</td>\n",
       "      <td>-253.256346</td>\n",
       "      <td>723.526485</td>\n",
       "      <td>-238.490499</td>\n",
       "      <td>701.377715</td>\n",
       "      <td>-216.341729</td>\n",
       "      <td>664.463098</td>\n",
       "      <td>-179.427113</td>\n",
       "    </tr>\n",
       "    <tr>\n",
       "      <th>12</th>\n",
       "      <td>2034</td>\n",
       "      <td>230</td>\n",
       "      <td>0.450340</td>\n",
       "      <td>0.769440</td>\n",
       "      <td>0.159798</td>\n",
       "      <td>997.597972</td>\n",
       "      <td>3096.004092</td>\n",
       "      <td>767.591784</td>\n",
       "      <td>494.736705</td>\n",
       "      <td>-272.855079</td>\n",
       "      <td>752.239948</td>\n",
       "      <td>-257.503243</td>\n",
       "      <td>729.212194</td>\n",
       "      <td>-234.475489</td>\n",
       "      <td>690.832605</td>\n",
       "      <td>-196.095900</td>\n",
       "    </tr>\n",
       "    <tr>\n",
       "      <th>13</th>\n",
       "      <td>2035</td>\n",
       "      <td>245</td>\n",
       "      <td>0.479710</td>\n",
       "      <td>0.798810</td>\n",
       "      <td>0.162994</td>\n",
       "      <td>997.597972</td>\n",
       "      <td>3096.004092</td>\n",
       "      <td>796.891236</td>\n",
       "      <td>504.631439</td>\n",
       "      <td>-292.259797</td>\n",
       "      <td>780.953411</td>\n",
       "      <td>-276.321972</td>\n",
       "      <td>757.046674</td>\n",
       "      <td>-252.415235</td>\n",
       "      <td>717.202112</td>\n",
       "      <td>-212.570673</td>\n",
       "    </tr>\n",
       "    <tr>\n",
       "      <th>14</th>\n",
       "      <td>2036</td>\n",
       "      <td>260</td>\n",
       "      <td>0.509080</td>\n",
       "      <td>0.828180</td>\n",
       "      <td>0.166254</td>\n",
       "      <td>997.597972</td>\n",
       "      <td>3096.004092</td>\n",
       "      <td>826.190688</td>\n",
       "      <td>514.724068</td>\n",
       "      <td>-311.466621</td>\n",
       "      <td>809.666875</td>\n",
       "      <td>-294.942807</td>\n",
       "      <td>784.881154</td>\n",
       "      <td>-270.157086</td>\n",
       "      <td>743.571620</td>\n",
       "      <td>-228.847552</td>\n",
       "    </tr>\n",
       "  </tbody>\n",
       "</table>\n",
       "</div>"
      ],
      "text/plain": [
       "    Year  Carbon Tax ($/tonne)  Carbon Charge Natural Gas ($/m3)  Gas_Rate  \\\n",
       "0   2022                    50                          0.097875  0.416975   \n",
       "1   2023                    65                          0.127238  0.446337   \n",
       "2   2024                    80                          0.156600  0.475700   \n",
       "3   2025                    95                          0.185963  0.505062   \n",
       "4   2026                   110                          0.215325  0.534425   \n",
       "5   2027                   125                          0.244688  0.563787   \n",
       "6   2028                   140                          0.274050  0.593150   \n",
       "7   2029                   155                          0.303412  0.622513   \n",
       "8   2030                   170                          0.332775  0.651875   \n",
       "9   2031                   185                          0.362230  0.681330   \n",
       "10  2032                   200                          0.391600  0.710700   \n",
       "11  2033                   215                          0.420970  0.740070   \n",
       "12  2034                   230                          0.450340  0.769440   \n",
       "13  2035                   245                          0.479710  0.798810   \n",
       "14  2036                   260                          0.509080  0.828180   \n",
       "\n",
       "    Elec_Rate  Annual_Gas_Savings_m3  Annual_Elec_Increase_kWh  \\\n",
       "0    0.126000             997.597972               3096.004092   \n",
       "1    0.128520             997.597972               3096.004092   \n",
       "2    0.131090             997.597972               3096.004092   \n",
       "3    0.133712             997.597972               3096.004092   \n",
       "4    0.136386             997.597972               3096.004092   \n",
       "5    0.139114             997.597972               3096.004092   \n",
       "6    0.141896             997.597972               3096.004092   \n",
       "7    0.144734             997.597972               3096.004092   \n",
       "8    0.147629             997.597972               3096.004092   \n",
       "9    0.150582             997.597972               3096.004092   \n",
       "10   0.153593             997.597972               3096.004092   \n",
       "11   0.156665             997.597972               3096.004092   \n",
       "12   0.159798             997.597972               3096.004092   \n",
       "13   0.162994             997.597972               3096.004092   \n",
       "14   0.166254             997.597972               3096.004092   \n",
       "\n",
       "    Annual_Gas_Savings_dol  Annual_Elec_Increase_dol  Annual_Net_Cost_Change  \\\n",
       "0               415.973414                390.096516              -25.876899   \n",
       "1               445.265385                397.898446              -47.366939   \n",
       "2               474.557355                405.856415              -68.700940   \n",
       "3               503.849326                413.973543              -89.875783   \n",
       "4               533.141296                422.253014             -110.888282   \n",
       "5               562.433267                430.698074             -131.735192   \n",
       "6               591.725237                439.312036             -152.413201   \n",
       "7               621.017208                448.098276             -172.918931   \n",
       "8               650.309178                457.060242             -193.248936   \n",
       "9               679.693426                466.201447             -213.491979   \n",
       "10              708.992879                475.525476             -233.467403   \n",
       "11              738.292331                485.035985             -253.256346   \n",
       "12              767.591784                494.736705             -272.855079   \n",
       "13              796.891236                504.631439             -292.259797   \n",
       "14              826.190688                514.724068             -311.466621   \n",
       "\n",
       "    Annual_Gas_Savings_dol_2perc  Annual_Net_Cost_Change_2perc  \\\n",
       "0                     407.653946                    -17.557430   \n",
       "1                     436.360077                    -38.461631   \n",
       "2                     465.066208                    -59.209793   \n",
       "3                     493.772339                    -79.798796   \n",
       "4                     522.478470                   -100.225456   \n",
       "5                     551.184601                   -120.486527   \n",
       "6                     579.890732                   -140.578697   \n",
       "7                     608.596863                   -160.498587   \n",
       "8                     637.302994                   -180.242752   \n",
       "9                     666.099558                   -199.898111   \n",
       "10                    694.813021                   -219.287545   \n",
       "11                    723.526485                   -238.490499   \n",
       "12                    752.239948                   -257.503243   \n",
       "13                    780.953411                   -276.321972   \n",
       "14                    809.666875                   -294.942807   \n",
       "\n",
       "    Annual_Gas_Savings_dol_5perc  Annual_Net_Cost_Change_5perc  \\\n",
       "0                     395.174744                     -5.078228   \n",
       "1                     423.002116                    -25.103670   \n",
       "2                     450.829488                    -44.973073   \n",
       "3                     478.656859                    -64.683316   \n",
       "4                     506.484231                    -84.231217   \n",
       "5                     534.311603                   -103.613529   \n",
       "6                     562.138975                   -122.826939   \n",
       "7                     589.966347                   -141.868071   \n",
       "8                     617.793719                   -160.733477   \n",
       "9                     645.708755                   -179.507308   \n",
       "10                    673.543235                   -198.017759   \n",
       "11                    701.377715                   -216.341729   \n",
       "12                    729.212194                   -234.475489   \n",
       "13                    757.046674                   -252.415235   \n",
       "14                    784.881154                   -270.157086   \n",
       "\n",
       "    Annual_Gas_Savings_dol_10perc  Annual_Net_Cost_Change_10perc  \n",
       "0                      374.376073                      15.720443  \n",
       "1                      400.738846                      -2.840400  \n",
       "2                      427.101620                     -21.245205  \n",
       "3                      453.464393                     -39.490850  \n",
       "4                      479.827167                     -57.574153  \n",
       "5                      506.189940                     -75.491866  \n",
       "6                      532.552713                     -93.240678  \n",
       "7                      558.915487                    -110.817210  \n",
       "8                      585.278260                    -128.218018  \n",
       "9                      611.724084                    -145.522637  \n",
       "10                     638.093591                    -162.568115  \n",
       "11                     664.463098                    -179.427113  \n",
       "12                     690.832605                    -196.095900  \n",
       "13                     717.202112                    -212.570673  \n",
       "14                     743.571620                    -228.847552  "
      ]
     },
     "execution_count": 315,
     "metadata": {},
     "output_type": "execute_result"
    }
   ],
   "source": [
    "nat_gas_rate_df.head(15)"
   ]
  },
  {
   "cell_type": "markdown",
   "metadata": {},
   "source": [
    "# 9 NPV Calculation for Electrification\n",
    "\n",
    "## 9.1 NPV For Each Line Item"
   ]
  },
  {
   "cell_type": "code",
   "execution_count": 316,
   "metadata": {},
   "outputs": [
    {
     "data": {
      "text/plain": [
       "0    -158.738400\n",
       "1    -158.280394\n",
       "2    -157.914704\n",
       "3    -157.643177\n",
       "4    -157.467697\n",
       "5    -157.390183\n",
       "6    -157.412597\n",
       "7    -157.536935\n",
       "8    -157.765237\n",
       "9    -158.083598\n",
       "10   -158.524810\n",
       "11   -159.076350\n",
       "12   -159.740422\n",
       "13   -160.519280\n",
       "14   -161.415216\n",
       "dtype: float64"
      ]
     },
     "execution_count": 316,
     "metadata": {},
     "output_type": "execute_result"
    }
   ],
   "source": [
    "# First look at annual change in costs due to assumption of electric resistance water heating\n",
    "water_heating_kWh = 14.4 * 12 * 10.6  # Assumed tankless water heater and electric tank have comparable EF - 0.96\n",
    "                                      # 10.6 kWh / m3 of gas & 12 months per year\n",
    "                                      # 14.4 m3/month of remaining gas consumption    \n",
    "    \n",
    "water_heating_w_gas = nat_gas_rate_df['Gas_Rate']*14.4*12 # Yearly gas water heating costs including carbon pricing\n",
    "water_heating_w_elec = nat_gas_rate_df['Elec_Rate']*water_heating_kWh # Yearly electric resistance water heating costs assuming 2% escalation\n",
    "\n",
    "water_heating_inc = -1*(water_heating_w_elec - water_heating_w_gas) # Water heating cost increase; negative means increase for NPV\n",
    "water_heating_inc"
   ]
  },
  {
   "cell_type": "code",
   "execution_count": 317,
   "metadata": {},
   "outputs": [],
   "source": [
    "# Function to discount future cashflows\n",
    "def NPV(year,discount,cashflow):\n",
    "    npv = cashflow / ((1 + discount) ** year)\n",
    "    return npv   \n",
    "\n",
    "# Function to calculate payments if financing conventional equipment\n",
    "def pay_calc(r,PV,n): # Determines annual payment if financing conventional equipment\n",
    "                      # r is interest; PV is present value; n is number of years\n",
    "    payments = (r * PV)/(1-(1+r)**(-n))\n",
    "    return payments\n",
    "\n",
    "# Initiatilize some data to iterate over\n",
    "drs = [0.02,0.05,0.07]\n",
    "years = [1,2,3,4,5,6,7,8,9,10,11,12,13,14,15]\n",
    "years_5yr = [1,2,3,4,5] # For furnace calc\n",
    "\n",
    "# Costs (water heater utility costs defined above)\n",
    "upfront_cost_ASHP = -1*((19000+3500)*1.13-5000) # $19k ASHP cost; $3.5k service upgrade; + tax; minus $5k incentive\n",
    "ann_ASHP_loan_repayment = upfront_cost_ASHP/15 # assumes financing at 0%; costs simply spread out over 15 years\n",
    "new_electric_stove = -1000 # assumed electric stove cost of $1k\n",
    "new_electric_water_heater = -1*(600+1000)*1.13 # assumed water heater cost of $600 + $1k install + tax\n",
    "\n",
    "# Savings\n",
    "ann_prop_insur_sav = 80 # assumed $80/yr property tax savings (obtained from other retrofits)\n",
    "ann_GCC = 300 # assumed gas customer charge remains unchanged at $300 per year\n",
    "utility_sav = nat_gas_rate_df['Annual_Net_Cost_Change']*-1 # utility savings as calculated above\n",
    "stove_replacement = 1000 # in 8-years; assumed gas stove costs comparable to electric\n",
    "on_demand_WH = 3500*1.13-400 # in 8-years; assumed on-demand WH installed cost of $3.5k + tax minus $400 Enbridge incentive\n",
    "furnace_AC_cost = 8000*1.13 # assumed average upfront costs of conventional furnace-A/C $8k + tax\n",
    "annual_furnace_payment = pay_calc(0.04,furnace_AC_cost,5) # Financing furnace; 4% interest over 5 years\n",
    "\n",
    "NPV_list = []\n",
    "NPV_list_only_heating = []\n",
    "\n",
    "for dr in drs:\n",
    "    NPV_ASHP = 0\n",
    "    NPV_prop_sav = 0\n",
    "    NPV_GCC = 0\n",
    "    NPV_util = 0\n",
    "    NPV_furnace = 0\n",
    "    NPV_WH = 0\n",
    "    for yr,save,inc in zip(years,utility_sav,water_heating_inc):\n",
    "        NPV_ASHP = NPV_ASHP + NPV(yr,dr,ann_ASHP_loan_repayment)\n",
    "        NPV_prop_sav = NPV_prop_sav + NPV(yr,dr,ann_prop_insur_sav)\n",
    "        NPV_GCC = NPV_GCC + NPV(yr,dr,ann_GCC)\n",
    "        NPV_util = NPV_util + NPV(yr,dr,save)\n",
    "        NPV_WH = NPV_WH + NPV(yr,dr,inc)\n",
    "    NPV_stove_replace = NPV(8,dr,stove_replacement)\n",
    "    NPV_WH_replace = NPV(8,dr,on_demand_WH)\n",
    "    NPV_elec_stove = new_electric_stove\n",
    "    NPV_elec_WH = new_electric_water_heater\n",
    "    for yr in years_5yr:\n",
    "        NPV_furnace = NPV_furnace + NPV(yr,dr,annual_furnace_payment)\n",
    "    NPV_list.append([NPV_ASHP,\n",
    "                     NPV_elec_WH,\n",
    "                     NPV_elec_stove,\n",
    "                     NPV_WH, \n",
    "                     NPV_furnace, \n",
    "                     NPV_WH_replace, \n",
    "                     NPV_stove_replace,\n",
    "                     NPV_util,\n",
    "                     NPV_prop_sav,\n",
    "                     NPV_GCC])\n",
    "    NPV_list_only_heating.append([NPV_ASHP,\n",
    "                     NPV_furnace, \n",
    "                     NPV_util,\n",
    "                     NPV_prop_sav])\n",
    "\n",
    "NPV_df = pd.DataFrame({\n",
    "    'dr02':NPV_list[0],\n",
    "    'dr05':NPV_list[1],\n",
    "    'dr07':NPV_list[2]\n",
    "})\n",
    "\n",
    "NPV_df_only_heating = pd.DataFrame({\n",
    "    'dr02':NPV_list_only_heating[0],\n",
    "    'dr05':NPV_list_only_heating[1],\n",
    "    'dr07':NPV_list_only_heating[2]\n",
    "})"
   ]
  },
  {
   "cell_type": "code",
   "execution_count": 318,
   "metadata": {},
   "outputs": [
    {
     "data": {
      "text/html": [
       "<div>\n",
       "<style scoped>\n",
       "    .dataframe tbody tr th:only-of-type {\n",
       "        vertical-align: middle;\n",
       "    }\n",
       "\n",
       "    .dataframe tbody tr th {\n",
       "        vertical-align: top;\n",
       "    }\n",
       "\n",
       "    .dataframe thead th {\n",
       "        text-align: right;\n",
       "    }\n",
       "</style>\n",
       "<table border=\"1\" class=\"dataframe\">\n",
       "  <thead>\n",
       "    <tr style=\"text-align: right;\">\n",
       "      <th></th>\n",
       "      <th>dr02</th>\n",
       "      <th>dr05</th>\n",
       "      <th>dr07</th>\n",
       "    </tr>\n",
       "  </thead>\n",
       "  <tbody>\n",
       "    <tr>\n",
       "      <th>NPV_ASHP</th>\n",
       "      <td>-17496.413800</td>\n",
       "      <td>-14133.634362</td>\n",
       "      <td>-12401.942904</td>\n",
       "    </tr>\n",
       "    <tr>\n",
       "      <th>NPV_Elec_WH</th>\n",
       "      <td>-1808.000000</td>\n",
       "      <td>-1808.000000</td>\n",
       "      <td>-1808.000000</td>\n",
       "    </tr>\n",
       "    <tr>\n",
       "      <th>NPV_Elec_Stove</th>\n",
       "      <td>-1000.000000</td>\n",
       "      <td>-1000.000000</td>\n",
       "      <td>-1000.000000</td>\n",
       "    </tr>\n",
       "    <tr>\n",
       "      <th>NPV_WH_Util_Increase</th>\n",
       "      <td>-2035.771998</td>\n",
       "      <td>-1643.617644</td>\n",
       "      <td>-1441.801495</td>\n",
       "    </tr>\n",
       "    <tr>\n",
       "      <th>NPV_Furnace_Replace</th>\n",
       "      <td>9571.288068</td>\n",
       "      <td>8791.561341</td>\n",
       "      <td>8325.980254</td>\n",
       "    </tr>\n",
       "    <tr>\n",
       "      <th>NPV_Gas_WH_Replace</th>\n",
       "      <td>3034.158270</td>\n",
       "      <td>2406.163932</td>\n",
       "      <td>2069.042367</td>\n",
       "    </tr>\n",
       "    <tr>\n",
       "      <th>NPV_Stove_Replace</th>\n",
       "      <td>853.490371</td>\n",
       "      <td>676.839362</td>\n",
       "      <td>582.009105</td>\n",
       "    </tr>\n",
       "    <tr>\n",
       "      <th>NPV_Utility_Savings</th>\n",
       "      <td>2104.494903</td>\n",
       "      <td>1586.732024</td>\n",
       "      <td>1329.069604</td>\n",
       "    </tr>\n",
       "    <tr>\n",
       "      <th>NPV_Prop_Insur_Savings</th>\n",
       "      <td>1027.941080</td>\n",
       "      <td>830.372643</td>\n",
       "      <td>728.633120</td>\n",
       "    </tr>\n",
       "    <tr>\n",
       "      <th>NPV_GCC</th>\n",
       "      <td>3854.779050</td>\n",
       "      <td>3113.897411</td>\n",
       "      <td>2732.374202</td>\n",
       "    </tr>\n",
       "  </tbody>\n",
       "</table>\n",
       "</div>"
      ],
      "text/plain": [
       "                                dr02          dr05          dr07\n",
       "NPV_ASHP               -17496.413800 -14133.634362 -12401.942904\n",
       "NPV_Elec_WH             -1808.000000  -1808.000000  -1808.000000\n",
       "NPV_Elec_Stove          -1000.000000  -1000.000000  -1000.000000\n",
       "NPV_WH_Util_Increase    -2035.771998  -1643.617644  -1441.801495\n",
       "NPV_Furnace_Replace      9571.288068   8791.561341   8325.980254\n",
       "NPV_Gas_WH_Replace       3034.158270   2406.163932   2069.042367\n",
       "NPV_Stove_Replace         853.490371    676.839362    582.009105\n",
       "NPV_Utility_Savings      2104.494903   1586.732024   1329.069604\n",
       "NPV_Prop_Insur_Savings   1027.941080    830.372643    728.633120\n",
       "NPV_GCC                  3854.779050   3113.897411   2732.374202"
      ]
     },
     "execution_count": 318,
     "metadata": {},
     "output_type": "execute_result"
    }
   ],
   "source": [
    "NPV_df.index = [\"NPV_ASHP\",\n",
    "                     \"NPV_Elec_WH\",\n",
    "                     \"NPV_Elec_Stove\",\n",
    "                     \"NPV_WH_Util_Increase\", \n",
    "                     \"NPV_Furnace_Replace\", \n",
    "                     \"NPV_Gas_WH_Replace\", \n",
    "                     \"NPV_Stove_Replace\",\n",
    "                     \"NPV_Utility_Savings\",\n",
    "                     \"NPV_Prop_Insur_Savings\",\n",
    "                     \"NPV_GCC\"]\n",
    "NPV_df"
   ]
  },
  {
   "cell_type": "code",
   "execution_count": 319,
   "metadata": {},
   "outputs": [
    {
     "data": {
      "text/html": [
       "<div>\n",
       "<style scoped>\n",
       "    .dataframe tbody tr th:only-of-type {\n",
       "        vertical-align: middle;\n",
       "    }\n",
       "\n",
       "    .dataframe tbody tr th {\n",
       "        vertical-align: top;\n",
       "    }\n",
       "\n",
       "    .dataframe thead th {\n",
       "        text-align: right;\n",
       "    }\n",
       "</style>\n",
       "<table border=\"1\" class=\"dataframe\">\n",
       "  <thead>\n",
       "    <tr style=\"text-align: right;\">\n",
       "      <th></th>\n",
       "      <th>dr02</th>\n",
       "      <th>dr05</th>\n",
       "      <th>dr07</th>\n",
       "    </tr>\n",
       "  </thead>\n",
       "  <tbody>\n",
       "    <tr>\n",
       "      <th>NPV_ASHP</th>\n",
       "      <td>-17496.413800</td>\n",
       "      <td>-14133.634362</td>\n",
       "      <td>-12401.942904</td>\n",
       "    </tr>\n",
       "    <tr>\n",
       "      <th>NPV_Furnace_Replace</th>\n",
       "      <td>9571.288068</td>\n",
       "      <td>8791.561341</td>\n",
       "      <td>8325.980254</td>\n",
       "    </tr>\n",
       "    <tr>\n",
       "      <th>NPV_Utility_Savings</th>\n",
       "      <td>2104.494903</td>\n",
       "      <td>1586.732024</td>\n",
       "      <td>1329.069604</td>\n",
       "    </tr>\n",
       "    <tr>\n",
       "      <th>NPV_Prop_Insur_Savings</th>\n",
       "      <td>1027.941080</td>\n",
       "      <td>830.372643</td>\n",
       "      <td>728.633120</td>\n",
       "    </tr>\n",
       "  </tbody>\n",
       "</table>\n",
       "</div>"
      ],
      "text/plain": [
       "                                dr02          dr05          dr07\n",
       "NPV_ASHP               -17496.413800 -14133.634362 -12401.942904\n",
       "NPV_Furnace_Replace      9571.288068   8791.561341   8325.980254\n",
       "NPV_Utility_Savings      2104.494903   1586.732024   1329.069604\n",
       "NPV_Prop_Insur_Savings   1027.941080    830.372643    728.633120"
      ]
     },
     "execution_count": 319,
     "metadata": {},
     "output_type": "execute_result"
    }
   ],
   "source": [
    "NPV_df_only_heating.index = [\"NPV_ASHP\",\n",
    "                     \"NPV_Furnace_Replace\", \n",
    "                     \"NPV_Utility_Savings\",\n",
    "                     \"NPV_Prop_Insur_Savings\"]\n",
    "NPV_df_only_heating"
   ]
  },
  {
   "cell_type": "code",
   "execution_count": 320,
   "metadata": {},
   "outputs": [
    {
     "data": {
      "text/plain": [
       "-1894.0340565015035"
      ]
     },
     "execution_count": 320,
     "metadata": {},
     "output_type": "execute_result"
    }
   ],
   "source": [
    "dr02_NPV_full = NPV_df[\"dr02\"].sum()\n",
    "dr02_NPV_full"
   ]
  },
  {
   "cell_type": "code",
   "execution_count": 321,
   "metadata": {},
   "outputs": [
    {
     "data": {
      "text/plain": [
       "-4792.689749557114"
      ]
     },
     "execution_count": 321,
     "metadata": {},
     "output_type": "execute_result"
    }
   ],
   "source": [
    "dr02_NPV_only_heat = NPV_df_only_heating[\"dr02\"].sum()\n",
    "dr02_NPV_only_heat"
   ]
  },
  {
   "cell_type": "code",
   "execution_count": 322,
   "metadata": {},
   "outputs": [
    {
     "data": {
      "text/plain": [
       "-1179.6852923812476"
      ]
     },
     "execution_count": 322,
     "metadata": {},
     "output_type": "execute_result"
    }
   ],
   "source": [
    "dr05_NPV_full = NPV_df[\"dr05\"].sum()\n",
    "dr05_NPV_full"
   ]
  },
  {
   "cell_type": "code",
   "execution_count": 323,
   "metadata": {},
   "outputs": [
    {
     "data": {
      "text/plain": [
       "-2924.968354144876"
      ]
     },
     "execution_count": 323,
     "metadata": {},
     "output_type": "execute_result"
    }
   ],
   "source": [
    "dr05_NPV_only_heat = NPV_df_only_heating[\"dr05\"].sum()\n",
    "dr05_NPV_only_heat"
   ]
  },
  {
   "cell_type": "code",
   "execution_count": 324,
   "metadata": {},
   "outputs": [
    {
     "data": {
      "text/plain": [
       "-884.6357476852195"
      ]
     },
     "execution_count": 324,
     "metadata": {},
     "output_type": "execute_result"
    }
   ],
   "source": [
    "dr07_NPV_full = NPV_df[\"dr07\"].sum()\n",
    "dr07_NPV_full"
   ]
  },
  {
   "cell_type": "code",
   "execution_count": 325,
   "metadata": {},
   "outputs": [
    {
     "data": {
      "text/plain": [
       "-2018.2599259585"
      ]
     },
     "execution_count": 325,
     "metadata": {},
     "output_type": "execute_result"
    }
   ],
   "source": [
    "dr07_NPV_only_heat = NPV_df_only_heating[\"dr07\"].sum()\n",
    "dr07_NPV_only_heat"
   ]
  },
  {
   "cell_type": "markdown",
   "metadata": {},
   "source": [
    "## 9.2 Putting NPV into Equivalent Monthly Payments"
   ]
  },
  {
   "cell_type": "code",
   "execution_count": 326,
   "metadata": {},
   "outputs": [],
   "source": [
    "# Function to put NPV into equivalent monthly payments over 15 years\n",
    "# It will keep assume different annual payments incrementally and then calculate NPV\n",
    "# Once the calculated NPV is greater than the target result it stops and provides equivalent monthly payment\n",
    "# It overshoots the target value but that's ok because in the report it is rounding to the nearest dollar anyway\n",
    "\n",
    "def equiv_payments(target, dr):\n",
    "    result = 0 \n",
    "    payment = 0\n",
    "    years = [1,2,3,4,5,6,7,8,9,10,11,12,13,14,15]\n",
    "    while result < target: \n",
    "        NPV_ = 0\n",
    "        payment = payment + 1 # increments payments - this ANNUAL payment\n",
    "        for yr in years: \n",
    "            NPV_ = NPV_ + NPV(yr,dr,payment) # calc NPV\n",
    "        result = NPV_\n",
    "    print(NPV_)\n",
    "    return payment/12 # Put it into monthly     \n",
    "    \n",
    "    "
   ]
  },
  {
   "cell_type": "code",
   "execution_count": 327,
   "metadata": {},
   "outputs": [
    {
     "name": "stdout",
     "output_type": "stream",
     "text": [
      "1901.6909980849584\n"
     ]
    },
    {
     "data": {
      "text/plain": [
       "12.333333333333334"
      ]
     },
     "execution_count": 327,
     "metadata": {},
     "output_type": "execute_result"
    }
   ],
   "source": [
    "# Discount rate 2% full elec\n",
    "equiv_payments(-1*dr02_NPV_full,0.02) "
   ]
  },
  {
   "cell_type": "code",
   "execution_count": 328,
   "metadata": {},
   "outputs": [
    {
     "name": "stdout",
     "output_type": "stream",
     "text": [
      "4792.7752857141195\n"
     ]
    },
    {
     "data": {
      "text/plain": [
       "31.083333333333332"
      ]
     },
     "execution_count": 328,
     "metadata": {},
     "output_type": "execute_result"
    }
   ],
   "source": [
    "# Discount rate 2% only heat\n",
    "equiv_payments(-1*dr02_NPV_only_heat,0.02) "
   ]
  },
  {
   "cell_type": "code",
   "execution_count": 329,
   "metadata": {},
   "outputs": [
    {
     "name": "stdout",
     "output_type": "stream",
     "text": [
      "1183.2810163525874\n"
     ]
    },
    {
     "data": {
      "text/plain": [
       "9.5"
      ]
     },
     "execution_count": 329,
     "metadata": {},
     "output_type": "execute_result"
    }
   ],
   "source": [
    "# Discount rate 5% full elec\n",
    "equiv_payments(-1*dr05_NPV_full,0.05) "
   ]
  },
  {
   "cell_type": "code",
   "execution_count": 330,
   "metadata": {},
   "outputs": [
    {
     "name": "stdout",
     "output_type": "stream",
     "text": [
      "2927.063566766926\n"
     ]
    },
    {
     "data": {
      "text/plain": [
       "23.5"
      ]
     },
     "execution_count": 330,
     "metadata": {},
     "output_type": "execute_result"
    }
   ],
   "source": [
    "# Discount rate 5% only heat\n",
    "equiv_payments(-1*dr05_NPV_only_heat,0.05) "
   ]
  },
  {
   "cell_type": "code",
   "execution_count": 331,
   "metadata": {},
   "outputs": [
    {
     "name": "stdout",
     "output_type": "stream",
     "text": [
      "892.5755725006961\n"
     ]
    },
    {
     "data": {
      "text/plain": [
       "8.166666666666666"
      ]
     },
     "execution_count": 331,
     "metadata": {},
     "output_type": "execute_result"
    }
   ],
   "source": [
    "# Discount rate 7% full elec\n",
    "equiv_payments(-1*dr07_NPV_full,0.07) "
   ]
  },
  {
   "cell_type": "code",
   "execution_count": 332,
   "metadata": {},
   "outputs": [
    {
     "name": "stdout",
     "output_type": "stream",
     "text": [
      "2021.9569091342296\n"
     ]
    },
    {
     "data": {
      "text/plain": [
       "18.5"
      ]
     },
     "execution_count": 332,
     "metadata": {},
     "output_type": "execute_result"
    }
   ],
   "source": [
    "# Discount rate 7% only heat\n",
    "equiv_payments(-1*dr07_NPV_only_heat,0.07) "
   ]
  }
 ],
 "metadata": {
  "kernelspec": {
   "display_name": "Python 3",
   "language": "python",
   "name": "python3"
  },
  "language_info": {
   "codemirror_mode": {
    "name": "ipython",
    "version": 3
   },
   "file_extension": ".py",
   "mimetype": "text/x-python",
   "name": "python",
   "nbconvert_exporter": "python",
   "pygments_lexer": "ipython3",
   "version": "3.7.3"
  }
 },
 "nbformat": 4,
 "nbformat_minor": 2
}
